{
 "cells": [
  {
   "cell_type": "code",
   "execution_count": 1,
   "id": "agreed-initial",
   "metadata": {},
   "outputs": [],
   "source": [
    "from sklearn.feature_extraction.text import CountVectorizer\n",
    "from nltk.stem import WordNetLemmatizer\n",
    "from nltk.corpus import stopwords\n",
    "from nltk.corpus import wordnet\n",
    "import matplotlib.pyplot as plt\n",
    "from tqdm.notebook import tqdm\n",
    "from operator import add\n",
    "import tomotopy as tp\n",
    "import pandas as pd\n",
    "import numpy as np\n",
    "import string\n",
    "import nltk\n",
    "import sys\n",
    "import os\n",
    "import re"
   ]
  },
  {
   "cell_type": "code",
   "execution_count": 2,
   "id": "light-third",
   "metadata": {},
   "outputs": [],
   "source": [
    "%matplotlib inline"
   ]
  },
  {
   "cell_type": "code",
   "execution_count": 3,
   "id": "confused-enough",
   "metadata": {},
   "outputs": [
    {
     "name": "stdout",
     "output_type": "stream",
     "text": [
      "Good to go!\n"
     ]
    },
    {
     "name": "stderr",
     "output_type": "stream",
     "text": [
      "[nltk_data] Downloading package stopwords to\n",
      "[nltk_data]     C:\\Users\\denis\\AppData\\Roaming\\nltk_data...\n",
      "[nltk_data]   Package stopwords is already up-to-date!\n",
      "[nltk_data] Downloading package wordnet to\n",
      "[nltk_data]     C:\\Users\\denis\\AppData\\Roaming\\nltk_data...\n",
      "[nltk_data]   Package wordnet is already up-to-date!\n",
      "[nltk_data] Downloading package averaged_perceptron_tagger to\n",
      "[nltk_data]     C:\\Users\\denis\\AppData\\Roaming\\nltk_data...\n",
      "[nltk_data]   Package averaged_perceptron_tagger is already up-to-\n",
      "[nltk_data]       date!\n",
      "[nltk_data] Downloading package punkt to\n",
      "[nltk_data]     C:\\Users\\denis\\AppData\\Roaming\\nltk_data...\n",
      "[nltk_data]   Package punkt is already up-to-date!\n"
     ]
    }
   ],
   "source": [
    "print( \"Good to go!\" if (nltk.download(\"stopwords\") and \n",
    "                         nltk.download('wordnet') and \n",
    "                         nltk.download('averaged_perceptron_tagger') and\n",
    "                         nltk.download('punkt')) else \"Error downloading requirements\")"
   ]
  },
  {
   "cell_type": "markdown",
   "id": "fundamental-stick",
   "metadata": {},
   "source": [
    "# <center> Reading Diagonally </center>\n",
    "<center>By Denis Zahariev</center>"
   ]
  },
  {
   "cell_type": "markdown",
   "id": "conscious-delight",
   "metadata": {},
   "source": [
    "Download this notebook from: TODO"
   ]
  },
  {
   "cell_type": "markdown",
   "id": "informed-agency",
   "metadata": {},
   "source": [
    "<br>\n",
    "<br>\n",
    "<center style=\"font-size: 22px\"><strong>Abstract</strong></center>\n",
    "<br>\n",
    "<center>How can a single person understand what is going on in a collection of millions of documents? \n",
    "<br>This is an increasingly common problem: scrolling through an organization’s e-mails, understanding a decade worth of newspapers, or characterizing a scientific field’s research. This and other similar questions are the problem that Natural Language Processing (<strong>NLP</strong>) is searching answers for. While that abbreviation sums up many sub-categories, in this paper we are going to explore data preparation and topic modeling with 2 Machine Learning models with objective of  demonstrating the topic distribution of various documents at the end.</center>"
   ]
  },
  {
   "cell_type": "markdown",
   "id": "prerequisite-stationery",
   "metadata": {},
   "source": [
    "### Table of contents:\n",
    "1. [Introduction](#introduction)\n",
    "    1. [What is a Topic model?](#What_is_a_Topic_model?)\n",
    "    2. [What is LDA?](#What_is_LDA?)\n",
    "    3. [What is PAM?](#What_is_PAM?)\n",
    "        1. [What is Directed Acyclic Graph?](#What_is_Directed_Acyclic_Graph?)\n",
    "<br>\n",
    "<br>\n",
    "2. [Exploring our data](#Exploring_our_data)\n",
    "    1. [Exploring the DF dataset](#Exploring_the_DF_dataset)\n",
    "        1. [Reading the dataset](#Reading_the_dataset_df)\n",
    "        2. [Data tidying and cleaning](#Data_tidying_and_cleaning_df)\n",
    "        3. [Stemming vs Lemmatization](#Stemming_vs_Lemmatization)\n",
    "    2. [Exploring the TM dataset](#Exploring_the_TM_dataset)\n",
    "        1. [Reading the dataset](#Reading_the_dataset_tm)\n",
    "        2. [Data tidying and cleaning](#Data_tidying_and_cleaning_tm)\n",
    "    3. [Content comparison](#Content_comparison)\n",
    "<br>\n",
    "<br>\n",
    "3. [Latent Dirichlet Allocation](#LDA)\n",
    "    1. [Assumptions](#Assumptions_LDA)\n",
    "    2. [Preparing our data](#Preparing_our_data_LDA)\n",
    "    3. [Implementation](#Implementation_LDA)\n",
    "    4. [Gibbs Sampling](#Gibbs_Sampling)\n",
    "    5. [Application](#Applications)\n",
    "<br>\n",
    "<br>   \n",
    "4. [Pachinko Allocation Model](#PAM)\n",
    "    1. [Assumptions](#Assumptions_PAM)\n",
    "    2. [Preparing our data](#Preparing_our_data_PAM)\n",
    "    3. [Example](#Example_PAM)\n",
    "<br>\n",
    "<br>  \n",
    "5. [Model Comparisson](#Model_Comparisson)\n",
    "    1. [Performance](#Performance)\n",
    "    2. [Accuracy](#Accuracy)\n",
    "<br>\n",
    "<br> \n",
    "6. [Conclusion](#Conclusion)\n",
    "   "
   ]
  },
  {
   "cell_type": "markdown",
   "id": "collect-weekend",
   "metadata": {},
   "source": [
    "# <div class=\"alert alert-block alert-info\">1. Introduction </div> <a class=\"anchor\" id=\"introduction\"></a>"
   ]
  },
  {
   "cell_type": "markdown",
   "id": "precise-serve",
   "metadata": {},
   "source": [
    "## 1.A What is a Topic model? <a class=\"anchor\" id=\"introduction\"></a>"
   ]
  },
  {
   "cell_type": "markdown",
   "id": "visible-bicycle",
   "metadata": {},
   "source": [
    "In Machine Learning(__ML__) and __NLP__, a topic model is a type of statistical model, usually __unsupervised__, for discovering the abstract \"topics\" that occur in a collection of documents. Unsupervised classification is such one that doesn't require human help to train itself. to Topic modeling is a frequently used text-mining tool for discovery of hidden semantic structures in a text body or in a collection of texts. "
   ]
  },
  {
   "cell_type": "markdown",
   "id": "future-probability",
   "metadata": {},
   "source": [
    "In a practical and more intuitively, you can think of it as a task of:\n",
    "<br><br>\n",
    "* __Dimensionality Reduction__, where rather than representing a text T in its feature space as \n",
    "```python \n",
    "{Word_i: count(Word_i, T) for Word_i in Vocabulary}\n",
    "```\n",
    ", you can represent it in a topic space as \n",
    "```python \n",
    "{Topic_i: Weight(Topic_i, T) for Topic_i in Topics}\n",
    "```\n",
    "\n",
    "Intuitively, given that a document is about a particular topic, one would expect particular words to appear in the document more or less frequently: \"dog\" and \"bone\" will appear more often in documents about dogs, \"cat\" and \"meow\" will appear in documents about cats, and \"the\" and \"is\" will appear approximately equally in both.\n",
    "\n",
    "\n",
    "* __Unsupervised Learning__, where it can be compared to clustering, as in the case of clustering, the number of topics, like the number of clusters, is an output parameter. By doing topic modeling, we build clusters of words rather than clusters of texts. A text is thus a mixture of all the topics, each having a specific weight\n",
    "\n",
    "\n",
    "* __Tagging__, abstract “topics” that occur in a collection of documents that best represents the information in them.\n",
    "There are several existing algorithms you can use to perform the topic modeling. The most common of it are, Latent Semantic Analysis (LSA/LSI), Probabilistic Latent Semantic Analysis (pLSA), and Latent Dirichlet Allocation (LDA)\n",
    "In this paper, we’ll take a closer look at LDA, and implement our first topic model using the sklearn implementation in python 2.7"
   ]
  },
  {
   "cell_type": "markdown",
   "id": "exciting-national",
   "metadata": {},
   "source": [
    "## 1.B What is LDA? <a class=\"anchor\" id=\"What_is_LDA\"></a>"
   ]
  },
  {
   "cell_type": "markdown",
   "id": "hispanic-southwest",
   "metadata": {},
   "source": [
    "Latent Dirichlet Allocation (__LDA__) model is a generative statisitcal model of a collection of documents. The idea is that documents are represented as random mixtures over latent topics, where each topic is characterized by a distribution over words. The idea behind LDA in one sentence is that\n",
    "<br>\n",
    "<br>\n",
    "<center><i>Each document can be described by a distribution of topics and each topic can be described by a distribution of words.</i></center>"
   ]
  },
  {
   "cell_type": "markdown",
   "id": "opponent-graduation",
   "metadata": {},
   "source": [
    "## 1.B What is PAM? <a class=\"anchor\" id=\"What_is_PAM\"></a>"
   ]
  },
  {
   "cell_type": "markdown",
   "id": "amazing-olive",
   "metadata": {},
   "source": [
    "\n",
    "The Pachinko Allocation Model (__PAM__) is yet another of the many topic models, but this one is invented to fix a huge limitation of the LDA method. \n",
    "<br>\n",
    "<br>\n",
    "It captures arbitrary, nested and sparse correlations between topics using Directed Acyclic Graph (__DAG__). The algorithm improves upon earlier topic models, including Latent Dirichlet allocation (LDA) by modeling correlations between topics in addition to the word correlations which constitute topics. The list of all words obtained from the corpus after removing the stopwords and text processing represents the dirichlet distribution.  __PAM__ provides more flexibility and greater expressive power than the Latent Dirichlet Allocation. While first described and implemented in the context of natural language processing, the algorithm has applications in other fields like bioinformatics.\n",
    "<br>\n",
    "<br>\n",
    "The model is named after a popular game in Japan - Pachinko, in which metal balls bounce down around a complex collection of pins until they land in various bins at the bottom."
   ]
  },
  {
   "cell_type": "markdown",
   "id": "hired-peoples",
   "metadata": {},
   "source": [
    "### What is Directed Acyclic Graph? <a class=\"anchor\" id=\"What_is_Directed_Acyclic_Graph?\"></a>"
   ]
  },
  {
   "cell_type": "markdown",
   "id": "fiscal-finding",
   "metadata": {},
   "source": [
    "In a PAM, each of the topic generated is associated with the dirichlet distribution through a Directed Acyclic Graph.\n",
    "<br>"
   ]
  },
  {
   "cell_type": "markdown",
   "id": "rural-cream",
   "metadata": {},
   "source": [
    "A graph in Computer Science represents a network that contains __nodes__ and __edges__ between them:"
   ]
  },
  {
   "cell_type": "markdown",
   "id": "pharmaceutical-baltimore",
   "metadata": {},
   "source": [
    "<center>\n",
    "    <figure>\n",
    "        <img src = https://cs.slu.edu/~esposito/teaching/1080/webscience/images/6nodes-graph.jpg></img>\n",
    "    <figcaption><strong>Graph Example</strong></figcaption>\n",
    "</figure></center>"
   ]
  },
  {
   "cell_type": "markdown",
   "id": "subjective-tobago",
   "metadata": {},
   "source": [
    "### Characteristics"
   ]
  },
  {
   "cell_type": "markdown",
   "id": "other-approach",
   "metadata": {},
   "source": [
    "<u>__Graphs can be directed and undirected.__</u>\n",
    "<br><br>\n",
    "The edges or __links__ between nodes can be oriented or not.\n",
    "\n",
    "<center>\n",
    "    <figure>\n",
    "        <img src = https://s3.ap-south-1.amazonaws.com/s3.studytonight.com/tutorials/uploads/pictures/1601571315-76844.png alt=\"Undirected graph\"></img>\n",
    "    <figcaption><strong>Undirected graph</strong></figcaption>\n",
    "    </figure>\n",
    "</center>\n",
    "<br>\n",
    "<br>\n",
    "When the links are directed, they are only \"visible\" in the direction they are oriented. However, nothing stops us from having two back oriented links between two nodes, in this case the link can be treated as undirected.\n",
    "\n",
    "<center>\n",
    "    <figure>\n",
    "        <img src = https://s3.ap-south-1.amazonaws.com/s3.studytonight.com/tutorials/uploads/pictures/1601571633-76844.png alt=\"Directed graph\"></img>\n",
    "        <figcaption><strong>Directed graph</strong></figcaption>\n",
    "    </figure>\n",
    "</center>\n",
    "\n"
   ]
  },
  {
   "cell_type": "markdown",
   "id": "freelance-amateur",
   "metadata": {},
   "source": [
    "<u>__Graphs can be cyclic and acyclic.__</u>\n",
    "<br><br>\n",
    "In the context of directed graphs, a __cyclic__ graph contains atleast 1 __graph cycle__.\n",
    "\n",
    "<center>\n",
    "    <figure>\n",
    "        <img src = https://s3.ap-south-1.amazonaws.com/s3.studytonight.com/tutorials/uploads/pictures/1601573458-76844.png alt=\"Cyclic graph\"></img>\n",
    "    <figcaption><strong>Cyclic graph</strong></figcaption>\n",
    "    </figure>\n",
    "</center>\n",
    "<br>\n",
    "<br>\n",
    "\n",
    "<center>\n",
    "    <figure>\n",
    "        <img src = https://s3.ap-south-1.amazonaws.com/s3.studytonight.com/tutorials/uploads/pictures/1601575738-76844.png alt=\"Directed graph\"></img>\n",
    "        <figcaption><strong>Acyclic graph</strong></figcaption>\n",
    "    </figure>\n",
    "</center>"
   ]
  },
  {
   "cell_type": "markdown",
   "id": "partial-county",
   "metadata": {},
   "source": [
    "<u>__Graphs can be weighted.__</u>\n",
    "<br><br>\n",
    "Both undirected and directed graphs' edges can be weighted.\n",
    "<center>\n",
    "    <figure>\n",
    "        <img src = https://s3.ap-south-1.amazonaws.com/s3.studytonight.com/tutorials/uploads/pictures/1601622376-76844.png alt=\"Cyclic graph\"></img>\n",
    "    <figcaption><strong>Weighted graph</strong></figcaption>\n",
    "    </figure>\n",
    "</center>\n",
    "<br>\n",
    "<br>\n",
    "\n",
    "This concept takes place in all maps, navigations and many pathfinding algorithms. It is threated like a __cost__ of moving through that edge or a coefficient. \n",
    "<br>\n",
    "For this notebook, we will not need the whole theory around graphs. For the ones who are willing to learn the rest, there is a good online article <a href=\"https://www.studytonight.com/advanced-data-structures/introduction-to-graphs\">here</a>."
   ]
  },
  {
   "cell_type": "markdown",
   "id": "integral-brass",
   "metadata": {},
   "source": [
    "# <div class=\"alert alert-block alert-info\">2. Exploring our data </div> <a class=\"anchor\" id=\"Exploring_our_data\"></a>"
   ]
  },
  {
   "cell_type": "markdown",
   "id": "dramatic-order",
   "metadata": {},
   "source": [
    "For this project I have chosen 2 datasets containing research articles and topics. Both have been used in different hackatons recently. The first dataset, used in HackLive 3 and can be found <a href=\"https://www.kaggle.com/anmolkumar/topic-modeling-for-research-articles-20/tasks?taskId=2470\">here</a>. In the code below it has a prefix `df`. The second dataset, later used with prefix `tm`, has been presented in Janatahack, inspired by the global pandemic. You can find it <a href=\"https://www.kaggle.com/blessondensil294/topic-modeling-for-research-articles\">here</a>.\n",
    "<br>\n",
    "<br>\n",
    "Those datasets have been chosen for several reasons. They are very suitable for topic modeling and provide domain-oriented topics, which raises the bar for models that need to distinguish the hidden topics and for us, respectively, to train them. Originally they come in pairs of training dataset and testing dataset. Later we will exclude 2 of them and explain why each of them is not suitable for this paper and how we are going to get around that."
   ]
  },
  {
   "cell_type": "markdown",
   "id": "running-provision",
   "metadata": {},
   "source": [
    "## 2.1 Exploring the DF dataset <a class=\"anchor\" id=\"Exploring_the_DF_dataset \"></a>"
   ]
  },
  {
   "cell_type": "markdown",
   "id": "necessary-modification",
   "metadata": {},
   "source": [
    "### 2.1.A Reading the dataset <a class=\"anchor\" id=\"Reading_the_dataset_df\"></a>"
   ]
  },
  {
   "cell_type": "code",
   "execution_count": 4,
   "id": "suited-final",
   "metadata": {},
   "outputs": [],
   "source": [
    "df_train = pd.read_csv(\"Datasets\\\\research-articles\\\\train.csv\")\n",
    "df_test = pd.read_csv(\"Datasets\\\\research-articles\\\\test.csv\")"
   ]
  },
  {
   "cell_type": "code",
   "execution_count": 5,
   "id": "outdoor-japan",
   "metadata": {},
   "outputs": [
    {
     "data": {
      "text/html": [
       "<div>\n",
       "<style scoped>\n",
       "    .dataframe tbody tr th:only-of-type {\n",
       "        vertical-align: middle;\n",
       "    }\n",
       "\n",
       "    .dataframe tbody tr th {\n",
       "        vertical-align: top;\n",
       "    }\n",
       "\n",
       "    .dataframe thead th {\n",
       "        text-align: right;\n",
       "    }\n",
       "</style>\n",
       "<table border=\"1\" class=\"dataframe\">\n",
       "  <thead>\n",
       "    <tr style=\"text-align: right;\">\n",
       "      <th></th>\n",
       "      <th>id</th>\n",
       "      <th>ABSTRACT</th>\n",
       "      <th>Computer Science</th>\n",
       "      <th>Mathematics</th>\n",
       "      <th>Physics</th>\n",
       "      <th>Statistics</th>\n",
       "    </tr>\n",
       "  </thead>\n",
       "  <tbody>\n",
       "    <tr>\n",
       "      <th>0</th>\n",
       "      <td>9409</td>\n",
       "      <td>fundamental frequency (f0) approximation from ...</td>\n",
       "      <td>0</td>\n",
       "      <td>0</td>\n",
       "      <td>0</td>\n",
       "      <td>1</td>\n",
       "    </tr>\n",
       "    <tr>\n",
       "      <th>1</th>\n",
       "      <td>17934</td>\n",
       "      <td>this large-scale study, consisting of 24.5 mil...</td>\n",
       "      <td>1</td>\n",
       "      <td>0</td>\n",
       "      <td>0</td>\n",
       "      <td>1</td>\n",
       "    </tr>\n",
       "    <tr>\n",
       "      <th>2</th>\n",
       "      <td>16071</td>\n",
       "      <td>we present a stability analysis of the plane c...</td>\n",
       "      <td>0</td>\n",
       "      <td>0</td>\n",
       "      <td>1</td>\n",
       "      <td>0</td>\n",
       "    </tr>\n",
       "    <tr>\n",
       "      <th>3</th>\n",
       "      <td>16870</td>\n",
       "      <td>we construct finite time blow-up solutions to ...</td>\n",
       "      <td>0</td>\n",
       "      <td>1</td>\n",
       "      <td>0</td>\n",
       "      <td>0</td>\n",
       "    </tr>\n",
       "    <tr>\n",
       "      <th>4</th>\n",
       "      <td>10496</td>\n",
       "      <td>planetary nebulae (pne) constitute an importan...</td>\n",
       "      <td>0</td>\n",
       "      <td>0</td>\n",
       "      <td>1</td>\n",
       "      <td>0</td>\n",
       "    </tr>\n",
       "  </tbody>\n",
       "</table>\n",
       "</div>"
      ],
      "text/plain": [
       "      id                                           ABSTRACT  Computer Science  \\\n",
       "0   9409  fundamental frequency (f0) approximation from ...                 0   \n",
       "1  17934  this large-scale study, consisting of 24.5 mil...                 1   \n",
       "2  16071  we present a stability analysis of the plane c...                 0   \n",
       "3  16870  we construct finite time blow-up solutions to ...                 0   \n",
       "4  10496  planetary nebulae (pne) constitute an importan...                 0   \n",
       "\n",
       "   Mathematics  Physics  Statistics  \n",
       "0            0        0           1  \n",
       "1            0        0           1  \n",
       "2            0        1           0  \n",
       "3            1        0           0  \n",
       "4            0        1           0  "
      ]
     },
     "execution_count": 5,
     "metadata": {},
     "output_type": "execute_result"
    }
   ],
   "source": [
    "df_test.head()"
   ]
  },
  {
   "cell_type": "code",
   "execution_count": 6,
   "id": "spiritual-draft",
   "metadata": {},
   "outputs": [
    {
     "data": {
      "text/html": [
       "<div>\n",
       "<style scoped>\n",
       "    .dataframe tbody tr th:only-of-type {\n",
       "        vertical-align: middle;\n",
       "    }\n",
       "\n",
       "    .dataframe tbody tr th {\n",
       "        vertical-align: top;\n",
       "    }\n",
       "\n",
       "    .dataframe thead th {\n",
       "        text-align: right;\n",
       "    }\n",
       "</style>\n",
       "<table border=\"1\" class=\"dataframe\">\n",
       "  <thead>\n",
       "    <tr style=\"text-align: right;\">\n",
       "      <th></th>\n",
       "      <th>id</th>\n",
       "      <th>ABSTRACT</th>\n",
       "      <th>Computer Science</th>\n",
       "      <th>Mathematics</th>\n",
       "      <th>Physics</th>\n",
       "      <th>Statistics</th>\n",
       "      <th>Analysis of PDEs</th>\n",
       "      <th>Applications</th>\n",
       "      <th>Artificial Intelligence</th>\n",
       "      <th>Astrophysics of Galaxies</th>\n",
       "      <th>...</th>\n",
       "      <th>Methodology</th>\n",
       "      <th>Number Theory</th>\n",
       "      <th>Optimization and Control</th>\n",
       "      <th>Representation Theory</th>\n",
       "      <th>Robotics</th>\n",
       "      <th>Social and Information Networks</th>\n",
       "      <th>Statistics Theory</th>\n",
       "      <th>Strongly Correlated Electrons</th>\n",
       "      <th>Superconductivity</th>\n",
       "      <th>Systems and Control</th>\n",
       "    </tr>\n",
       "  </thead>\n",
       "  <tbody>\n",
       "    <tr>\n",
       "      <th>0</th>\n",
       "      <td>1824</td>\n",
       "      <td>a ever-growing datasets inside observational a...</td>\n",
       "      <td>0</td>\n",
       "      <td>0</td>\n",
       "      <td>1</td>\n",
       "      <td>0</td>\n",
       "      <td>0</td>\n",
       "      <td>0</td>\n",
       "      <td>0</td>\n",
       "      <td>0</td>\n",
       "      <td>...</td>\n",
       "      <td>0</td>\n",
       "      <td>0</td>\n",
       "      <td>0</td>\n",
       "      <td>0</td>\n",
       "      <td>0</td>\n",
       "      <td>0</td>\n",
       "      <td>0</td>\n",
       "      <td>0</td>\n",
       "      <td>0</td>\n",
       "      <td>0</td>\n",
       "    </tr>\n",
       "    <tr>\n",
       "      <th>1</th>\n",
       "      <td>3094</td>\n",
       "      <td>we propose the framework considering optimal $...</td>\n",
       "      <td>1</td>\n",
       "      <td>0</td>\n",
       "      <td>0</td>\n",
       "      <td>0</td>\n",
       "      <td>0</td>\n",
       "      <td>0</td>\n",
       "      <td>0</td>\n",
       "      <td>0</td>\n",
       "      <td>...</td>\n",
       "      <td>0</td>\n",
       "      <td>0</td>\n",
       "      <td>0</td>\n",
       "      <td>0</td>\n",
       "      <td>0</td>\n",
       "      <td>0</td>\n",
       "      <td>0</td>\n",
       "      <td>0</td>\n",
       "      <td>0</td>\n",
       "      <td>0</td>\n",
       "    </tr>\n",
       "    <tr>\n",
       "      <th>2</th>\n",
       "      <td>8463</td>\n",
       "      <td>nanostructures with open shell transition meta...</td>\n",
       "      <td>0</td>\n",
       "      <td>0</td>\n",
       "      <td>1</td>\n",
       "      <td>0</td>\n",
       "      <td>0</td>\n",
       "      <td>0</td>\n",
       "      <td>0</td>\n",
       "      <td>0</td>\n",
       "      <td>...</td>\n",
       "      <td>0</td>\n",
       "      <td>0</td>\n",
       "      <td>0</td>\n",
       "      <td>0</td>\n",
       "      <td>0</td>\n",
       "      <td>0</td>\n",
       "      <td>0</td>\n",
       "      <td>1</td>\n",
       "      <td>0</td>\n",
       "      <td>0</td>\n",
       "    </tr>\n",
       "    <tr>\n",
       "      <th>3</th>\n",
       "      <td>2082</td>\n",
       "      <td>stars are self-gravitating fluids inside which...</td>\n",
       "      <td>0</td>\n",
       "      <td>0</td>\n",
       "      <td>1</td>\n",
       "      <td>0</td>\n",
       "      <td>0</td>\n",
       "      <td>0</td>\n",
       "      <td>0</td>\n",
       "      <td>0</td>\n",
       "      <td>...</td>\n",
       "      <td>0</td>\n",
       "      <td>0</td>\n",
       "      <td>0</td>\n",
       "      <td>0</td>\n",
       "      <td>0</td>\n",
       "      <td>0</td>\n",
       "      <td>0</td>\n",
       "      <td>0</td>\n",
       "      <td>0</td>\n",
       "      <td>0</td>\n",
       "    </tr>\n",
       "    <tr>\n",
       "      <th>4</th>\n",
       "      <td>8687</td>\n",
       "      <td>deep neural perception and control networks ar...</td>\n",
       "      <td>1</td>\n",
       "      <td>0</td>\n",
       "      <td>0</td>\n",
       "      <td>0</td>\n",
       "      <td>0</td>\n",
       "      <td>0</td>\n",
       "      <td>0</td>\n",
       "      <td>0</td>\n",
       "      <td>...</td>\n",
       "      <td>0</td>\n",
       "      <td>0</td>\n",
       "      <td>0</td>\n",
       "      <td>0</td>\n",
       "      <td>0</td>\n",
       "      <td>0</td>\n",
       "      <td>0</td>\n",
       "      <td>0</td>\n",
       "      <td>0</td>\n",
       "      <td>0</td>\n",
       "    </tr>\n",
       "  </tbody>\n",
       "</table>\n",
       "<p>5 rows × 31 columns</p>\n",
       "</div>"
      ],
      "text/plain": [
       "     id                                           ABSTRACT  Computer Science  \\\n",
       "0  1824  a ever-growing datasets inside observational a...                 0   \n",
       "1  3094  we propose the framework considering optimal $...                 1   \n",
       "2  8463  nanostructures with open shell transition meta...                 0   \n",
       "3  2082  stars are self-gravitating fluids inside which...                 0   \n",
       "4  8687  deep neural perception and control networks ar...                 1   \n",
       "\n",
       "   Mathematics  Physics  Statistics  Analysis of PDEs  Applications  \\\n",
       "0            0        1           0                 0             0   \n",
       "1            0        0           0                 0             0   \n",
       "2            0        1           0                 0             0   \n",
       "3            0        1           0                 0             0   \n",
       "4            0        0           0                 0             0   \n",
       "\n",
       "   Artificial Intelligence  Astrophysics of Galaxies  ...  Methodology  \\\n",
       "0                        0                         0  ...            0   \n",
       "1                        0                         0  ...            0   \n",
       "2                        0                         0  ...            0   \n",
       "3                        0                         0  ...            0   \n",
       "4                        0                         0  ...            0   \n",
       "\n",
       "   Number Theory  Optimization and Control  Representation Theory  Robotics  \\\n",
       "0              0                         0                      0         0   \n",
       "1              0                         0                      0         0   \n",
       "2              0                         0                      0         0   \n",
       "3              0                         0                      0         0   \n",
       "4              0                         0                      0         0   \n",
       "\n",
       "   Social and Information Networks  Statistics Theory  \\\n",
       "0                                0                  0   \n",
       "1                                0                  0   \n",
       "2                                0                  0   \n",
       "3                                0                  0   \n",
       "4                                0                  0   \n",
       "\n",
       "   Strongly Correlated Electrons  Superconductivity  Systems and Control  \n",
       "0                              0                  0                    0  \n",
       "1                              0                  0                    0  \n",
       "2                              1                  0                    0  \n",
       "3                              0                  0                    0  \n",
       "4                              0                  0                    0  \n",
       "\n",
       "[5 rows x 31 columns]"
      ]
     },
     "execution_count": 6,
     "metadata": {},
     "output_type": "execute_result"
    }
   ],
   "source": [
    "df_train.head()"
   ]
  },
  {
   "cell_type": "markdown",
   "id": "absolute-anderson",
   "metadata": {},
   "source": [
    "### 2.1.B Data tidying and cleaning <a class=\"anchor\" id=\"Data_tidying_and_cleaning_df\"></a>"
   ]
  },
  {
   "cell_type": "markdown",
   "id": "incorporated-france",
   "metadata": {},
   "source": [
    "The IDs included in the dataset won't be easy to iterate so we remove them."
   ]
  },
  {
   "cell_type": "code",
   "execution_count": 7,
   "id": "described-portsmouth",
   "metadata": {},
   "outputs": [],
   "source": [
    "df_train = df_train.drop(['id'], axis=1)\n",
    "df_test = df_test.drop(['id'], axis=1)"
   ]
  },
  {
   "cell_type": "markdown",
   "id": "neutral-fashion",
   "metadata": {},
   "source": [
    "We see that 1 of the articles contains not 1 but 2 topics - Computer Science and Statistics. Lets see how many are like this."
   ]
  },
  {
   "cell_type": "code",
   "execution_count": 8,
   "id": "beautiful-spread",
   "metadata": {},
   "outputs": [
    {
     "data": {
      "text/html": [
       "<div>\n",
       "<style scoped>\n",
       "    .dataframe tbody tr th:only-of-type {\n",
       "        vertical-align: middle;\n",
       "    }\n",
       "\n",
       "    .dataframe tbody tr th {\n",
       "        vertical-align: top;\n",
       "    }\n",
       "\n",
       "    .dataframe thead th {\n",
       "        text-align: right;\n",
       "    }\n",
       "</style>\n",
       "<table border=\"1\" class=\"dataframe\">\n",
       "  <thead>\n",
       "    <tr style=\"text-align: right;\">\n",
       "      <th></th>\n",
       "      <th>ABSTRACT</th>\n",
       "      <th>Computer Science</th>\n",
       "      <th>Mathematics</th>\n",
       "      <th>Physics</th>\n",
       "      <th>Statistics</th>\n",
       "    </tr>\n",
       "  </thead>\n",
       "  <tbody>\n",
       "    <tr>\n",
       "      <th>1</th>\n",
       "      <td>this large-scale study, consisting of 24.5 mil...</td>\n",
       "      <td>1</td>\n",
       "      <td>0</td>\n",
       "      <td>0</td>\n",
       "      <td>1</td>\n",
       "    </tr>\n",
       "    <tr>\n",
       "      <th>8</th>\n",
       "      <td>we study a problem of community detection insi...</td>\n",
       "      <td>1</td>\n",
       "      <td>1</td>\n",
       "      <td>0</td>\n",
       "      <td>1</td>\n",
       "    </tr>\n",
       "    <tr>\n",
       "      <th>21</th>\n",
       "      <td>this paper proposes the convolutional neural n...</td>\n",
       "      <td>1</td>\n",
       "      <td>0</td>\n",
       "      <td>0</td>\n",
       "      <td>1</td>\n",
       "    </tr>\n",
       "    <tr>\n",
       "      <th>22</th>\n",
       "      <td>inside this paper, we consider a usual linear ...</td>\n",
       "      <td>0</td>\n",
       "      <td>1</td>\n",
       "      <td>0</td>\n",
       "      <td>1</td>\n",
       "    </tr>\n",
       "    <tr>\n",
       "      <th>27</th>\n",
       "      <td>superconductivity has been a focus of enormous...</td>\n",
       "      <td>0</td>\n",
       "      <td>0</td>\n",
       "      <td>1</td>\n",
       "      <td>1</td>\n",
       "    </tr>\n",
       "    <tr>\n",
       "      <th>...</th>\n",
       "      <td>...</td>\n",
       "      <td>...</td>\n",
       "      <td>...</td>\n",
       "      <td>...</td>\n",
       "      <td>...</td>\n",
       "    </tr>\n",
       "    <tr>\n",
       "      <th>5937</th>\n",
       "      <td>millimeter-wave (mmwave) communication operate...</td>\n",
       "      <td>1</td>\n",
       "      <td>1</td>\n",
       "      <td>0</td>\n",
       "      <td>0</td>\n",
       "    </tr>\n",
       "    <tr>\n",
       "      <th>5954</th>\n",
       "      <td>recurrent neural networks (rnns) are now widel...</td>\n",
       "      <td>1</td>\n",
       "      <td>0</td>\n",
       "      <td>0</td>\n",
       "      <td>1</td>\n",
       "    </tr>\n",
       "    <tr>\n",
       "      <th>5965</th>\n",
       "      <td>supervisory signals have a potential to make l...</td>\n",
       "      <td>1</td>\n",
       "      <td>0</td>\n",
       "      <td>0</td>\n",
       "      <td>1</td>\n",
       "    </tr>\n",
       "    <tr>\n",
       "      <th>5967</th>\n",
       "      <td>we present an idea behind the method consideri...</td>\n",
       "      <td>1</td>\n",
       "      <td>0</td>\n",
       "      <td>0</td>\n",
       "      <td>1</td>\n",
       "    </tr>\n",
       "    <tr>\n",
       "      <th>5995</th>\n",
       "      <td>learning to drive faithfully inside highly sto...</td>\n",
       "      <td>1</td>\n",
       "      <td>0</td>\n",
       "      <td>0</td>\n",
       "      <td>1</td>\n",
       "    </tr>\n",
       "  </tbody>\n",
       "</table>\n",
       "<p>960 rows × 5 columns</p>\n",
       "</div>"
      ],
      "text/plain": [
       "                                               ABSTRACT  Computer Science  \\\n",
       "1     this large-scale study, consisting of 24.5 mil...                 1   \n",
       "8     we study a problem of community detection insi...                 1   \n",
       "21    this paper proposes the convolutional neural n...                 1   \n",
       "22    inside this paper, we consider a usual linear ...                 0   \n",
       "27    superconductivity has been a focus of enormous...                 0   \n",
       "...                                                 ...               ...   \n",
       "5937  millimeter-wave (mmwave) communication operate...                 1   \n",
       "5954  recurrent neural networks (rnns) are now widel...                 1   \n",
       "5965  supervisory signals have a potential to make l...                 1   \n",
       "5967  we present an idea behind the method consideri...                 1   \n",
       "5995  learning to drive faithfully inside highly sto...                 1   \n",
       "\n",
       "      Mathematics  Physics  Statistics  \n",
       "1               0        0           1  \n",
       "8               1        0           1  \n",
       "21              0        0           1  \n",
       "22              1        0           1  \n",
       "27              0        1           1  \n",
       "...           ...      ...         ...  \n",
       "5937            1        0           0  \n",
       "5954            0        0           1  \n",
       "5965            0        0           1  \n",
       "5967            0        0           1  \n",
       "5995            0        0           1  \n",
       "\n",
       "[960 rows x 5 columns]"
      ]
     },
     "execution_count": 8,
     "metadata": {},
     "output_type": "execute_result"
    }
   ],
   "source": [
    "df_test[df_test[df_test.columns.tolist()[1:]].sum(axis=1)>1]"
   ]
  },
  {
   "cell_type": "code",
   "execution_count": 9,
   "id": "bigger-lodge",
   "metadata": {},
   "outputs": [
    {
     "data": {
      "text/html": [
       "<div>\n",
       "<style scoped>\n",
       "    .dataframe tbody tr th:only-of-type {\n",
       "        vertical-align: middle;\n",
       "    }\n",
       "\n",
       "    .dataframe tbody tr th {\n",
       "        vertical-align: top;\n",
       "    }\n",
       "\n",
       "    .dataframe thead th {\n",
       "        text-align: right;\n",
       "    }\n",
       "</style>\n",
       "<table border=\"1\" class=\"dataframe\">\n",
       "  <thead>\n",
       "    <tr style=\"text-align: right;\">\n",
       "      <th></th>\n",
       "      <th>ABSTRACT</th>\n",
       "      <th>Computer Science</th>\n",
       "      <th>Mathematics</th>\n",
       "      <th>Physics</th>\n",
       "      <th>Statistics</th>\n",
       "      <th>Analysis of PDEs</th>\n",
       "      <th>Applications</th>\n",
       "      <th>Artificial Intelligence</th>\n",
       "      <th>Astrophysics of Galaxies</th>\n",
       "      <th>Computation and Language</th>\n",
       "      <th>...</th>\n",
       "      <th>Methodology</th>\n",
       "      <th>Number Theory</th>\n",
       "      <th>Optimization and Control</th>\n",
       "      <th>Representation Theory</th>\n",
       "      <th>Robotics</th>\n",
       "      <th>Social and Information Networks</th>\n",
       "      <th>Statistics Theory</th>\n",
       "      <th>Strongly Correlated Electrons</th>\n",
       "      <th>Superconductivity</th>\n",
       "      <th>Systems and Control</th>\n",
       "    </tr>\n",
       "  </thead>\n",
       "  <tbody>\n",
       "    <tr>\n",
       "      <th>0</th>\n",
       "      <td>a ever-growing datasets inside observational a...</td>\n",
       "      <td>0</td>\n",
       "      <td>0</td>\n",
       "      <td>1</td>\n",
       "      <td>0</td>\n",
       "      <td>0</td>\n",
       "      <td>0</td>\n",
       "      <td>0</td>\n",
       "      <td>0</td>\n",
       "      <td>0</td>\n",
       "      <td>...</td>\n",
       "      <td>0</td>\n",
       "      <td>0</td>\n",
       "      <td>0</td>\n",
       "      <td>0</td>\n",
       "      <td>0</td>\n",
       "      <td>0</td>\n",
       "      <td>0</td>\n",
       "      <td>0</td>\n",
       "      <td>0</td>\n",
       "      <td>0</td>\n",
       "    </tr>\n",
       "    <tr>\n",
       "      <th>1</th>\n",
       "      <td>we propose the framework considering optimal $...</td>\n",
       "      <td>1</td>\n",
       "      <td>0</td>\n",
       "      <td>0</td>\n",
       "      <td>0</td>\n",
       "      <td>0</td>\n",
       "      <td>0</td>\n",
       "      <td>0</td>\n",
       "      <td>0</td>\n",
       "      <td>0</td>\n",
       "      <td>...</td>\n",
       "      <td>0</td>\n",
       "      <td>0</td>\n",
       "      <td>0</td>\n",
       "      <td>0</td>\n",
       "      <td>0</td>\n",
       "      <td>0</td>\n",
       "      <td>0</td>\n",
       "      <td>0</td>\n",
       "      <td>0</td>\n",
       "      <td>0</td>\n",
       "    </tr>\n",
       "    <tr>\n",
       "      <th>2</th>\n",
       "      <td>nanostructures with open shell transition meta...</td>\n",
       "      <td>0</td>\n",
       "      <td>0</td>\n",
       "      <td>1</td>\n",
       "      <td>0</td>\n",
       "      <td>0</td>\n",
       "      <td>0</td>\n",
       "      <td>0</td>\n",
       "      <td>0</td>\n",
       "      <td>0</td>\n",
       "      <td>...</td>\n",
       "      <td>0</td>\n",
       "      <td>0</td>\n",
       "      <td>0</td>\n",
       "      <td>0</td>\n",
       "      <td>0</td>\n",
       "      <td>0</td>\n",
       "      <td>0</td>\n",
       "      <td>1</td>\n",
       "      <td>0</td>\n",
       "      <td>0</td>\n",
       "    </tr>\n",
       "    <tr>\n",
       "      <th>3</th>\n",
       "      <td>stars are self-gravitating fluids inside which...</td>\n",
       "      <td>0</td>\n",
       "      <td>0</td>\n",
       "      <td>1</td>\n",
       "      <td>0</td>\n",
       "      <td>0</td>\n",
       "      <td>0</td>\n",
       "      <td>0</td>\n",
       "      <td>0</td>\n",
       "      <td>0</td>\n",
       "      <td>...</td>\n",
       "      <td>0</td>\n",
       "      <td>0</td>\n",
       "      <td>0</td>\n",
       "      <td>0</td>\n",
       "      <td>0</td>\n",
       "      <td>0</td>\n",
       "      <td>0</td>\n",
       "      <td>0</td>\n",
       "      <td>0</td>\n",
       "      <td>0</td>\n",
       "    </tr>\n",
       "    <tr>\n",
       "      <th>4</th>\n",
       "      <td>deep neural perception and control networks ar...</td>\n",
       "      <td>1</td>\n",
       "      <td>0</td>\n",
       "      <td>0</td>\n",
       "      <td>0</td>\n",
       "      <td>0</td>\n",
       "      <td>0</td>\n",
       "      <td>0</td>\n",
       "      <td>0</td>\n",
       "      <td>0</td>\n",
       "      <td>...</td>\n",
       "      <td>0</td>\n",
       "      <td>0</td>\n",
       "      <td>0</td>\n",
       "      <td>0</td>\n",
       "      <td>0</td>\n",
       "      <td>0</td>\n",
       "      <td>0</td>\n",
       "      <td>0</td>\n",
       "      <td>0</td>\n",
       "      <td>0</td>\n",
       "    </tr>\n",
       "    <tr>\n",
       "      <th>...</th>\n",
       "      <td>...</td>\n",
       "      <td>...</td>\n",
       "      <td>...</td>\n",
       "      <td>...</td>\n",
       "      <td>...</td>\n",
       "      <td>...</td>\n",
       "      <td>...</td>\n",
       "      <td>...</td>\n",
       "      <td>...</td>\n",
       "      <td>...</td>\n",
       "      <td>...</td>\n",
       "      <td>...</td>\n",
       "      <td>...</td>\n",
       "      <td>...</td>\n",
       "      <td>...</td>\n",
       "      <td>...</td>\n",
       "      <td>...</td>\n",
       "      <td>...</td>\n",
       "      <td>...</td>\n",
       "      <td>...</td>\n",
       "      <td>...</td>\n",
       "    </tr>\n",
       "    <tr>\n",
       "      <th>13999</th>\n",
       "      <td>a methodology of automatic detection of a even...</td>\n",
       "      <td>1</td>\n",
       "      <td>0</td>\n",
       "      <td>0</td>\n",
       "      <td>0</td>\n",
       "      <td>0</td>\n",
       "      <td>0</td>\n",
       "      <td>0</td>\n",
       "      <td>0</td>\n",
       "      <td>0</td>\n",
       "      <td>...</td>\n",
       "      <td>0</td>\n",
       "      <td>0</td>\n",
       "      <td>0</td>\n",
       "      <td>0</td>\n",
       "      <td>0</td>\n",
       "      <td>1</td>\n",
       "      <td>0</td>\n",
       "      <td>0</td>\n",
       "      <td>0</td>\n",
       "      <td>0</td>\n",
       "    </tr>\n",
       "    <tr>\n",
       "      <th>14000</th>\n",
       "      <td>we consider a case inside which the robot has ...</td>\n",
       "      <td>1</td>\n",
       "      <td>0</td>\n",
       "      <td>0</td>\n",
       "      <td>0</td>\n",
       "      <td>0</td>\n",
       "      <td>0</td>\n",
       "      <td>1</td>\n",
       "      <td>0</td>\n",
       "      <td>0</td>\n",
       "      <td>...</td>\n",
       "      <td>0</td>\n",
       "      <td>0</td>\n",
       "      <td>0</td>\n",
       "      <td>0</td>\n",
       "      <td>1</td>\n",
       "      <td>0</td>\n",
       "      <td>0</td>\n",
       "      <td>0</td>\n",
       "      <td>0</td>\n",
       "      <td>0</td>\n",
       "    </tr>\n",
       "    <tr>\n",
       "      <th>14001</th>\n",
       "      <td>despite being usually considered two competing...</td>\n",
       "      <td>0</td>\n",
       "      <td>0</td>\n",
       "      <td>1</td>\n",
       "      <td>0</td>\n",
       "      <td>0</td>\n",
       "      <td>0</td>\n",
       "      <td>0</td>\n",
       "      <td>0</td>\n",
       "      <td>0</td>\n",
       "      <td>...</td>\n",
       "      <td>0</td>\n",
       "      <td>0</td>\n",
       "      <td>0</td>\n",
       "      <td>0</td>\n",
       "      <td>0</td>\n",
       "      <td>0</td>\n",
       "      <td>0</td>\n",
       "      <td>1</td>\n",
       "      <td>1</td>\n",
       "      <td>0</td>\n",
       "    </tr>\n",
       "    <tr>\n",
       "      <th>14002</th>\n",
       "      <td>we present the framework and its implementatio...</td>\n",
       "      <td>1</td>\n",
       "      <td>0</td>\n",
       "      <td>0</td>\n",
       "      <td>0</td>\n",
       "      <td>0</td>\n",
       "      <td>0</td>\n",
       "      <td>0</td>\n",
       "      <td>0</td>\n",
       "      <td>1</td>\n",
       "      <td>...</td>\n",
       "      <td>0</td>\n",
       "      <td>0</td>\n",
       "      <td>0</td>\n",
       "      <td>0</td>\n",
       "      <td>0</td>\n",
       "      <td>0</td>\n",
       "      <td>0</td>\n",
       "      <td>0</td>\n",
       "      <td>0</td>\n",
       "      <td>0</td>\n",
       "    </tr>\n",
       "    <tr>\n",
       "      <th>14003</th>\n",
       "      <td>here we report small-angle neutron scattering ...</td>\n",
       "      <td>0</td>\n",
       "      <td>0</td>\n",
       "      <td>1</td>\n",
       "      <td>0</td>\n",
       "      <td>0</td>\n",
       "      <td>0</td>\n",
       "      <td>0</td>\n",
       "      <td>0</td>\n",
       "      <td>0</td>\n",
       "      <td>...</td>\n",
       "      <td>0</td>\n",
       "      <td>0</td>\n",
       "      <td>0</td>\n",
       "      <td>0</td>\n",
       "      <td>0</td>\n",
       "      <td>0</td>\n",
       "      <td>0</td>\n",
       "      <td>1</td>\n",
       "      <td>0</td>\n",
       "      <td>0</td>\n",
       "    </tr>\n",
       "  </tbody>\n",
       "</table>\n",
       "<p>14004 rows × 30 columns</p>\n",
       "</div>"
      ],
      "text/plain": [
       "                                                ABSTRACT  Computer Science  \\\n",
       "0      a ever-growing datasets inside observational a...                 0   \n",
       "1      we propose the framework considering optimal $...                 1   \n",
       "2      nanostructures with open shell transition meta...                 0   \n",
       "3      stars are self-gravitating fluids inside which...                 0   \n",
       "4      deep neural perception and control networks ar...                 1   \n",
       "...                                                  ...               ...   \n",
       "13999  a methodology of automatic detection of a even...                 1   \n",
       "14000  we consider a case inside which the robot has ...                 1   \n",
       "14001  despite being usually considered two competing...                 0   \n",
       "14002  we present the framework and its implementatio...                 1   \n",
       "14003  here we report small-angle neutron scattering ...                 0   \n",
       "\n",
       "       Mathematics  Physics  Statistics  Analysis of PDEs  Applications  \\\n",
       "0                0        1           0                 0             0   \n",
       "1                0        0           0                 0             0   \n",
       "2                0        1           0                 0             0   \n",
       "3                0        1           0                 0             0   \n",
       "4                0        0           0                 0             0   \n",
       "...            ...      ...         ...               ...           ...   \n",
       "13999            0        0           0                 0             0   \n",
       "14000            0        0           0                 0             0   \n",
       "14001            0        1           0                 0             0   \n",
       "14002            0        0           0                 0             0   \n",
       "14003            0        1           0                 0             0   \n",
       "\n",
       "       Artificial Intelligence  Astrophysics of Galaxies  \\\n",
       "0                            0                         0   \n",
       "1                            0                         0   \n",
       "2                            0                         0   \n",
       "3                            0                         0   \n",
       "4                            0                         0   \n",
       "...                        ...                       ...   \n",
       "13999                        0                         0   \n",
       "14000                        1                         0   \n",
       "14001                        0                         0   \n",
       "14002                        0                         0   \n",
       "14003                        0                         0   \n",
       "\n",
       "       Computation and Language  ...  Methodology  Number Theory  \\\n",
       "0                             0  ...            0              0   \n",
       "1                             0  ...            0              0   \n",
       "2                             0  ...            0              0   \n",
       "3                             0  ...            0              0   \n",
       "4                             0  ...            0              0   \n",
       "...                         ...  ...          ...            ...   \n",
       "13999                         0  ...            0              0   \n",
       "14000                         0  ...            0              0   \n",
       "14001                         0  ...            0              0   \n",
       "14002                         1  ...            0              0   \n",
       "14003                         0  ...            0              0   \n",
       "\n",
       "       Optimization and Control  Representation Theory  Robotics  \\\n",
       "0                             0                      0         0   \n",
       "1                             0                      0         0   \n",
       "2                             0                      0         0   \n",
       "3                             0                      0         0   \n",
       "4                             0                      0         0   \n",
       "...                         ...                    ...       ...   \n",
       "13999                         0                      0         0   \n",
       "14000                         0                      0         1   \n",
       "14001                         0                      0         0   \n",
       "14002                         0                      0         0   \n",
       "14003                         0                      0         0   \n",
       "\n",
       "       Social and Information Networks  Statistics Theory  \\\n",
       "0                                    0                  0   \n",
       "1                                    0                  0   \n",
       "2                                    0                  0   \n",
       "3                                    0                  0   \n",
       "4                                    0                  0   \n",
       "...                                ...                ...   \n",
       "13999                                1                  0   \n",
       "14000                                0                  0   \n",
       "14001                                0                  0   \n",
       "14002                                0                  0   \n",
       "14003                                0                  0   \n",
       "\n",
       "       Strongly Correlated Electrons  Superconductivity  Systems and Control  \n",
       "0                                  0                  0                    0  \n",
       "1                                  0                  0                    0  \n",
       "2                                  1                  0                    0  \n",
       "3                                  0                  0                    0  \n",
       "4                                  0                  0                    0  \n",
       "...                              ...                ...                  ...  \n",
       "13999                              0                  0                    0  \n",
       "14000                              0                  0                    0  \n",
       "14001                              1                  1                    0  \n",
       "14002                              0                  0                    0  \n",
       "14003                              1                  0                    0  \n",
       "\n",
       "[14004 rows x 30 columns]"
      ]
     },
     "execution_count": 9,
     "metadata": {},
     "output_type": "execute_result"
    }
   ],
   "source": [
    "df_train[df_train[df_train.columns.tolist()[1:]].sum(axis=1)>1]"
   ]
  },
  {
   "cell_type": "markdown",
   "id": "crazy-canada",
   "metadata": {},
   "source": [
    "It's not that this is illegal but could mess up our models later on by bringing this \"multitopicness\" to other documents. That is why we will exclude them from the dataset.\n",
    "<br>\n",
    "<br>\n",
    "The problem with the training dataset is that this is actually the whole dataset. 14004/14004"
   ]
  },
  {
   "cell_type": "markdown",
   "id": "coupled-poultry",
   "metadata": {},
   "source": [
    "Inside the training dataset there are 14004 samples, which is shown by the code below:"
   ]
  },
  {
   "cell_type": "code",
   "execution_count": 10,
   "id": "floating-theorem",
   "metadata": {},
   "outputs": [
    {
     "data": {
      "text/plain": [
       "(14004, 30)"
      ]
     },
     "execution_count": 10,
     "metadata": {},
     "output_type": "execute_result"
    }
   ],
   "source": [
    "df_train.shape"
   ]
  },
  {
   "cell_type": "markdown",
   "id": "ranking-stone",
   "metadata": {},
   "source": [
    "Leaving them with one topic at random won't be helpful either since what we need are the words. For this reason we are not going to work with the training part of this dataset."
   ]
  },
  {
   "cell_type": "code",
   "execution_count": 11,
   "id": "angry-terrorism",
   "metadata": {},
   "outputs": [],
   "source": [
    "def remove_multitopics(dataframe, spacing):\n",
    "    \"\"\"\n",
    "    Removes records from `dataframe` that match to more than 1 topic\n",
    "    and returns new dataframe\n",
    "    \"\"\"\n",
    "    return dataframe.drop(dataframe[dataframe[dataframe.columns.tolist()[spacing:]].sum(axis=1)>1].index)"
   ]
  },
  {
   "cell_type": "code",
   "execution_count": 12,
   "id": "permanent-landscape",
   "metadata": {},
   "outputs": [],
   "source": [
    "df_test = remove_multitopics(df_test,1)"
   ]
  },
  {
   "cell_type": "markdown",
   "id": "aggregate-stomach",
   "metadata": {},
   "source": [
    "We can do the same to see the test dataset:"
   ]
  },
  {
   "cell_type": "code",
   "execution_count": 13,
   "id": "funny-ethernet",
   "metadata": {},
   "outputs": [
    {
     "data": {
      "text/plain": [
       "(5042, 5)"
      ]
     },
     "execution_count": 13,
     "metadata": {},
     "output_type": "execute_result"
    }
   ],
   "source": [
    "df_test.shape"
   ]
  },
  {
   "cell_type": "markdown",
   "id": "auburn-things",
   "metadata": {},
   "source": [
    "Also, with the ```info()``` method, we can see that all our topics are represented by integer numbers."
   ]
  },
  {
   "cell_type": "code",
   "execution_count": 14,
   "id": "quiet-payment",
   "metadata": {},
   "outputs": [
    {
     "name": "stdout",
     "output_type": "stream",
     "text": [
      "<class 'pandas.core.frame.DataFrame'>\n",
      "RangeIndex: 14004 entries, 0 to 14003\n",
      "Data columns (total 30 columns):\n",
      " #   Column                                        Non-Null Count  Dtype \n",
      "---  ------                                        --------------  ----- \n",
      " 0   ABSTRACT                                      14004 non-null  object\n",
      " 1   Computer Science                              14004 non-null  int64 \n",
      " 2   Mathematics                                   14004 non-null  int64 \n",
      " 3   Physics                                       14004 non-null  int64 \n",
      " 4   Statistics                                    14004 non-null  int64 \n",
      " 5   Analysis of PDEs                              14004 non-null  int64 \n",
      " 6   Applications                                  14004 non-null  int64 \n",
      " 7   Artificial Intelligence                       14004 non-null  int64 \n",
      " 8   Astrophysics of Galaxies                      14004 non-null  int64 \n",
      " 9   Computation and Language                      14004 non-null  int64 \n",
      " 10  Computer Vision and Pattern Recognition       14004 non-null  int64 \n",
      " 11  Cosmology and Nongalactic Astrophysics        14004 non-null  int64 \n",
      " 12  Data Structures and Algorithms                14004 non-null  int64 \n",
      " 13  Differential Geometry                         14004 non-null  int64 \n",
      " 14  Earth and Planetary Astrophysics              14004 non-null  int64 \n",
      " 15  Fluid Dynamics                                14004 non-null  int64 \n",
      " 16  Information Theory                            14004 non-null  int64 \n",
      " 17  Instrumentation and Methods for Astrophysics  14004 non-null  int64 \n",
      " 18  Machine Learning                              14004 non-null  int64 \n",
      " 19  Materials Science                             14004 non-null  int64 \n",
      " 20  Methodology                                   14004 non-null  int64 \n",
      " 21  Number Theory                                 14004 non-null  int64 \n",
      " 22  Optimization and Control                      14004 non-null  int64 \n",
      " 23  Representation Theory                         14004 non-null  int64 \n",
      " 24  Robotics                                      14004 non-null  int64 \n",
      " 25  Social and Information Networks               14004 non-null  int64 \n",
      " 26  Statistics Theory                             14004 non-null  int64 \n",
      " 27  Strongly Correlated Electrons                 14004 non-null  int64 \n",
      " 28  Superconductivity                             14004 non-null  int64 \n",
      " 29  Systems and Control                           14004 non-null  int64 \n",
      "dtypes: int64(29), object(1)\n",
      "memory usage: 3.2+ MB\n"
     ]
    }
   ],
   "source": [
    "df_train.info()"
   ]
  },
  {
   "cell_type": "code",
   "execution_count": 15,
   "id": "later-ribbon",
   "metadata": {
    "scrolled": true
   },
   "outputs": [
    {
     "name": "stdout",
     "output_type": "stream",
     "text": [
      "<class 'pandas.core.frame.DataFrame'>\n",
      "Int64Index: 5042 entries, 0 to 6001\n",
      "Data columns (total 5 columns):\n",
      " #   Column            Non-Null Count  Dtype \n",
      "---  ------            --------------  ----- \n",
      " 0   ABSTRACT          5042 non-null   object\n",
      " 1   Computer Science  5042 non-null   int64 \n",
      " 2   Mathematics       5042 non-null   int64 \n",
      " 3   Physics           5042 non-null   int64 \n",
      " 4   Statistics        5042 non-null   int64 \n",
      "dtypes: int64(4), object(1)\n",
      "memory usage: 236.3+ KB\n"
     ]
    }
   ],
   "source": [
    "df_test.info()"
   ]
  },
  {
   "cell_type": "markdown",
   "id": "spiritual-insider",
   "metadata": {},
   "source": [
    " Since both LDA and PAM are unsupervised learning models and dont't work with the actual topic names, we will not need anything more than their total count to get results."
   ]
  },
  {
   "cell_type": "code",
   "execution_count": 16,
   "id": "descending-coaching",
   "metadata": {},
   "outputs": [],
   "source": [
    "def get_topics_and_count(dataframe, spacing):\n",
    "    \"\"\"\n",
    "    Returns tuple consisting of a list of the topics inside `dataframe`\n",
    "    by skipping N=`spacing` columns\n",
    "    \"\"\"\n",
    "    output = dataframe.columns.tolist()[spacing:]\n",
    "    return output, len(output)"
   ]
  },
  {
   "cell_type": "code",
   "execution_count": 17,
   "id": "internal-robinson",
   "metadata": {},
   "outputs": [],
   "source": [
    "test_topics, test_topics_count = get_topics_and_count(df_test, 1)"
   ]
  },
  {
   "cell_type": "code",
   "execution_count": 18,
   "id": "after-tension",
   "metadata": {},
   "outputs": [
    {
     "data": {
      "text/plain": [
       "4"
      ]
     },
     "execution_count": 18,
     "metadata": {},
     "output_type": "execute_result"
    }
   ],
   "source": [
    "test_topics_count"
   ]
  },
  {
   "cell_type": "markdown",
   "id": "afraid-lightweight",
   "metadata": {},
   "source": [
    "If we look at the column topics, we will find that they seem to tend to be either 1 or 0. Lets confirm if that is true."
   ]
  },
  {
   "cell_type": "code",
   "execution_count": 19,
   "id": "national-binary",
   "metadata": {},
   "outputs": [
    {
     "data": {
      "text/plain": [
       "[array([0, 1], dtype=int64),\n",
       " array([0, 1], dtype=int64),\n",
       " array([0, 1], dtype=int64),\n",
       " array([1, 0], dtype=int64)]"
      ]
     },
     "execution_count": 19,
     "metadata": {},
     "output_type": "execute_result"
    }
   ],
   "source": [
    "[df_test[x].unique() for x in test_topics]"
   ]
  },
  {
   "cell_type": "markdown",
   "id": "talented-fitting",
   "metadata": {},
   "source": [
    "Since those columns are categorical values, we can transform them to be."
   ]
  },
  {
   "cell_type": "markdown",
   "id": "fuzzy-appliance",
   "metadata": {},
   "source": [
    "By excluding the multitopic records we are able to dump all the topic information into one categorical column."
   ]
  },
  {
   "cell_type": "markdown",
   "id": "parental-bunch",
   "metadata": {},
   "source": [
    "Lets write a function that will return a list that we will use to create the new column. The new value inside won't be a tag but a topic ID."
   ]
  },
  {
   "cell_type": "code",
   "execution_count": 20,
   "id": "arbitrary-quebec",
   "metadata": {},
   "outputs": [],
   "source": [
    "def dump_topics_to_one(dataframe, skip):\n",
    "    \"\"\"\n",
    "    Recieves a `dataframe` and columns to pass skip to get to the topic columns.\n",
    "    Returns a list with topic ids for each record.\n",
    "    \"\"\"\n",
    "    output = list()\n",
    "    topics = dataframe.columns.tolist()[skip:]\n",
    "    for i in range(dataframe.shape[0]):\n",
    "        record = dataframe.iloc[i]\n",
    "        for i, topic in enumerate(topics):\n",
    "            if record[topic]:\n",
    "                output.append(i)\n",
    "        \n",
    "    return output"
   ]
  },
  {
   "cell_type": "code",
   "execution_count": 21,
   "id": "architectural-priority",
   "metadata": {},
   "outputs": [],
   "source": [
    "df_test[\"Topic ID\"] = dump_topics_to_one(df_test, 1)"
   ]
  },
  {
   "cell_type": "code",
   "execution_count": 22,
   "id": "authorized-ivory",
   "metadata": {},
   "outputs": [
    {
     "data": {
      "text/html": [
       "<div>\n",
       "<style scoped>\n",
       "    .dataframe tbody tr th:only-of-type {\n",
       "        vertical-align: middle;\n",
       "    }\n",
       "\n",
       "    .dataframe tbody tr th {\n",
       "        vertical-align: top;\n",
       "    }\n",
       "\n",
       "    .dataframe thead th {\n",
       "        text-align: right;\n",
       "    }\n",
       "</style>\n",
       "<table border=\"1\" class=\"dataframe\">\n",
       "  <thead>\n",
       "    <tr style=\"text-align: right;\">\n",
       "      <th></th>\n",
       "      <th>ABSTRACT</th>\n",
       "      <th>Computer Science</th>\n",
       "      <th>Mathematics</th>\n",
       "      <th>Physics</th>\n",
       "      <th>Statistics</th>\n",
       "      <th>Topic ID</th>\n",
       "    </tr>\n",
       "  </thead>\n",
       "  <tbody>\n",
       "    <tr>\n",
       "      <th>0</th>\n",
       "      <td>fundamental frequency (f0) approximation from ...</td>\n",
       "      <td>0</td>\n",
       "      <td>0</td>\n",
       "      <td>0</td>\n",
       "      <td>1</td>\n",
       "      <td>3</td>\n",
       "    </tr>\n",
       "    <tr>\n",
       "      <th>2</th>\n",
       "      <td>we present a stability analysis of the plane c...</td>\n",
       "      <td>0</td>\n",
       "      <td>0</td>\n",
       "      <td>1</td>\n",
       "      <td>0</td>\n",
       "      <td>2</td>\n",
       "    </tr>\n",
       "    <tr>\n",
       "      <th>3</th>\n",
       "      <td>we construct finite time blow-up solutions to ...</td>\n",
       "      <td>0</td>\n",
       "      <td>1</td>\n",
       "      <td>0</td>\n",
       "      <td>0</td>\n",
       "      <td>1</td>\n",
       "    </tr>\n",
       "    <tr>\n",
       "      <th>4</th>\n",
       "      <td>planetary nebulae (pne) constitute an importan...</td>\n",
       "      <td>0</td>\n",
       "      <td>0</td>\n",
       "      <td>1</td>\n",
       "      <td>0</td>\n",
       "      <td>2</td>\n",
       "    </tr>\n",
       "    <tr>\n",
       "      <th>5</th>\n",
       "      <td>with a recent advancements inside artificial i...</td>\n",
       "      <td>1</td>\n",
       "      <td>0</td>\n",
       "      <td>0</td>\n",
       "      <td>0</td>\n",
       "      <td>0</td>\n",
       "    </tr>\n",
       "    <tr>\n",
       "      <th>...</th>\n",
       "      <td>...</td>\n",
       "      <td>...</td>\n",
       "      <td>...</td>\n",
       "      <td>...</td>\n",
       "      <td>...</td>\n",
       "      <td>...</td>\n",
       "    </tr>\n",
       "    <tr>\n",
       "      <th>5997</th>\n",
       "      <td>a first step inside constructing the machine l...</td>\n",
       "      <td>0</td>\n",
       "      <td>0</td>\n",
       "      <td>0</td>\n",
       "      <td>1</td>\n",
       "      <td>3</td>\n",
       "    </tr>\n",
       "    <tr>\n",
       "      <th>5998</th>\n",
       "      <td>a focus of this paper was to quantify measures...</td>\n",
       "      <td>1</td>\n",
       "      <td>0</td>\n",
       "      <td>0</td>\n",
       "      <td>0</td>\n",
       "      <td>0</td>\n",
       "    </tr>\n",
       "    <tr>\n",
       "      <th>5999</th>\n",
       "      <td>as autonomous vehicles become an every-day rea...</td>\n",
       "      <td>1</td>\n",
       "      <td>0</td>\n",
       "      <td>0</td>\n",
       "      <td>0</td>\n",
       "      <td>0</td>\n",
       "    </tr>\n",
       "    <tr>\n",
       "      <th>6000</th>\n",
       "      <td>a hamiltonian monte carlo (hmc) method has bee...</td>\n",
       "      <td>0</td>\n",
       "      <td>0</td>\n",
       "      <td>0</td>\n",
       "      <td>1</td>\n",
       "      <td>3</td>\n",
       "    </tr>\n",
       "    <tr>\n",
       "      <th>6001</th>\n",
       "      <td>we investigate a anisotropic nature of magneto...</td>\n",
       "      <td>0</td>\n",
       "      <td>0</td>\n",
       "      <td>1</td>\n",
       "      <td>0</td>\n",
       "      <td>2</td>\n",
       "    </tr>\n",
       "  </tbody>\n",
       "</table>\n",
       "<p>5042 rows × 6 columns</p>\n",
       "</div>"
      ],
      "text/plain": [
       "                                               ABSTRACT  Computer Science  \\\n",
       "0     fundamental frequency (f0) approximation from ...                 0   \n",
       "2     we present a stability analysis of the plane c...                 0   \n",
       "3     we construct finite time blow-up solutions to ...                 0   \n",
       "4     planetary nebulae (pne) constitute an importan...                 0   \n",
       "5     with a recent advancements inside artificial i...                 1   \n",
       "...                                                 ...               ...   \n",
       "5997  a first step inside constructing the machine l...                 0   \n",
       "5998  a focus of this paper was to quantify measures...                 1   \n",
       "5999  as autonomous vehicles become an every-day rea...                 1   \n",
       "6000  a hamiltonian monte carlo (hmc) method has bee...                 0   \n",
       "6001  we investigate a anisotropic nature of magneto...                 0   \n",
       "\n",
       "      Mathematics  Physics  Statistics  Topic ID  \n",
       "0               0        0           1         3  \n",
       "2               0        1           0         2  \n",
       "3               1        0           0         1  \n",
       "4               0        1           0         2  \n",
       "5               0        0           0         0  \n",
       "...           ...      ...         ...       ...  \n",
       "5997            0        0           1         3  \n",
       "5998            0        0           0         0  \n",
       "5999            0        0           0         0  \n",
       "6000            0        0           1         3  \n",
       "6001            0        1           0         2  \n",
       "\n",
       "[5042 rows x 6 columns]"
      ]
     },
     "execution_count": 22,
     "metadata": {},
     "output_type": "execute_result"
    }
   ],
   "source": [
    "df_test"
   ]
  },
  {
   "cell_type": "markdown",
   "id": "comparative-warning",
   "metadata": {},
   "source": [
    "What we can do now is get rid of the category-per-topic columns."
   ]
  },
  {
   "cell_type": "code",
   "execution_count": 23,
   "id": "instructional-childhood",
   "metadata": {},
   "outputs": [
    {
     "data": {
      "text/html": [
       "<div>\n",
       "<style scoped>\n",
       "    .dataframe tbody tr th:only-of-type {\n",
       "        vertical-align: middle;\n",
       "    }\n",
       "\n",
       "    .dataframe tbody tr th {\n",
       "        vertical-align: top;\n",
       "    }\n",
       "\n",
       "    .dataframe thead th {\n",
       "        text-align: right;\n",
       "    }\n",
       "</style>\n",
       "<table border=\"1\" class=\"dataframe\">\n",
       "  <thead>\n",
       "    <tr style=\"text-align: right;\">\n",
       "      <th></th>\n",
       "      <th>ABSTRACT</th>\n",
       "      <th>Topic ID</th>\n",
       "    </tr>\n",
       "  </thead>\n",
       "  <tbody>\n",
       "    <tr>\n",
       "      <th>0</th>\n",
       "      <td>fundamental frequency (f0) approximation from ...</td>\n",
       "      <td>3</td>\n",
       "    </tr>\n",
       "    <tr>\n",
       "      <th>2</th>\n",
       "      <td>we present a stability analysis of the plane c...</td>\n",
       "      <td>2</td>\n",
       "    </tr>\n",
       "    <tr>\n",
       "      <th>3</th>\n",
       "      <td>we construct finite time blow-up solutions to ...</td>\n",
       "      <td>1</td>\n",
       "    </tr>\n",
       "    <tr>\n",
       "      <th>4</th>\n",
       "      <td>planetary nebulae (pne) constitute an importan...</td>\n",
       "      <td>2</td>\n",
       "    </tr>\n",
       "    <tr>\n",
       "      <th>5</th>\n",
       "      <td>with a recent advancements inside artificial i...</td>\n",
       "      <td>0</td>\n",
       "    </tr>\n",
       "    <tr>\n",
       "      <th>...</th>\n",
       "      <td>...</td>\n",
       "      <td>...</td>\n",
       "    </tr>\n",
       "    <tr>\n",
       "      <th>5997</th>\n",
       "      <td>a first step inside constructing the machine l...</td>\n",
       "      <td>3</td>\n",
       "    </tr>\n",
       "    <tr>\n",
       "      <th>5998</th>\n",
       "      <td>a focus of this paper was to quantify measures...</td>\n",
       "      <td>0</td>\n",
       "    </tr>\n",
       "    <tr>\n",
       "      <th>5999</th>\n",
       "      <td>as autonomous vehicles become an every-day rea...</td>\n",
       "      <td>0</td>\n",
       "    </tr>\n",
       "    <tr>\n",
       "      <th>6000</th>\n",
       "      <td>a hamiltonian monte carlo (hmc) method has bee...</td>\n",
       "      <td>3</td>\n",
       "    </tr>\n",
       "    <tr>\n",
       "      <th>6001</th>\n",
       "      <td>we investigate a anisotropic nature of magneto...</td>\n",
       "      <td>2</td>\n",
       "    </tr>\n",
       "  </tbody>\n",
       "</table>\n",
       "<p>5042 rows × 2 columns</p>\n",
       "</div>"
      ],
      "text/plain": [
       "                                               ABSTRACT  Topic ID\n",
       "0     fundamental frequency (f0) approximation from ...         3\n",
       "2     we present a stability analysis of the plane c...         2\n",
       "3     we construct finite time blow-up solutions to ...         1\n",
       "4     planetary nebulae (pne) constitute an importan...         2\n",
       "5     with a recent advancements inside artificial i...         0\n",
       "...                                                 ...       ...\n",
       "5997  a first step inside constructing the machine l...         3\n",
       "5998  a focus of this paper was to quantify measures...         0\n",
       "5999  as autonomous vehicles become an every-day rea...         0\n",
       "6000  a hamiltonian monte carlo (hmc) method has bee...         3\n",
       "6001  we investigate a anisotropic nature of magneto...         2\n",
       "\n",
       "[5042 rows x 2 columns]"
      ]
     },
     "execution_count": 23,
     "metadata": {},
     "output_type": "execute_result"
    }
   ],
   "source": [
    "df_test.drop(columns=test_topics)"
   ]
  },
  {
   "cell_type": "markdown",
   "id": "experienced-worthy",
   "metadata": {},
   "source": [
    "And convert the Topic ID column to categorical type."
   ]
  },
  {
   "cell_type": "code",
   "execution_count": 24,
   "id": "wooden-adolescent",
   "metadata": {},
   "outputs": [],
   "source": [
    "df_test[\"Topic ID\"] = df_test[\"Topic ID\"].astype(\"category\")"
   ]
  },
  {
   "cell_type": "code",
   "execution_count": 25,
   "id": "revolutionary-opening",
   "metadata": {},
   "outputs": [
    {
     "name": "stdout",
     "output_type": "stream",
     "text": [
      "<class 'pandas.core.frame.DataFrame'>\n",
      "Int64Index: 5042 entries, 0 to 6001\n",
      "Data columns (total 6 columns):\n",
      " #   Column            Non-Null Count  Dtype   \n",
      "---  ------            --------------  -----   \n",
      " 0   ABSTRACT          5042 non-null   object  \n",
      " 1   Computer Science  5042 non-null   int64   \n",
      " 2   Mathematics       5042 non-null   int64   \n",
      " 3   Physics           5042 non-null   int64   \n",
      " 4   Statistics        5042 non-null   int64   \n",
      " 5   Topic ID          5042 non-null   category\n",
      "dtypes: category(1), int64(4), object(1)\n",
      "memory usage: 241.5+ KB\n"
     ]
    }
   ],
   "source": [
    "df_test.info()"
   ]
  },
  {
   "cell_type": "code",
   "execution_count": 26,
   "id": "weighted-protein",
   "metadata": {},
   "outputs": [
    {
     "data": {
      "text/plain": [
       "Int64Index([0, 1, 2, 3], dtype='int64')"
      ]
     },
     "execution_count": 26,
     "metadata": {},
     "output_type": "execute_result"
    }
   ],
   "source": [
    "df_test[\"Topic ID\"].cat.categories"
   ]
  },
  {
   "cell_type": "markdown",
   "id": "cooperative-organic",
   "metadata": {},
   "source": [
    "We will use those topic lists later on for the performance tests, but for the training we can just get the abstracts from each row."
   ]
  },
  {
   "cell_type": "code",
   "execution_count": 27,
   "id": "charged-county",
   "metadata": {},
   "outputs": [
    {
     "data": {
      "text/html": [
       "<div>\n",
       "<style scoped>\n",
       "    .dataframe tbody tr th:only-of-type {\n",
       "        vertical-align: middle;\n",
       "    }\n",
       "\n",
       "    .dataframe tbody tr th {\n",
       "        vertical-align: top;\n",
       "    }\n",
       "\n",
       "    .dataframe thead th {\n",
       "        text-align: right;\n",
       "    }\n",
       "</style>\n",
       "<table border=\"1\" class=\"dataframe\">\n",
       "  <thead>\n",
       "    <tr style=\"text-align: right;\">\n",
       "      <th></th>\n",
       "      <th>ABSTRACT</th>\n",
       "    </tr>\n",
       "  </thead>\n",
       "  <tbody>\n",
       "    <tr>\n",
       "      <th>0</th>\n",
       "      <td>fundamental frequency (f0) approximation from ...</td>\n",
       "    </tr>\n",
       "    <tr>\n",
       "      <th>2</th>\n",
       "      <td>we present a stability analysis of the plane c...</td>\n",
       "    </tr>\n",
       "    <tr>\n",
       "      <th>3</th>\n",
       "      <td>we construct finite time blow-up solutions to ...</td>\n",
       "    </tr>\n",
       "    <tr>\n",
       "      <th>4</th>\n",
       "      <td>planetary nebulae (pne) constitute an importan...</td>\n",
       "    </tr>\n",
       "    <tr>\n",
       "      <th>5</th>\n",
       "      <td>with a recent advancements inside artificial i...</td>\n",
       "    </tr>\n",
       "  </tbody>\n",
       "</table>\n",
       "</div>"
      ],
      "text/plain": [
       "                                            ABSTRACT\n",
       "0  fundamental frequency (f0) approximation from ...\n",
       "2  we present a stability analysis of the plane c...\n",
       "3  we construct finite time blow-up solutions to ...\n",
       "4  planetary nebulae (pne) constitute an importan...\n",
       "5  with a recent advancements inside artificial i..."
      ]
     },
     "execution_count": 27,
     "metadata": {},
     "output_type": "execute_result"
    }
   ],
   "source": [
    "df_test[['ABSTRACT']].head()"
   ]
  },
  {
   "cell_type": "code",
   "execution_count": 28,
   "id": "handmade-brisbane",
   "metadata": {},
   "outputs": [],
   "source": [
    "research_articles_raw = df_test['ABSTRACT'].tolist()"
   ]
  },
  {
   "cell_type": "code",
   "execution_count": 29,
   "id": "owned-diabetes",
   "metadata": {},
   "outputs": [
    {
     "data": {
      "text/plain": [
       "'we present a stability analysis of the plane couette flow which was stably stratified inside a vertical direction orthogonally to a horizontal shear. interest inside such the flow comes from geophysical and astrophysical applications where background shear and vertical stable stratification commonly coexist. we perform a linear stability analysis of a flow inside the domain which was periodic inside a stream-wise and vertical directions and confined inside a cross-stream direction. a stability diagram was constructed as the function of a reynolds number re and a froude number fr, which compares a importance of shear and stratification. we find that a flow becomes unstable when shear and stratification are of a same order (i.e. fr $\\\\sim$ 1) and above the moderate value of a reynolds number re$\\\\gtrsim$700. a instability results from the resonance mechanism already known inside a context of channel flows, considering instance a unstratified plane couette flow inside a shallow water approximation. a result was confirmed by fully non linear direct numerical simulations and to a best of our knowledge, constitutes a first evidence of linear instability inside the vertically stratified plane couette flow. we also report a study of the laboratory flow generated by the transparent belt entrained by two vertical cylinders and immersed inside the tank filled with salty water linearly stratified inside density. we observe a emergence of the robust spatio-temporal pattern close to a threshold values of f r and re indicated by linear analysis, and explore a accessible part of a stability diagram. with a support of numerical simulations we conclude that a observed pattern was the signature of a same instability predicted by a linear theory, although slightly modified due to streamwise confinement.'"
      ]
     },
     "execution_count": 29,
     "metadata": {},
     "output_type": "execute_result"
    }
   ],
   "source": [
    "research_articles_raw[1]"
   ]
  },
  {
   "cell_type": "markdown",
   "id": "compact-opinion",
   "metadata": {},
   "source": [
    "When we look closely, we will find not only text but LaTeX artifacts that don't necessarily bring information about the topics. Lets write a function that will get rid of them too."
   ]
  },
  {
   "cell_type": "markdown",
   "id": "faced-publication",
   "metadata": {},
   "source": [
    "Removing LaTeX from string seems to not have an all working solution, so to do the rest of the job we will remove any occurrences of \"$-\" from the articles."
   ]
  },
  {
   "cell_type": "code",
   "execution_count": 30,
   "id": "manual-benefit",
   "metadata": {},
   "outputs": [],
   "source": [
    "def remove_latex(doc):\n",
    "    \"\"\"\n",
    "    Returns new document with LaTeX removed from `doc`.\n",
    "    \"\"\"\n",
    "    phase1 = re.sub(r'(\\$+)(?:(?!\\1)[\\s\\S])*\\1', '\\\\1', doc)\n",
    "    output = phase1.replace(\"$-\", \"\").replace(\"$\", \"\")\n",
    "    \n",
    "    return output"
   ]
  },
  {
   "cell_type": "code",
   "execution_count": 31,
   "id": "invisible-floor",
   "metadata": {},
   "outputs": [],
   "source": [
    "research_articles_no_latex = [remove_latex(article) for article in research_articles_raw]"
   ]
  },
  {
   "cell_type": "markdown",
   "id": "advance-metro",
   "metadata": {},
   "source": [
    "We will also remove any numbers from the document, but only those that are not part of a word as they also don't bring topic-specific information."
   ]
  },
  {
   "cell_type": "code",
   "execution_count": 32,
   "id": "exclusive-wednesday",
   "metadata": {},
   "outputs": [],
   "source": [
    "def remove_numbers(doc):\n",
    "    \"\"\"\n",
    "    Removes any numbers that are not part of a word from `doc` and returns the new document.\n",
    "    \"\"\"\n",
    "    return re.sub(r\"$\\d+\\W+|\\b\\d+\\b|\\W+\\d+$\", \"\", doc)"
   ]
  },
  {
   "cell_type": "code",
   "execution_count": 33,
   "id": "contained-groove",
   "metadata": {},
   "outputs": [],
   "source": [
    "research_articles_no_numbers = [remove_numbers(article) for article in research_articles_no_latex]"
   ]
  },
  {
   "cell_type": "markdown",
   "id": "apart-broadcasting",
   "metadata": {},
   "source": [
    "Finally, we will write a function to remove punctuation from the documents as it is another thing our model doesn't have to consider."
   ]
  },
  {
   "cell_type": "code",
   "execution_count": 34,
   "id": "assisted-state",
   "metadata": {},
   "outputs": [],
   "source": [
    "def remove_punctuation(doc):\n",
    "    \"\"\"\n",
    "    Removes punctuation from `doc` and returns the new document.\n",
    "    \"\"\"\n",
    "    return re.sub(r'[^\\w\\s]','',doc)"
   ]
  },
  {
   "cell_type": "markdown",
   "id": "satisfactory-investigation",
   "metadata": {},
   "source": [
    "We need punctuation for the next step however so this will wait a bit."
   ]
  },
  {
   "cell_type": "markdown",
   "id": "convinced-thought",
   "metadata": {},
   "source": [
    "### 2.1.C Stemming vs Lemmatization <a class=\"anchor\" id=\"Stemming_vs_Lemmatization\"></a>"
   ]
  },
  {
   "cell_type": "markdown",
   "id": "explicit-making",
   "metadata": {},
   "source": [
    "As a final step to the data preparation, we will discuss __inflected language__, __stemming__, __lemamatization__."
   ]
  },
  {
   "cell_type": "markdown",
   "id": "usual-fetish",
   "metadata": {},
   "source": [
    "Languages we speak and write are made up of several words often derived from one another. When a language contains words that are derived from another word as their use in the speech changes is called __Inflected Language__.\n",
    "<br>\n",
    "<br>\n",
    "__Stemming__ and __Lemmatization__ are Text Normalization techniques in the field of NLP that are used to prepare text, words, and documents for further processing. Stemming and Lemmatization have been studied, and algorithms have been developed in Computer Science since the 1960's.\n",
    "\n",
    "Stemming removes or stems the last few characters of a word, often leading to incorrect meanings and spelling. Lemmatization considers the context and converts the word to its meaningful base form, which is called __Lemma__. Sometimes, the same word can have multiple different Lemmas. That is why we should identify the Part of Speech (POS) tag for the word in that specific context.\n",
    "\n",
    "Here are the examples to illustrate all the differences and use cases:\n",
    "\n",
    "* Lemmatizing the word 'Caring', would return 'Care'. If we stem it, it would return 'Car'.\n",
    "* Lemmatizing the word 'Stripes' in verb context, it would return 'Strip'. If we lemmatize it in noun context, it would return 'Stripe'. If we just stem it, it would just return 'Strip'.\n",
    "\n",
    "Lemmatization is computationally expensive since it involves look-up tables and what not. Performance wise stemming is a better option, especially for large datasets. Python NLTK provides WordNet Lemmatizer that uses the WordNet Database to lookup lemmas of words. We can also add your own rules to Stemming. If accuracy is paramount and dataset isn't humongous, go with Lemmatization.\n",
    "\n"
   ]
  },
  {
   "cell_type": "markdown",
   "id": "bronze-absence",
   "metadata": {},
   "source": [
    "Our dataset is big but articles as seen below contain relatively small amount of words in them. Lets allow ourselves to spoil our models and go with lemmatization.\n",
    "\n",
    "We will use the NLTK `WordNetLemmatizer` for the job.\n",
    "\n",
    "After creating an instance, a single call to\n",
    "```python\n",
    "lemmatize(word, pos:str=str)\n",
    "\n",
    "```\n",
    "separates us from lemmatizing.\n",
    "By default `pos` tag is NOUN and it does not output the correct lemma for a verb, unless the pos tag is explicitly specified as VERB.\n",
    "<br>\n",
    "<br>\n",
    "To get proper tags for each word we will need to use nltk's __pos tagger__. \n",
    "<br>\n",
    "<br>\n",
    "Pay attention at the pos tag of the word \"running\" used in different context:"
   ]
  },
  {
   "cell_type": "code",
   "execution_count": 35,
   "id": "rough-finland",
   "metadata": {},
   "outputs": [
    {
     "data": {
      "text/plain": [
       "[('running', 'NN'), ('is', 'VBZ'), ('great', 'JJ')]"
      ]
     },
     "execution_count": 35,
     "metadata": {},
     "output_type": "execute_result"
    }
   ],
   "source": [
    "nltk.pos_tag([\"running\",\"is\", \"great\"])"
   ]
  },
  {
   "cell_type": "code",
   "execution_count": 36,
   "id": "arctic-batman",
   "metadata": {},
   "outputs": [
    {
     "data": {
      "text/plain": [
       "[('I', 'PRP'), ('am', 'VBP'), ('running', 'VBG')]"
      ]
     },
     "execution_count": 36,
     "metadata": {},
     "output_type": "execute_result"
    }
   ],
   "source": [
    "nltk.pos_tag([\"I\", \"am\", \"running\"])"
   ]
  },
  {
   "cell_type": "markdown",
   "id": "forbidden-applicant",
   "metadata": {},
   "source": [
    "We will use the following class to split our documents into sentences and tokenize each sentence."
   ]
  },
  {
   "cell_type": "code",
   "execution_count": 37,
   "id": "verbal-behavior",
   "metadata": {},
   "outputs": [],
   "source": [
    "class Splitter(object):\n",
    "    \"\"\"\n",
    "    Split the document into sentences and tokenize each sentence\n",
    "    \"\"\"\n",
    "    def __init__(self):\n",
    "        self.splitter = nltk.data.load('tokenizers/punkt/english.pickle')\n",
    "        self.tokenizer = nltk.tokenize.TreebankWordTokenizer()\n",
    "\n",
    "    def split(self,text):\n",
    "        \"\"\"\n",
    "        out : ['What', 'can', 'I', 'say', 'about', 'this', 'place', '.']\n",
    "        \"\"\"\n",
    "        # split into single sentence\n",
    "        sentences = self.splitter.tokenize(text)\n",
    "        # tokenization in each sentences\n",
    "        tokens = [self.tokenizer.tokenize(sent) for sent in sentences]\n",
    "        return tokens"
   ]
  },
  {
   "cell_type": "code",
   "execution_count": 38,
   "id": "gothic-dealer",
   "metadata": {},
   "outputs": [],
   "source": [
    "splitter = Splitter()"
   ]
  },
  {
   "cell_type": "code",
   "execution_count": 39,
   "id": "satellite-philippines",
   "metadata": {},
   "outputs": [],
   "source": [
    "doc_tokens = [splitter.split(article) for article in research_articles_no_numbers]"
   ]
  },
  {
   "cell_type": "code",
   "execution_count": 40,
   "id": "joined-typing",
   "metadata": {},
   "outputs": [
    {
     "data": {
      "text/plain": [
       "5042"
      ]
     },
     "execution_count": 40,
     "metadata": {},
     "output_type": "execute_result"
    }
   ],
   "source": [
    "len(doc_tokens)"
   ]
  },
  {
   "cell_type": "code",
   "execution_count": 41,
   "id": "floppy-liechtenstein",
   "metadata": {},
   "outputs": [],
   "source": [
    "class LemmatizationWithPOSTagger(object):\n",
    "    def __init__(self):\n",
    "        self.lemmatizer = WordNetLemmatizer()\n",
    "    def get_wordnet_pos(self,treebank_tag):\n",
    "        \"\"\"\n",
    "        return WORDNET POS compliance to WORDENT lemmatization (a,n,r,v) \n",
    "        \"\"\"\n",
    "        if treebank_tag.startswith('J'):\n",
    "            return wordnet.ADJ\n",
    "        elif treebank_tag.startswith('V'):\n",
    "            return wordnet.VERB\n",
    "        elif treebank_tag.startswith('N'):\n",
    "            return wordnet.NOUN\n",
    "        elif treebank_tag.startswith('R'):\n",
    "            return wordnet.ADV\n",
    "        else:\n",
    "            # As default pos in lemmatization is Noun\n",
    "            return wordnet.NOUN\n",
    "\n",
    "    def flatten(self,t):\n",
    "        return [item for sublist in t for item in sublist]\n",
    "    \n",
    "    def lemmatize(self,tokens):\n",
    "        # find the pos tagginf for each tokens [('What', 'WP'), ('can', 'MD'), ('I', 'PRP') ....\n",
    "        pos_tokens = [nltk.pos_tag(token) for token in tokens]\n",
    "\n",
    "        # lemmatization using pos tagg   \n",
    "        # convert into feature set of [('What', 'What', ['WP']), ('can', 'can', ['MD']), ... ie [original WORD, Lemmatized word, POS tag]\n",
    "        words = [ [self.lemmatizer.lemmatize(word,self.get_wordnet_pos(pos_tag)) for (word,pos_tag) in pos] for pos in pos_tokens]\n",
    "        doc = self.flatten(words)\n",
    "        return doc"
   ]
  },
  {
   "cell_type": "code",
   "execution_count": 42,
   "id": "cleared-reverse",
   "metadata": {},
   "outputs": [
    {
     "name": "stdout",
     "output_type": "stream",
     "text": [
      "Wall time: 3min 52s\n"
     ]
    }
   ],
   "source": [
    "%%time\n",
    "lemmatization_using_pos_tagger = LemmatizationWithPOSTagger()\n",
    "lemma_docs = [lemmatization_using_pos_tagger.lemmatize(doc_token) for doc_token in doc_tokens]"
   ]
  },
  {
   "cell_type": "markdown",
   "id": "lightweight-passage",
   "metadata": {},
   "source": [
    "Lets see the difference compared to non-lemmatized article."
   ]
  },
  {
   "cell_type": "code",
   "execution_count": 43,
   "id": "obvious-programming",
   "metadata": {},
   "outputs": [
    {
     "data": {
      "text/html": [
       "<div>\n",
       "<style scoped>\n",
       "    .dataframe tbody tr th:only-of-type {\n",
       "        vertical-align: middle;\n",
       "    }\n",
       "\n",
       "    .dataframe tbody tr th {\n",
       "        vertical-align: top;\n",
       "    }\n",
       "\n",
       "    .dataframe thead th {\n",
       "        text-align: right;\n",
       "    }\n",
       "</style>\n",
       "<table border=\"1\" class=\"dataframe\">\n",
       "  <thead>\n",
       "    <tr style=\"text-align: right;\">\n",
       "      <th></th>\n",
       "      <th>Before</th>\n",
       "      <th>After</th>\n",
       "    </tr>\n",
       "  </thead>\n",
       "  <tbody>\n",
       "    <tr>\n",
       "      <th>0</th>\n",
       "      <td>fundamental frequency (f0) approximation from polyphonic music includes a tasks of multiple-f0, melody, vocal, and bass line estimation. historically these problems have been approached separately, and only recently, with the help of learning-based approaches. we present the multitask deep learning architecture that jointly estimates outputs considering various tasks including multiple-f0, melody, vocal and bass line estimation, and was trained with the help of the large, semi-automatically annotated dataset. we show that a multitask model outperforms its single-task counterparts, and explore a effect of various design decisions inside our approach, and show that it performs better or at least competitively when compared against strong baseline methods.</td>\n",
       "      <td>fundamental frequency ( f0 ) approximation from polyphonic music include a task of multiple-f0 , melody , vocal , and bass line estimation . historically these problem have be approach separately , and only recently , with the help of learning-based approach . we present the multitask deep learning architecture that jointly estimate output consider various task include multiple-f0 , melody , vocal and bass line estimation , and be train with the help of the large , semi-automatically annotated dataset . we show that a multitask model outperform it single-task counterpart , and explore a effect of various design decision inside our approach , and show that it perform well or at least competitively when compare against strong baseline method .</td>\n",
       "    </tr>\n",
       "  </tbody>\n",
       "</table>\n",
       "</div>"
      ],
      "text/plain": [
       "                                                                                                                                                                                                                                                                                                                                                                                                                                                                                                                                                                                                                                                                                                                                                                                        Before  \\\n",
       "0  fundamental frequency (f0) approximation from polyphonic music includes a tasks of multiple-f0, melody, vocal, and bass line estimation. historically these problems have been approached separately, and only recently, with the help of learning-based approaches. we present the multitask deep learning architecture that jointly estimates outputs considering various tasks including multiple-f0, melody, vocal and bass line estimation, and was trained with the help of the large, semi-automatically annotated dataset. we show that a multitask model outperforms its single-task counterparts, and explore a effect of various design decisions inside our approach, and show that it performs better or at least competitively when compared against strong baseline methods.   \n",
       "\n",
       "                                                                                                                                                                                                                                                                                                                                                                                                                                                                                                                                                                                                                                                                                                                                                                             After  \n",
       "0  fundamental frequency ( f0 ) approximation from polyphonic music include a task of multiple-f0 , melody , vocal , and bass line estimation . historically these problem have be approach separately , and only recently , with the help of learning-based approach . we present the multitask deep learning architecture that jointly estimate output consider various task include multiple-f0 , melody , vocal and bass line estimation , and be train with the help of the large , semi-automatically annotated dataset . we show that a multitask model outperform it single-task counterpart , and explore a effect of various design decision inside our approach , and show that it perform well or at least competitively when compare against strong baseline method .  "
      ]
     },
     "execution_count": 43,
     "metadata": {},
     "output_type": "execute_result"
    }
   ],
   "source": [
    "pd.set_option('display.max_colwidth', None)\n",
    "pd.DataFrame([[research_articles_no_latex[0], \" \".join(lemma_docs[0])]], columns=[\"Before\", \"After\"])"
   ]
  },
  {
   "cell_type": "markdown",
   "id": "improving-washer",
   "metadata": {},
   "source": [
    "To reset the pandas display option, execute the next cell."
   ]
  },
  {
   "cell_type": "code",
   "execution_count": 44,
   "id": "described-florida",
   "metadata": {},
   "outputs": [],
   "source": [
    "pd.set_option('display.max_colwidth', 50)"
   ]
  },
  {
   "cell_type": "markdown",
   "id": "helpful-sharp",
   "metadata": {},
   "source": [
    "Now we are free to get rid of the punctuation."
   ]
  },
  {
   "cell_type": "code",
   "execution_count": 45,
   "id": "anticipated-negotiation",
   "metadata": {},
   "outputs": [],
   "source": [
    "research_articles = [remove_punctuation(\" \".join(doc)) for doc in lemma_docs]"
   ]
  },
  {
   "cell_type": "markdown",
   "id": "trying-divide",
   "metadata": {},
   "source": [
    "Note that by lemmatizing the text we obligate ourselves to lemmatize every unseen document before feeding them to the models, since they wouldn't have seen those words before."
   ]
  },
  {
   "cell_type": "markdown",
   "id": "superb-hebrew",
   "metadata": {},
   "source": [
    "## 2.2 Exploring the TM dataset <a class=\"anchor\" id=\"Exploring_the_TM_dataset\"></a>"
   ]
  },
  {
   "cell_type": "markdown",
   "id": "passive-spirituality",
   "metadata": {},
   "source": [
    "### 2.2.A Reading the dataset <a class=\"anchor\" id=\"Reading_the_dataset_tm\"></a>"
   ]
  },
  {
   "cell_type": "markdown",
   "id": "innocent-decision",
   "metadata": {},
   "source": [
    "Similar to the first one, our second dataset contains yet more abstracts from scientific papers and a few extra topic categories."
   ]
  },
  {
   "cell_type": "code",
   "execution_count": 46,
   "id": "divided-adolescent",
   "metadata": {},
   "outputs": [],
   "source": [
    "tm_train = pd.read_csv(\"Datasets\\\\tm-for-research-articles\\\\train.csv\", index_col=0)\n",
    "tm_test = pd.read_csv(\"Datasets\\\\tm-for-research-articles\\\\test.csv\")"
   ]
  },
  {
   "cell_type": "code",
   "execution_count": 47,
   "id": "third-indonesian",
   "metadata": {},
   "outputs": [
    {
     "data": {
      "text/html": [
       "<div>\n",
       "<style scoped>\n",
       "    .dataframe tbody tr th:only-of-type {\n",
       "        vertical-align: middle;\n",
       "    }\n",
       "\n",
       "    .dataframe tbody tr th {\n",
       "        vertical-align: top;\n",
       "    }\n",
       "\n",
       "    .dataframe thead th {\n",
       "        text-align: right;\n",
       "    }\n",
       "</style>\n",
       "<table border=\"1\" class=\"dataframe\">\n",
       "  <thead>\n",
       "    <tr style=\"text-align: right;\">\n",
       "      <th></th>\n",
       "      <th>TITLE</th>\n",
       "      <th>ABSTRACT</th>\n",
       "      <th>Computer Science</th>\n",
       "      <th>Physics</th>\n",
       "      <th>Mathematics</th>\n",
       "      <th>Statistics</th>\n",
       "      <th>Quantitative Biology</th>\n",
       "      <th>Quantitative Finance</th>\n",
       "    </tr>\n",
       "    <tr>\n",
       "      <th>ID</th>\n",
       "      <th></th>\n",
       "      <th></th>\n",
       "      <th></th>\n",
       "      <th></th>\n",
       "      <th></th>\n",
       "      <th></th>\n",
       "      <th></th>\n",
       "      <th></th>\n",
       "    </tr>\n",
       "  </thead>\n",
       "  <tbody>\n",
       "    <tr>\n",
       "      <th>1</th>\n",
       "      <td>Reconstructing Subject-Specific Effect Maps</td>\n",
       "      <td>Predictive models allow subject-specific inf...</td>\n",
       "      <td>1</td>\n",
       "      <td>0</td>\n",
       "      <td>0</td>\n",
       "      <td>0</td>\n",
       "      <td>0</td>\n",
       "      <td>0</td>\n",
       "    </tr>\n",
       "    <tr>\n",
       "      <th>2</th>\n",
       "      <td>Rotation Invariance Neural Network</td>\n",
       "      <td>Rotation invariance and translation invarian...</td>\n",
       "      <td>1</td>\n",
       "      <td>0</td>\n",
       "      <td>0</td>\n",
       "      <td>0</td>\n",
       "      <td>0</td>\n",
       "      <td>0</td>\n",
       "    </tr>\n",
       "    <tr>\n",
       "      <th>3</th>\n",
       "      <td>Spherical polyharmonics and Poisson kernels fo...</td>\n",
       "      <td>We introduce and develop the notion of spher...</td>\n",
       "      <td>0</td>\n",
       "      <td>0</td>\n",
       "      <td>1</td>\n",
       "      <td>0</td>\n",
       "      <td>0</td>\n",
       "      <td>0</td>\n",
       "    </tr>\n",
       "    <tr>\n",
       "      <th>4</th>\n",
       "      <td>A finite element approximation for the stochas...</td>\n",
       "      <td>The stochastic Landau--Lifshitz--Gilbert (LL...</td>\n",
       "      <td>0</td>\n",
       "      <td>0</td>\n",
       "      <td>1</td>\n",
       "      <td>0</td>\n",
       "      <td>0</td>\n",
       "      <td>0</td>\n",
       "    </tr>\n",
       "    <tr>\n",
       "      <th>5</th>\n",
       "      <td>Comparative study of Discrete Wavelet Transfor...</td>\n",
       "      <td>Fourier-transform infra-red (FTIR) spectra o...</td>\n",
       "      <td>1</td>\n",
       "      <td>0</td>\n",
       "      <td>0</td>\n",
       "      <td>1</td>\n",
       "      <td>0</td>\n",
       "      <td>0</td>\n",
       "    </tr>\n",
       "  </tbody>\n",
       "</table>\n",
       "</div>"
      ],
      "text/plain": [
       "                                                TITLE  \\\n",
       "ID                                                      \n",
       "1         Reconstructing Subject-Specific Effect Maps   \n",
       "2                  Rotation Invariance Neural Network   \n",
       "3   Spherical polyharmonics and Poisson kernels fo...   \n",
       "4   A finite element approximation for the stochas...   \n",
       "5   Comparative study of Discrete Wavelet Transfor...   \n",
       "\n",
       "                                             ABSTRACT  Computer Science  \\\n",
       "ID                                                                        \n",
       "1     Predictive models allow subject-specific inf...                 1   \n",
       "2     Rotation invariance and translation invarian...                 1   \n",
       "3     We introduce and develop the notion of spher...                 0   \n",
       "4     The stochastic Landau--Lifshitz--Gilbert (LL...                 0   \n",
       "5     Fourier-transform infra-red (FTIR) spectra o...                 1   \n",
       "\n",
       "    Physics  Mathematics  Statistics  Quantitative Biology  \\\n",
       "ID                                                           \n",
       "1         0            0           0                     0   \n",
       "2         0            0           0                     0   \n",
       "3         0            1           0                     0   \n",
       "4         0            1           0                     0   \n",
       "5         0            0           1                     0   \n",
       "\n",
       "    Quantitative Finance  \n",
       "ID                        \n",
       "1                      0  \n",
       "2                      0  \n",
       "3                      0  \n",
       "4                      0  \n",
       "5                      0  "
      ]
     },
     "execution_count": 47,
     "metadata": {},
     "output_type": "execute_result"
    }
   ],
   "source": [
    "tm_train.head()"
   ]
  },
  {
   "cell_type": "code",
   "execution_count": 48,
   "id": "painful-battery",
   "metadata": {
    "scrolled": true
   },
   "outputs": [
    {
     "data": {
      "text/html": [
       "<div>\n",
       "<style scoped>\n",
       "    .dataframe tbody tr th:only-of-type {\n",
       "        vertical-align: middle;\n",
       "    }\n",
       "\n",
       "    .dataframe tbody tr th {\n",
       "        vertical-align: top;\n",
       "    }\n",
       "\n",
       "    .dataframe thead th {\n",
       "        text-align: right;\n",
       "    }\n",
       "</style>\n",
       "<table border=\"1\" class=\"dataframe\">\n",
       "  <thead>\n",
       "    <tr style=\"text-align: right;\">\n",
       "      <th></th>\n",
       "      <th>ID</th>\n",
       "      <th>TITLE</th>\n",
       "      <th>ABSTRACT</th>\n",
       "    </tr>\n",
       "  </thead>\n",
       "  <tbody>\n",
       "    <tr>\n",
       "      <th>0</th>\n",
       "      <td>20973</td>\n",
       "      <td>Closed-form Marginal Likelihood in Gamma-Poiss...</td>\n",
       "      <td>We present novel understandings of the Gamma...</td>\n",
       "    </tr>\n",
       "    <tr>\n",
       "      <th>1</th>\n",
       "      <td>20974</td>\n",
       "      <td>Laboratory mid-IR spectra of equilibrated and ...</td>\n",
       "      <td>Meteorites contain minerals from Solar Syste...</td>\n",
       "    </tr>\n",
       "    <tr>\n",
       "      <th>2</th>\n",
       "      <td>20975</td>\n",
       "      <td>Case For Static AMSDU Aggregation in WLANs</td>\n",
       "      <td>Frame aggregation is a mechanism by which mu...</td>\n",
       "    </tr>\n",
       "    <tr>\n",
       "      <th>3</th>\n",
       "      <td>20976</td>\n",
       "      <td>The $Gaia$-ESO Survey: the inner disk intermed...</td>\n",
       "      <td>Milky Way open clusters are very diverse in ...</td>\n",
       "    </tr>\n",
       "    <tr>\n",
       "      <th>4</th>\n",
       "      <td>20977</td>\n",
       "      <td>Witness-Functions versus Interpretation-Functi...</td>\n",
       "      <td>Proving that a cryptographic protocol is cor...</td>\n",
       "    </tr>\n",
       "  </tbody>\n",
       "</table>\n",
       "</div>"
      ],
      "text/plain": [
       "      ID                                              TITLE  \\\n",
       "0  20973  Closed-form Marginal Likelihood in Gamma-Poiss...   \n",
       "1  20974  Laboratory mid-IR spectra of equilibrated and ...   \n",
       "2  20975         Case For Static AMSDU Aggregation in WLANs   \n",
       "3  20976  The $Gaia$-ESO Survey: the inner disk intermed...   \n",
       "4  20977  Witness-Functions versus Interpretation-Functi...   \n",
       "\n",
       "                                            ABSTRACT  \n",
       "0    We present novel understandings of the Gamma...  \n",
       "1    Meteorites contain minerals from Solar Syste...  \n",
       "2    Frame aggregation is a mechanism by which mu...  \n",
       "3    Milky Way open clusters are very diverse in ...  \n",
       "4    Proving that a cryptographic protocol is cor...  "
      ]
     },
     "execution_count": 48,
     "metadata": {},
     "output_type": "execute_result"
    }
   ],
   "source": [
    "tm_test.head()"
   ]
  },
  {
   "cell_type": "markdown",
   "id": "therapeutic-gamma",
   "metadata": {},
   "source": [
    "### 2.2.B Data tidying and cleaning <a class=\"anchor\" id=\"Data_tidying_and_cleaning_tm\"></a>"
   ]
  },
  {
   "cell_type": "markdown",
   "id": "identical-canvas",
   "metadata": {},
   "source": [
    "Right off the bat we see that the test dataset won't be helpful as it misses a key part of the topic modeling purpose - the topics."
   ]
  },
  {
   "cell_type": "code",
   "execution_count": 49,
   "id": "killing-series",
   "metadata": {},
   "outputs": [
    {
     "data": {
      "text/plain": [
       "(8989, 3)"
      ]
     },
     "execution_count": 49,
     "metadata": {},
     "output_type": "execute_result"
    }
   ],
   "source": [
    "tm_test.shape"
   ]
  },
  {
   "cell_type": "markdown",
   "id": "received-productivity",
   "metadata": {},
   "source": [
    "With 8989 records, the task of labeling them manually becomes though for this notebook. We will stick with the training one as is.\n",
    "\n",
    "In it, we see a few things that we rather opt tweaking. Lets test the topic columns for surprises."
   ]
  },
  {
   "cell_type": "code",
   "execution_count": 50,
   "id": "little-quality",
   "metadata": {},
   "outputs": [
    {
     "data": {
      "text/plain": [
       "[array([1, 0], dtype=int64),\n",
       " array([0, 1], dtype=int64),\n",
       " array([0, 1], dtype=int64),\n",
       " array([0, 1], dtype=int64),\n",
       " array([0, 1], dtype=int64),\n",
       " array([0, 1], dtype=int64)]"
      ]
     },
     "execution_count": 50,
     "metadata": {},
     "output_type": "execute_result"
    }
   ],
   "source": [
    "columns_tm = tm_train.columns.tolist()\n",
    "columns_tm.remove('TITLE')\n",
    "columns_tm.remove('ABSTRACT')\n",
    "[tm_train[x].unique() for x in columns_tm]"
   ]
  },
  {
   "cell_type": "code",
   "execution_count": 51,
   "id": "sound-short",
   "metadata": {},
   "outputs": [
    {
     "data": {
      "text/html": [
       "<div>\n",
       "<style scoped>\n",
       "    .dataframe tbody tr th:only-of-type {\n",
       "        vertical-align: middle;\n",
       "    }\n",
       "\n",
       "    .dataframe tbody tr th {\n",
       "        vertical-align: top;\n",
       "    }\n",
       "\n",
       "    .dataframe thead th {\n",
       "        text-align: right;\n",
       "    }\n",
       "</style>\n",
       "<table border=\"1\" class=\"dataframe\">\n",
       "  <thead>\n",
       "    <tr style=\"text-align: right;\">\n",
       "      <th></th>\n",
       "      <th>TITLE</th>\n",
       "      <th>ABSTRACT</th>\n",
       "      <th>Computer Science</th>\n",
       "      <th>Physics</th>\n",
       "      <th>Mathematics</th>\n",
       "      <th>Statistics</th>\n",
       "      <th>Quantitative Biology</th>\n",
       "      <th>Quantitative Finance</th>\n",
       "    </tr>\n",
       "    <tr>\n",
       "      <th>ID</th>\n",
       "      <th></th>\n",
       "      <th></th>\n",
       "      <th></th>\n",
       "      <th></th>\n",
       "      <th></th>\n",
       "      <th></th>\n",
       "      <th></th>\n",
       "      <th></th>\n",
       "    </tr>\n",
       "  </thead>\n",
       "  <tbody>\n",
       "    <tr>\n",
       "      <th>5</th>\n",
       "      <td>Comparative study of Discrete Wavelet Transfor...</td>\n",
       "      <td>Fourier-transform infra-red (FTIR) spectra o...</td>\n",
       "      <td>1</td>\n",
       "      <td>0</td>\n",
       "      <td>0</td>\n",
       "      <td>1</td>\n",
       "      <td>0</td>\n",
       "      <td>0</td>\n",
       "    </tr>\n",
       "    <tr>\n",
       "      <th>22</th>\n",
       "      <td>Many-Body Localization: Stability and Instability</td>\n",
       "      <td>Rare regions with weak disorder (Griffiths r...</td>\n",
       "      <td>0</td>\n",
       "      <td>1</td>\n",
       "      <td>1</td>\n",
       "      <td>0</td>\n",
       "      <td>0</td>\n",
       "      <td>0</td>\n",
       "    </tr>\n",
       "    <tr>\n",
       "      <th>29</th>\n",
       "      <td>Minimax Estimation of the $L_1$ Distance</td>\n",
       "      <td>We consider the problem of estimating the $L...</td>\n",
       "      <td>0</td>\n",
       "      <td>0</td>\n",
       "      <td>1</td>\n",
       "      <td>1</td>\n",
       "      <td>0</td>\n",
       "      <td>0</td>\n",
       "    </tr>\n",
       "    <tr>\n",
       "      <th>30</th>\n",
       "      <td>Density large deviations for multidimensional ...</td>\n",
       "      <td>We investigate the density large deviation f...</td>\n",
       "      <td>0</td>\n",
       "      <td>1</td>\n",
       "      <td>1</td>\n",
       "      <td>0</td>\n",
       "      <td>0</td>\n",
       "      <td>0</td>\n",
       "    </tr>\n",
       "    <tr>\n",
       "      <th>31</th>\n",
       "      <td>mixup: Beyond Empirical Risk Minimization</td>\n",
       "      <td>Large deep neural networks are powerful, but...</td>\n",
       "      <td>1</td>\n",
       "      <td>0</td>\n",
       "      <td>0</td>\n",
       "      <td>1</td>\n",
       "      <td>0</td>\n",
       "      <td>0</td>\n",
       "    </tr>\n",
       "    <tr>\n",
       "      <th>...</th>\n",
       "      <td>...</td>\n",
       "      <td>...</td>\n",
       "      <td>...</td>\n",
       "      <td>...</td>\n",
       "      <td>...</td>\n",
       "      <td>...</td>\n",
       "      <td>...</td>\n",
       "      <td>...</td>\n",
       "    </tr>\n",
       "    <tr>\n",
       "      <th>20964</th>\n",
       "      <td>Faithful Inversion of Generative Models for Ef...</td>\n",
       "      <td>Inference amortization methods share informa...</td>\n",
       "      <td>1</td>\n",
       "      <td>0</td>\n",
       "      <td>0</td>\n",
       "      <td>1</td>\n",
       "      <td>0</td>\n",
       "      <td>0</td>\n",
       "    </tr>\n",
       "    <tr>\n",
       "      <th>20965</th>\n",
       "      <td>A social Network Analysis of the Operations Re...</td>\n",
       "      <td>We study the U.S. Operations Research/Indust...</td>\n",
       "      <td>1</td>\n",
       "      <td>0</td>\n",
       "      <td>0</td>\n",
       "      <td>1</td>\n",
       "      <td>0</td>\n",
       "      <td>0</td>\n",
       "    </tr>\n",
       "    <tr>\n",
       "      <th>20968</th>\n",
       "      <td>Contemporary machine learning: a guide for pra...</td>\n",
       "      <td>Machine learning is finding increasingly bro...</td>\n",
       "      <td>1</td>\n",
       "      <td>1</td>\n",
       "      <td>0</td>\n",
       "      <td>0</td>\n",
       "      <td>0</td>\n",
       "      <td>0</td>\n",
       "    </tr>\n",
       "    <tr>\n",
       "      <th>20971</th>\n",
       "      <td>On the Efficient Simulation of the Left-Tail o...</td>\n",
       "      <td>The sum of Log-normal variates is encountere...</td>\n",
       "      <td>0</td>\n",
       "      <td>0</td>\n",
       "      <td>1</td>\n",
       "      <td>1</td>\n",
       "      <td>0</td>\n",
       "      <td>0</td>\n",
       "    </tr>\n",
       "    <tr>\n",
       "      <th>20972</th>\n",
       "      <td>Why optional stopping is a problem for Bayesians</td>\n",
       "      <td>Recently, optional stopping has been a subje...</td>\n",
       "      <td>0</td>\n",
       "      <td>0</td>\n",
       "      <td>1</td>\n",
       "      <td>1</td>\n",
       "      <td>0</td>\n",
       "      <td>0</td>\n",
       "    </tr>\n",
       "  </tbody>\n",
       "</table>\n",
       "<p>5044 rows × 8 columns</p>\n",
       "</div>"
      ],
      "text/plain": [
       "                                                   TITLE  \\\n",
       "ID                                                         \n",
       "5      Comparative study of Discrete Wavelet Transfor...   \n",
       "22     Many-Body Localization: Stability and Instability   \n",
       "29              Minimax Estimation of the $L_1$ Distance   \n",
       "30     Density large deviations for multidimensional ...   \n",
       "31             mixup: Beyond Empirical Risk Minimization   \n",
       "...                                                  ...   \n",
       "20964  Faithful Inversion of Generative Models for Ef...   \n",
       "20965  A social Network Analysis of the Operations Re...   \n",
       "20968  Contemporary machine learning: a guide for pra...   \n",
       "20971  On the Efficient Simulation of the Left-Tail o...   \n",
       "20972   Why optional stopping is a problem for Bayesians   \n",
       "\n",
       "                                                ABSTRACT  Computer Science  \\\n",
       "ID                                                                           \n",
       "5        Fourier-transform infra-red (FTIR) spectra o...                 1   \n",
       "22       Rare regions with weak disorder (Griffiths r...                 0   \n",
       "29       We consider the problem of estimating the $L...                 0   \n",
       "30       We investigate the density large deviation f...                 0   \n",
       "31       Large deep neural networks are powerful, but...                 1   \n",
       "...                                                  ...               ...   \n",
       "20964    Inference amortization methods share informa...                 1   \n",
       "20965    We study the U.S. Operations Research/Indust...                 1   \n",
       "20968    Machine learning is finding increasingly bro...                 1   \n",
       "20971    The sum of Log-normal variates is encountere...                 0   \n",
       "20972    Recently, optional stopping has been a subje...                 0   \n",
       "\n",
       "       Physics  Mathematics  Statistics  Quantitative Biology  \\\n",
       "ID                                                              \n",
       "5            0            0           1                     0   \n",
       "22           1            1           0                     0   \n",
       "29           0            1           1                     0   \n",
       "30           1            1           0                     0   \n",
       "31           0            0           1                     0   \n",
       "...        ...          ...         ...                   ...   \n",
       "20964        0            0           1                     0   \n",
       "20965        0            0           1                     0   \n",
       "20968        1            0           0                     0   \n",
       "20971        0            1           1                     0   \n",
       "20972        0            1           1                     0   \n",
       "\n",
       "       Quantitative Finance  \n",
       "ID                           \n",
       "5                         0  \n",
       "22                        0  \n",
       "29                        0  \n",
       "30                        0  \n",
       "31                        0  \n",
       "...                     ...  \n",
       "20964                     0  \n",
       "20965                     0  \n",
       "20968                     0  \n",
       "20971                     0  \n",
       "20972                     0  \n",
       "\n",
       "[5044 rows x 8 columns]"
      ]
     },
     "execution_count": 51,
     "metadata": {},
     "output_type": "execute_result"
    }
   ],
   "source": [
    "tm_train[tm_train[tm_train.columns.tolist()[2:]].sum(axis=1)>1]"
   ]
  },
  {
   "cell_type": "markdown",
   "id": "different-simulation",
   "metadata": {},
   "source": [
    "Once again, we would prefer to not have samples that correspond to multiple topics."
   ]
  },
  {
   "cell_type": "code",
   "execution_count": 52,
   "id": "dying-shower",
   "metadata": {},
   "outputs": [],
   "source": [
    "tm_train = tm_train.drop(tm_train[tm_train[tm_train.columns.tolist()[2:]].sum(axis=1)>1].index)"
   ]
  },
  {
   "cell_type": "markdown",
   "id": "collective-sydney",
   "metadata": {},
   "source": [
    "We also don't need the document title."
   ]
  },
  {
   "cell_type": "code",
   "execution_count": 53,
   "id": "prescription-distinction",
   "metadata": {},
   "outputs": [],
   "source": [
    "tm_train = tm_train.drop(columns=[\"TITLE\"])"
   ]
  },
  {
   "cell_type": "code",
   "execution_count": 54,
   "id": "tired-school",
   "metadata": {},
   "outputs": [
    {
     "data": {
      "text/html": [
       "<div>\n",
       "<style scoped>\n",
       "    .dataframe tbody tr th:only-of-type {\n",
       "        vertical-align: middle;\n",
       "    }\n",
       "\n",
       "    .dataframe tbody tr th {\n",
       "        vertical-align: top;\n",
       "    }\n",
       "\n",
       "    .dataframe thead th {\n",
       "        text-align: right;\n",
       "    }\n",
       "</style>\n",
       "<table border=\"1\" class=\"dataframe\">\n",
       "  <thead>\n",
       "    <tr style=\"text-align: right;\">\n",
       "      <th></th>\n",
       "      <th>ABSTRACT</th>\n",
       "      <th>Computer Science</th>\n",
       "      <th>Physics</th>\n",
       "      <th>Mathematics</th>\n",
       "      <th>Statistics</th>\n",
       "      <th>Quantitative Biology</th>\n",
       "      <th>Quantitative Finance</th>\n",
       "    </tr>\n",
       "    <tr>\n",
       "      <th>ID</th>\n",
       "      <th></th>\n",
       "      <th></th>\n",
       "      <th></th>\n",
       "      <th></th>\n",
       "      <th></th>\n",
       "      <th></th>\n",
       "      <th></th>\n",
       "    </tr>\n",
       "  </thead>\n",
       "  <tbody>\n",
       "    <tr>\n",
       "      <th>1</th>\n",
       "      <td>Predictive models allow subject-specific inf...</td>\n",
       "      <td>1</td>\n",
       "      <td>0</td>\n",
       "      <td>0</td>\n",
       "      <td>0</td>\n",
       "      <td>0</td>\n",
       "      <td>0</td>\n",
       "    </tr>\n",
       "    <tr>\n",
       "      <th>2</th>\n",
       "      <td>Rotation invariance and translation invarian...</td>\n",
       "      <td>1</td>\n",
       "      <td>0</td>\n",
       "      <td>0</td>\n",
       "      <td>0</td>\n",
       "      <td>0</td>\n",
       "      <td>0</td>\n",
       "    </tr>\n",
       "    <tr>\n",
       "      <th>3</th>\n",
       "      <td>We introduce and develop the notion of spher...</td>\n",
       "      <td>0</td>\n",
       "      <td>0</td>\n",
       "      <td>1</td>\n",
       "      <td>0</td>\n",
       "      <td>0</td>\n",
       "      <td>0</td>\n",
       "    </tr>\n",
       "    <tr>\n",
       "      <th>4</th>\n",
       "      <td>The stochastic Landau--Lifshitz--Gilbert (LL...</td>\n",
       "      <td>0</td>\n",
       "      <td>0</td>\n",
       "      <td>1</td>\n",
       "      <td>0</td>\n",
       "      <td>0</td>\n",
       "      <td>0</td>\n",
       "    </tr>\n",
       "    <tr>\n",
       "      <th>6</th>\n",
       "      <td>Let $\\Omega \\subset \\mathbb{R}^n$ be a bound...</td>\n",
       "      <td>0</td>\n",
       "      <td>0</td>\n",
       "      <td>1</td>\n",
       "      <td>0</td>\n",
       "      <td>0</td>\n",
       "      <td>0</td>\n",
       "    </tr>\n",
       "    <tr>\n",
       "      <th>...</th>\n",
       "      <td>...</td>\n",
       "      <td>...</td>\n",
       "      <td>...</td>\n",
       "      <td>...</td>\n",
       "      <td>...</td>\n",
       "      <td>...</td>\n",
       "      <td>...</td>\n",
       "    </tr>\n",
       "    <tr>\n",
       "      <th>20963</th>\n",
       "      <td>Features and applications of quasi-spherical...</td>\n",
       "      <td>0</td>\n",
       "      <td>1</td>\n",
       "      <td>0</td>\n",
       "      <td>0</td>\n",
       "      <td>0</td>\n",
       "      <td>0</td>\n",
       "    </tr>\n",
       "    <tr>\n",
       "      <th>20966</th>\n",
       "      <td>An aggregate data meta-analysis is a statist...</td>\n",
       "      <td>0</td>\n",
       "      <td>0</td>\n",
       "      <td>0</td>\n",
       "      <td>1</td>\n",
       "      <td>0</td>\n",
       "      <td>0</td>\n",
       "    </tr>\n",
       "    <tr>\n",
       "      <th>20967</th>\n",
       "      <td>Large inter-datacenter transfers are crucial...</td>\n",
       "      <td>1</td>\n",
       "      <td>0</td>\n",
       "      <td>0</td>\n",
       "      <td>0</td>\n",
       "      <td>0</td>\n",
       "      <td>0</td>\n",
       "    </tr>\n",
       "    <tr>\n",
       "      <th>20969</th>\n",
       "      <td>Polycrystalline diamond coatings have been g...</td>\n",
       "      <td>0</td>\n",
       "      <td>1</td>\n",
       "      <td>0</td>\n",
       "      <td>0</td>\n",
       "      <td>0</td>\n",
       "      <td>0</td>\n",
       "    </tr>\n",
       "    <tr>\n",
       "      <th>20970</th>\n",
       "      <td>We present a new approach for identifying si...</td>\n",
       "      <td>1</td>\n",
       "      <td>0</td>\n",
       "      <td>0</td>\n",
       "      <td>0</td>\n",
       "      <td>0</td>\n",
       "      <td>0</td>\n",
       "    </tr>\n",
       "  </tbody>\n",
       "</table>\n",
       "<p>15928 rows × 7 columns</p>\n",
       "</div>"
      ],
      "text/plain": [
       "                                                ABSTRACT  Computer Science  \\\n",
       "ID                                                                           \n",
       "1        Predictive models allow subject-specific inf...                 1   \n",
       "2        Rotation invariance and translation invarian...                 1   \n",
       "3        We introduce and develop the notion of spher...                 0   \n",
       "4        The stochastic Landau--Lifshitz--Gilbert (LL...                 0   \n",
       "6        Let $\\Omega \\subset \\mathbb{R}^n$ be a bound...                 0   \n",
       "...                                                  ...               ...   \n",
       "20963    Features and applications of quasi-spherical...                 0   \n",
       "20966    An aggregate data meta-analysis is a statist...                 0   \n",
       "20967    Large inter-datacenter transfers are crucial...                 1   \n",
       "20969    Polycrystalline diamond coatings have been g...                 0   \n",
       "20970    We present a new approach for identifying si...                 1   \n",
       "\n",
       "       Physics  Mathematics  Statistics  Quantitative Biology  \\\n",
       "ID                                                              \n",
       "1            0            0           0                     0   \n",
       "2            0            0           0                     0   \n",
       "3            0            1           0                     0   \n",
       "4            0            1           0                     0   \n",
       "6            0            1           0                     0   \n",
       "...        ...          ...         ...                   ...   \n",
       "20963        1            0           0                     0   \n",
       "20966        0            0           1                     0   \n",
       "20967        0            0           0                     0   \n",
       "20969        1            0           0                     0   \n",
       "20970        0            0           0                     0   \n",
       "\n",
       "       Quantitative Finance  \n",
       "ID                           \n",
       "1                         0  \n",
       "2                         0  \n",
       "3                         0  \n",
       "4                         0  \n",
       "6                         0  \n",
       "...                     ...  \n",
       "20963                     0  \n",
       "20966                     0  \n",
       "20967                     0  \n",
       "20969                     0  \n",
       "20970                     0  \n",
       "\n",
       "[15928 rows x 7 columns]"
      ]
     },
     "execution_count": 54,
     "metadata": {},
     "output_type": "execute_result"
    }
   ],
   "source": [
    "tm_train"
   ]
  },
  {
   "cell_type": "code",
   "execution_count": 55,
   "id": "imposed-waterproof",
   "metadata": {},
   "outputs": [],
   "source": [
    "tm_train_topics, tm_train_topics_count = get_topics_and_count(tm_train, 1)"
   ]
  },
  {
   "cell_type": "code",
   "execution_count": 56,
   "id": "induced-affiliation",
   "metadata": {},
   "outputs": [
    {
     "data": {
      "text/plain": [
       "6"
      ]
     },
     "execution_count": 56,
     "metadata": {},
     "output_type": "execute_result"
    }
   ],
   "source": [
    "tm_train_topics_count"
   ]
  },
  {
   "cell_type": "markdown",
   "id": "polish-breath",
   "metadata": {},
   "source": [
    "After removing multitopic observations we can put all topics in a single column as the previous dataset."
   ]
  },
  {
   "cell_type": "markdown",
   "id": "oriental-alaska",
   "metadata": {},
   "source": [
    "The columns are no longer need so we can drop them convert the new one to category type."
   ]
  },
  {
   "cell_type": "code",
   "execution_count": 57,
   "id": "metallic-athletics",
   "metadata": {},
   "outputs": [],
   "source": [
    "tm_train[\"Topic ID\"] = dump_topics_to_one(tm_train, 1)"
   ]
  },
  {
   "cell_type": "code",
   "execution_count": 58,
   "id": "north-dating",
   "metadata": {},
   "outputs": [],
   "source": [
    "tm_train = tm_train.drop(columns=tm_train_topics)\n",
    "tm_train[\"Topic ID\"] = tm_train[\"Topic ID\"].astype(\"category\")"
   ]
  },
  {
   "cell_type": "code",
   "execution_count": 59,
   "id": "solar-ocean",
   "metadata": {},
   "outputs": [
    {
     "data": {
      "text/html": [
       "<div>\n",
       "<style scoped>\n",
       "    .dataframe tbody tr th:only-of-type {\n",
       "        vertical-align: middle;\n",
       "    }\n",
       "\n",
       "    .dataframe tbody tr th {\n",
       "        vertical-align: top;\n",
       "    }\n",
       "\n",
       "    .dataframe thead th {\n",
       "        text-align: right;\n",
       "    }\n",
       "</style>\n",
       "<table border=\"1\" class=\"dataframe\">\n",
       "  <thead>\n",
       "    <tr style=\"text-align: right;\">\n",
       "      <th></th>\n",
       "      <th>ABSTRACT</th>\n",
       "      <th>Topic ID</th>\n",
       "    </tr>\n",
       "    <tr>\n",
       "      <th>ID</th>\n",
       "      <th></th>\n",
       "      <th></th>\n",
       "    </tr>\n",
       "  </thead>\n",
       "  <tbody>\n",
       "    <tr>\n",
       "      <th>1</th>\n",
       "      <td>Predictive models allow subject-specific inf...</td>\n",
       "      <td>0</td>\n",
       "    </tr>\n",
       "    <tr>\n",
       "      <th>2</th>\n",
       "      <td>Rotation invariance and translation invarian...</td>\n",
       "      <td>0</td>\n",
       "    </tr>\n",
       "    <tr>\n",
       "      <th>3</th>\n",
       "      <td>We introduce and develop the notion of spher...</td>\n",
       "      <td>2</td>\n",
       "    </tr>\n",
       "    <tr>\n",
       "      <th>4</th>\n",
       "      <td>The stochastic Landau--Lifshitz--Gilbert (LL...</td>\n",
       "      <td>2</td>\n",
       "    </tr>\n",
       "    <tr>\n",
       "      <th>6</th>\n",
       "      <td>Let $\\Omega \\subset \\mathbb{R}^n$ be a bound...</td>\n",
       "      <td>2</td>\n",
       "    </tr>\n",
       "    <tr>\n",
       "      <th>...</th>\n",
       "      <td>...</td>\n",
       "      <td>...</td>\n",
       "    </tr>\n",
       "    <tr>\n",
       "      <th>20963</th>\n",
       "      <td>Features and applications of quasi-spherical...</td>\n",
       "      <td>1</td>\n",
       "    </tr>\n",
       "    <tr>\n",
       "      <th>20966</th>\n",
       "      <td>An aggregate data meta-analysis is a statist...</td>\n",
       "      <td>3</td>\n",
       "    </tr>\n",
       "    <tr>\n",
       "      <th>20967</th>\n",
       "      <td>Large inter-datacenter transfers are crucial...</td>\n",
       "      <td>0</td>\n",
       "    </tr>\n",
       "    <tr>\n",
       "      <th>20969</th>\n",
       "      <td>Polycrystalline diamond coatings have been g...</td>\n",
       "      <td>1</td>\n",
       "    </tr>\n",
       "    <tr>\n",
       "      <th>20970</th>\n",
       "      <td>We present a new approach for identifying si...</td>\n",
       "      <td>0</td>\n",
       "    </tr>\n",
       "  </tbody>\n",
       "</table>\n",
       "<p>15928 rows × 2 columns</p>\n",
       "</div>"
      ],
      "text/plain": [
       "                                                ABSTRACT Topic ID\n",
       "ID                                                               \n",
       "1        Predictive models allow subject-specific inf...        0\n",
       "2        Rotation invariance and translation invarian...        0\n",
       "3        We introduce and develop the notion of spher...        2\n",
       "4        The stochastic Landau--Lifshitz--Gilbert (LL...        2\n",
       "6        Let $\\Omega \\subset \\mathbb{R}^n$ be a bound...        2\n",
       "...                                                  ...      ...\n",
       "20963    Features and applications of quasi-spherical...        1\n",
       "20966    An aggregate data meta-analysis is a statist...        3\n",
       "20967    Large inter-datacenter transfers are crucial...        0\n",
       "20969    Polycrystalline diamond coatings have been g...        1\n",
       "20970    We present a new approach for identifying si...        0\n",
       "\n",
       "[15928 rows x 2 columns]"
      ]
     },
     "execution_count": 59,
     "metadata": {},
     "output_type": "execute_result"
    }
   ],
   "source": [
    "tm_train"
   ]
  },
  {
   "cell_type": "code",
   "execution_count": 60,
   "id": "actual-being",
   "metadata": {},
   "outputs": [
    {
     "name": "stdout",
     "output_type": "stream",
     "text": [
      "<class 'pandas.core.frame.DataFrame'>\n",
      "Int64Index: 15928 entries, 1 to 20970\n",
      "Data columns (total 2 columns):\n",
      " #   Column    Non-Null Count  Dtype   \n",
      "---  ------    --------------  -----   \n",
      " 0   ABSTRACT  15928 non-null  object  \n",
      " 1   Topic ID  15928 non-null  category\n",
      "dtypes: category(1), object(1)\n",
      "memory usage: 264.6+ KB\n"
     ]
    }
   ],
   "source": [
    "tm_train.info()"
   ]
  },
  {
   "cell_type": "markdown",
   "id": "focal-orchestra",
   "metadata": {},
   "source": [
    "In the next cells we will do the same text transformations as with the previous dataset."
   ]
  },
  {
   "cell_type": "markdown",
   "id": "innovative-representation",
   "metadata": {},
   "source": [
    "First we get rid of latex and numbers."
   ]
  },
  {
   "cell_type": "code",
   "execution_count": 61,
   "id": "otherwise-netscape",
   "metadata": {},
   "outputs": [],
   "source": [
    "tm_articles_raw = tm_train[\"ABSTRACT\"].tolist()\n",
    "tm_articles_no_latex = [remove_latex(article) for article in tm_articles_raw]\n",
    "tm_articles_no_numbers = [remove_numbers(article) for article in tm_articles_no_latex]"
   ]
  },
  {
   "cell_type": "markdown",
   "id": "scenic-yugoslavia",
   "metadata": {},
   "source": [
    "Next we lemmatize."
   ]
  },
  {
   "cell_type": "code",
   "execution_count": 62,
   "id": "induced-philip",
   "metadata": {},
   "outputs": [
    {
     "name": "stdout",
     "output_type": "stream",
     "text": [
      "Wall time: 11min 43s\n"
     ]
    }
   ],
   "source": [
    "%%time\n",
    "doc_tokens_tm = [splitter.split(article) for article in tm_articles_no_numbers]\n",
    "lemma_docs = [lemmatization_using_pos_tagger.lemmatize(doc_token) for doc_token in doc_tokens_tm]"
   ]
  },
  {
   "cell_type": "code",
   "execution_count": 63,
   "id": "balanced-nickname",
   "metadata": {},
   "outputs": [],
   "source": [
    "tm_articles = [remove_punctuation(\" \".join(doc)) for doc in lemma_docs]"
   ]
  },
  {
   "cell_type": "markdown",
   "id": "hairy-village",
   "metadata": {},
   "source": [
    "## 2.3 Content comparison <a class=\"anchor\" id=\"Content_comparison\"></a>"
   ]
  },
  {
   "cell_type": "markdown",
   "id": "understanding-semester",
   "metadata": {},
   "source": [
    "Another thing we can do is compare the datasets to get an idea of can we use them together.\n",
    "\n",
    "Lets see how many words some documents from the datasets contain."
   ]
  },
  {
   "cell_type": "code",
   "execution_count": 64,
   "id": "involved-adapter",
   "metadata": {},
   "outputs": [],
   "source": [
    "def count_words(doc, stopwords=[]):\n",
    "    \"\"\"\n",
    "    Returns the word count from doc excluding the given stopwords.\n",
    "    Example:\n",
    "    doc = \"A robot trying to read sounds a bit ridiculous\"\n",
    "    stopwords = [\"a\", \"to\", \"bit\"]\n",
    "    \"\"\"\n",
    "    raw_voc = re.sub(r'[^\\w\\s]','',doc).lower().split(\" \")\n",
    "    clean_voc = list()\n",
    "    for word in doc:\n",
    "        if not word in stopwords:\n",
    "            clean_voc.append(word)\n",
    "            \n",
    "    return len(clean_voc)"
   ]
  },
  {
   "cell_type": "code",
   "execution_count": 65,
   "id": "ethical-superior",
   "metadata": {},
   "outputs": [
    {
     "data": {
      "text/plain": [
       "996.6175288799598"
      ]
     },
     "execution_count": 65,
     "metadata": {},
     "output_type": "execute_result"
    }
   ],
   "source": [
    "words_count_tm = [count_words(article, []) for article in tm_articles_raw]\n",
    "np.mean(words_count_tm)"
   ]
  },
  {
   "cell_type": "code",
   "execution_count": 66,
   "id": "valuable-victim",
   "metadata": {},
   "outputs": [
    {
     "data": {
      "text/plain": [
       "1075.1098770329234"
      ]
     },
     "execution_count": 66,
     "metadata": {},
     "output_type": "execute_result"
    }
   ],
   "source": [
    "words_count_df = [count_words(research_articles_raw[i], []) for i, abstract in enumerate(research_articles_raw)]\n",
    "np.mean(words_count_df)"
   ]
  },
  {
   "cell_type": "markdown",
   "id": "distant-interval",
   "metadata": {},
   "source": [
    "At a first glance they seem pretty similiar, but the length of an abstract really changes from record to record."
   ]
  },
  {
   "cell_type": "code",
   "execution_count": 67,
   "id": "typical-writing",
   "metadata": {},
   "outputs": [
    {
     "data": {
      "text/plain": [
       "(7, 2592)"
      ]
     },
     "execution_count": 67,
     "metadata": {},
     "output_type": "execute_result"
    }
   ],
   "source": [
    "(np.min(words_count_tm), np.max(words_count_tm))"
   ]
  },
  {
   "cell_type": "code",
   "execution_count": 68,
   "id": "artistic-romantic",
   "metadata": {},
   "outputs": [
    {
     "data": {
      "text/plain": [
       "(46, 2406)"
      ]
     },
     "execution_count": 68,
     "metadata": {},
     "output_type": "execute_result"
    }
   ],
   "source": [
    "(np.min(words_count_df), np.max(words_count_df))"
   ]
  },
  {
   "cell_type": "code",
   "execution_count": 69,
   "id": "chronic-hostel",
   "metadata": {},
   "outputs": [],
   "source": [
    "def plot_hist(sources, dataset_name, stopwords=[], c=None):\n",
    "    \"\"\"\n",
    "    Plots histogram of the number of words inside all documents the sources list\n",
    "    with dataset_name as a legend information.\n",
    "    \"\"\"\n",
    "    \n",
    "    words_count =list()\n",
    "    \n",
    "    #words_count = [count_words(docs[x], []) for x in range(1,len(docs)-1)]\n",
    "    for docs in sources:\n",
    "        words_count.append([count_words(doc, stopwords) for doc in docs])\n",
    "    \n",
    "    alpha = 1 if len(sources)==1 else 0.7\n",
    "    for n, h in enumerate(words_count):\n",
    "        plt.hist(h, bins=\"fd\",label = dataset_name[n], alpha=alpha, color=c)\n",
    "    plt.title(\"Histogram of word counts in the given dataset(s)\")\n",
    "    plt.ylabel(\"Frequency\")\n",
    "    plt.xlabel(\"Word count\")\n",
    "    plt.legend(loc='upper right')\n",
    "    plt.xticks(np.arange(0, np.max([np.max(wc) for wc in words_count]), step=500))\n",
    "    plt.show()"
   ]
  },
  {
   "cell_type": "code",
   "execution_count": 70,
   "id": "talented-waterproof",
   "metadata": {},
   "outputs": [
    {
     "data": {
      "image/png": "[encoded data removed]",
      "text/plain": [
       "<Figure size 432x288 with 1 Axes>"
      ]
     },
     "metadata": {
      "needs_background": "light"
     },
     "output_type": "display_data"
    }
   ],
   "source": [
    "plot_hist([research_articles_raw], [\"Research articles\"], [], \"blue\")"
   ]
  },
  {
   "cell_type": "code",
   "execution_count": 71,
   "id": "cheap-uganda",
   "metadata": {},
   "outputs": [
    {
     "data": {
      "image/png": "[encoded data removed]",
      "text/plain": [
       "<Figure size 432x288 with 1 Axes>"
      ]
     },
     "metadata": {
      "needs_background": "light"
     },
     "output_type": "display_data"
    }
   ],
   "source": [
    "plot_hist([tm_articles_raw], [\"TM articles\"], [], \"red\")"
   ]
  },
  {
   "cell_type": "markdown",
   "id": "perfect-continuity",
   "metadata": {},
   "source": [
    "There are a few records that contain unusually few or many words in them, but this is not a concern for us since the number of words in a document doesn't affect the topic distribution."
   ]
  },
  {
   "cell_type": "markdown",
   "id": "electric-maldives",
   "metadata": {},
   "source": [
    "Since we are going to be predicting topics lets see the topic distributions in the datasets."
   ]
  },
  {
   "cell_type": "markdown",
   "id": "abandoned-dodge",
   "metadata": {},
   "source": [
    "Here we will define a function that we will use from now on for demonstrating our models' predictions."
   ]
  },
  {
   "cell_type": "code",
   "execution_count": 72,
   "id": "statutory-nylon",
   "metadata": {},
   "outputs": [],
   "source": [
    "def plot_topic_dist(topic_dists, names, doc_name, topic_names=[], correct=None):\n",
    "    \"\"\"\n",
    "    Plots a barchart for the topic distributions for 1 or more topic models\n",
    "    topic_dists - a list of lists of topic distributons each for 1 model\n",
    "    names - model names\n",
    "    Example:\n",
    "    topic_dists = [[0.5, 0.3, 0.1, 0.1], [0.48, 0.31, 0.11, 0.1]]\n",
    "    names = ['LDA', 'PMA']\n",
    "    plot_topic_dist(topic_dists, names)\n",
    "    \"\"\"\n",
    "    names_count = len(names)\n",
    "    fig, ax = plt.subplots()\n",
    "    ax.set_ylabel('Score')\n",
    "    ax.set_xlabel('Topic')\n",
    "    \n",
    "    prefix = \"Topic distribution for \"\n",
    "    suffix = \" on doc \" + str(doc_name)\n",
    "    if names_count == 1:\n",
    "        ax.set_title(prefix + \"{} model\".format(*names) + suffix)\n",
    "    elif names_count == 2:\n",
    "        ax.set_title(prefix + \"{} and {} models\".format(*names) + suffix)\n",
    "    else:\n",
    "        ax.set_title(prefix + \"\".join([name + \", \" for name in names]) +\n",
    "                    names[-1] + \" models\".format(*names) + suffix) # Took way too much time but its pretty :)\n",
    "        \n",
    "    x = np.arange(len(topic_dists[0]))\n",
    "    plt.xticks(rotation=45)\n",
    "    ax.set_xticks(x)\n",
    "    if len(topic_names):\n",
    "        ax.set_xticklabels(topic_names)\n",
    "    else:\n",
    "        ax.set_xticklabels([\" #{}\".format(i) for i in x])\n",
    "    \n",
    "    bar_width = 0.35\n",
    "    topic_count = len(topic_dists[0])\n",
    "    for i, dist in enumerate(topic_dists):\n",
    "        labels = np.arange(len(dist))\n",
    "        ax.bar(x - bar_width/2 + i*  bar_width/2, dist, bar_width, label=names[i])\n",
    "        \n",
    "    if correct != None:\n",
    "        correct_bars = np.zeros(topic_count)\n",
    "        correct_bars[correct]=1\n",
    "        ax.bar(x - bar_width/2 + i*  bar_width/2, correct_bars, bar_width/2, label=\"Correct (not dist)\", color=\"lightgreen\")\n",
    "    \n",
    "    ax.legend()\n",
    "    fig.tight_layout()\n",
    "    plt.show()"
   ]
  },
  {
   "cell_type": "code",
   "execution_count": 73,
   "id": "bearing-workshop",
   "metadata": {
    "scrolled": true
   },
   "outputs": [
    {
     "data": {
      "image/png": "[encoded data removed]",
      "text/plain": [
       "<Figure size 432x288 with 1 Axes>"
      ]
     },
     "metadata": {
      "needs_background": "light"
     },
     "output_type": "display_data"
    }
   ],
   "source": [
    "topic_dist_df_test = np.array([np.sum(df_test[topic].tolist()) for topic in test_topics])/df_test.shape[0]\n",
    "plot_topic_dist([topic_dist_df_test], [\"Research \\n Articles  train\"],\"All\", topic_names = test_topics)"
   ]
  },
  {
   "cell_type": "code",
   "execution_count": 74,
   "id": "according-cholesterol",
   "metadata": {},
   "outputs": [
    {
     "data": {
      "image/png": "[encoded data removed]",
      "text/plain": [
       "<Figure size 432x288 with 1 Axes>"
      ]
     },
     "metadata": {
      "needs_background": "light"
     },
     "output_type": "display_data"
    }
   ],
   "source": [
    "topic_dist_tm_train = np.array(tm_train[\"Topic ID\"].value_counts().sort_index().tolist())/tm_train.shape[0]\n",
    "plot_topic_dist([topic_dist_tm_train], [\"TM Train\"],\"All\", topic_names = tm_train_topics)"
   ]
  },
  {
   "cell_type": "markdown",
   "id": "marked-joyce",
   "metadata": {},
   "source": [
    "# <div class=\"alert alert-block alert-info\">3. LDA </div> <a class=\"anchor\" id=\"LDA\"></a>"
   ]
  },
  {
   "cell_type": "markdown",
   "id": "material-elements",
   "metadata": {},
   "source": [
    "LDA is a commonly used algorithm in Topic modeling and it has been added to famous python libraries. Documentation about the LDA model provided in __gensim__ can be found <a href=\"https://radimrehurek.com/gensim/models/ldamodel.html\">here</a> and sklearn <a href=\"https://scikit-learn.org/stable/modules/generated/sklearn.decomposition.LatentDirichletAllocation.html\">here</a>.\n",
    "<br>\n",
    "<br>\n",
    "However, with regards to the purpose of this notebook, using them feels like cheating and in order to fully understand how it works we are going to implement it from scratch."
   ]
  },
  {
   "cell_type": "markdown",
   "id": "turkish-russell",
   "metadata": {},
   "source": [
    "## 3.1 Assumptions <a class=\"anchor\" id=\"Assumptions_LDA\"></a>"
   ]
  },
  {
   "cell_type": "markdown",
   "id": "macro-tribe",
   "metadata": {},
   "source": [
    "When writing any sort of ML, assumptions are __exremely__ important. That's how we know what the model could miss in the data.\n",
    "\n",
    "Latent Dirichlet Allocation models assume that:\n",
    "\n",
    "1. Each document is just a collection of words or a “bag of words”. Thus, the order of the words and the grammatical role of the words (subject, object, verbs, etc.) are not considered in the model.\n",
    "<br>\n",
    "2. Words like am/is/are/of/a/the/but (called __stopwords__) don’t carry any information about the “topics” and therefore can be eliminated from the documents as a preprocessing step. Moreover, words that appear in 80%-90% can be completely eliminated without a loss of information.\n",
    "<br>\n",
    "3. The number of topics is known beforehand.\n",
    "<br>\n",
    "4. All topic assignments except for the current word in question are correct, and then updating the assignment of the current word using our model of how documents are generated."
   ]
  },
  {
   "cell_type": "markdown",
   "id": "portable-butterfly",
   "metadata": {},
   "source": [
    "# 3.2 Preparing our data <a class=\"anchor\" id=\"Preparing_our_data_LDA\"></a>"
   ]
  },
  {
   "cell_type": "markdown",
   "id": "checked-advantage",
   "metadata": {},
   "source": [
    "Before we create our LDA model, there are still things that we can do to make it more efficient. In consensus with the assumptions listed above, we can get rid of the stopwords in the documents as they don't carry meaning that is exclusive to a particular topic. This can be done either by iterating through the entire dataset and filtering those words out in each document or __not letting our model use them__ by excluding them in the model's vocabulary. Both options have pros and cons. For performance reasons as well as reusing the original dataset later, we will go the second way."
   ]
  },
  {
   "cell_type": "markdown",
   "id": "engaging-scheme",
   "metadata": {},
   "source": [
    "Conveniently, we can accomplish both tasks in 1 shot by using sklearn's \n",
    "```python\n",
    "CountVectorizer(input='content', encoding='utf-8', decode_error='strict', strip_accents=None, lowercase=True, preprocessor=None, tokenizer=None, stop_words=None, token_pattern='(?u)\\b\\w\\w+\\b', ngram_range=(1, 1), analyzer='word', max_df=1.0, min_df=1, max_features=None, vocabulary=None, binary=False, dtype=<class 'numpy.int64'>)\n",
    "```\n",
    "For this notebook, we will use the following arguments:\n",
    "* <code>lowercase</code> - Convert all characters to lowercase before tokenizing\n",
    "* <code>stop_words</code> - Use a built-in stop word list or pass a custom one(recommended).\n",
    "* <code>max_df</code> - Threshold for highest acceptable frequency of a term in the entire corpus.\n",
    "* <code>min_df</code> - Threshold for lowest acceptable frequency of a term in the entire corpus.\n",
    "* <code>max_features</code> - Maximal vocabulary length of words ordered by frequency accross the corpus.\n",
    "\n",
    "\n",
    "With the method\n",
    "```python\n",
    "fit_transform(raw_documents, y=None)\n",
    "```\n",
    "we learn the vocabulary and can access it in the attribute of the same name.\n",
    "<br>\n",
    "<br>\n",
    "Full documentation of the class can be found <a href=\"https://scikit-learn.org/stable/modules/generated/sklearn.feature_extraction.text.CountVectorizer.html\">here</a>.\n",
    "<br>\n",
    "<br>"
   ]
  },
  {
   "cell_type": "markdown",
   "id": "narrow-joseph",
   "metadata": {},
   "source": [
    "First we store a copy of the stopwords in the ```stopwords_voc``` variable:"
   ]
  },
  {
   "cell_type": "code",
   "execution_count": 75,
   "id": "completed-science",
   "metadata": {},
   "outputs": [],
   "source": [
    "stopwords_voc = list(stopwords.words(\"english\"))"
   ]
  },
  {
   "cell_type": "code",
   "execution_count": 76,
   "id": "extraordinary-cameroon",
   "metadata": {},
   "outputs": [
    {
     "data": {
      "text/plain": [
       "['i',\n",
       " 'me',\n",
       " 'my',\n",
       " 'myself',\n",
       " 'we',\n",
       " 'our',\n",
       " 'ours',\n",
       " 'ourselves',\n",
       " 'you',\n",
       " \"you're\",\n",
       " \"you've\",\n",
       " \"you'll\",\n",
       " \"you'd\",\n",
       " 'your',\n",
       " 'yours',\n",
       " 'yourself',\n",
       " 'yourselves',\n",
       " 'he',\n",
       " 'him',\n",
       " 'his',\n",
       " 'himself',\n",
       " 'she',\n",
       " \"she's\",\n",
       " 'her',\n",
       " 'hers',\n",
       " 'herself',\n",
       " 'it',\n",
       " \"it's\",\n",
       " 'its',\n",
       " 'itself',\n",
       " 'they',\n",
       " 'them',\n",
       " 'their',\n",
       " 'theirs',\n",
       " 'themselves',\n",
       " 'what',\n",
       " 'which',\n",
       " 'who',\n",
       " 'whom',\n",
       " 'this',\n",
       " 'that',\n",
       " \"that'll\",\n",
       " 'these',\n",
       " 'those',\n",
       " 'am',\n",
       " 'is',\n",
       " 'are',\n",
       " 'was',\n",
       " 'were',\n",
       " 'be',\n",
       " 'been',\n",
       " 'being',\n",
       " 'have',\n",
       " 'has',\n",
       " 'had',\n",
       " 'having',\n",
       " 'do',\n",
       " 'does',\n",
       " 'did',\n",
       " 'doing',\n",
       " 'a',\n",
       " 'an',\n",
       " 'the',\n",
       " 'and',\n",
       " 'but',\n",
       " 'if',\n",
       " 'or',\n",
       " 'because',\n",
       " 'as',\n",
       " 'until',\n",
       " 'while',\n",
       " 'of',\n",
       " 'at',\n",
       " 'by',\n",
       " 'for',\n",
       " 'with',\n",
       " 'about',\n",
       " 'against',\n",
       " 'between',\n",
       " 'into',\n",
       " 'through',\n",
       " 'during',\n",
       " 'before',\n",
       " 'after',\n",
       " 'above',\n",
       " 'below',\n",
       " 'to',\n",
       " 'from',\n",
       " 'up',\n",
       " 'down',\n",
       " 'in',\n",
       " 'out',\n",
       " 'on',\n",
       " 'off',\n",
       " 'over',\n",
       " 'under',\n",
       " 'again',\n",
       " 'further',\n",
       " 'then',\n",
       " 'once',\n",
       " 'here',\n",
       " 'there',\n",
       " 'when',\n",
       " 'where',\n",
       " 'why',\n",
       " 'how',\n",
       " 'all',\n",
       " 'any',\n",
       " 'both',\n",
       " 'each',\n",
       " 'few',\n",
       " 'more',\n",
       " 'most',\n",
       " 'other',\n",
       " 'some',\n",
       " 'such',\n",
       " 'no',\n",
       " 'nor',\n",
       " 'not',\n",
       " 'only',\n",
       " 'own',\n",
       " 'same',\n",
       " 'so',\n",
       " 'than',\n",
       " 'too',\n",
       " 'very',\n",
       " 's',\n",
       " 't',\n",
       " 'can',\n",
       " 'will',\n",
       " 'just',\n",
       " 'don',\n",
       " \"don't\",\n",
       " 'should',\n",
       " \"should've\",\n",
       " 'now',\n",
       " 'd',\n",
       " 'll',\n",
       " 'm',\n",
       " 'o',\n",
       " 're',\n",
       " 've',\n",
       " 'y',\n",
       " 'ain',\n",
       " 'aren',\n",
       " \"aren't\",\n",
       " 'couldn',\n",
       " \"couldn't\",\n",
       " 'didn',\n",
       " \"didn't\",\n",
       " 'doesn',\n",
       " \"doesn't\",\n",
       " 'hadn',\n",
       " \"hadn't\",\n",
       " 'hasn',\n",
       " \"hasn't\",\n",
       " 'haven',\n",
       " \"haven't\",\n",
       " 'isn',\n",
       " \"isn't\",\n",
       " 'ma',\n",
       " 'mightn',\n",
       " \"mightn't\",\n",
       " 'mustn',\n",
       " \"mustn't\",\n",
       " 'needn',\n",
       " \"needn't\",\n",
       " 'shan',\n",
       " \"shan't\",\n",
       " 'shouldn',\n",
       " \"shouldn't\",\n",
       " 'wasn',\n",
       " \"wasn't\",\n",
       " 'weren',\n",
       " \"weren't\",\n",
       " 'won',\n",
       " \"won't\",\n",
       " 'wouldn',\n",
       " \"wouldn't\"]"
      ]
     },
     "execution_count": 76,
     "metadata": {},
     "output_type": "execute_result"
    }
   ],
   "source": [
    "stopwords_voc"
   ]
  },
  {
   "cell_type": "markdown",
   "id": "boxed-tribe",
   "metadata": {},
   "source": [
    "A good practice for topic modeling is to have a domain specific set of stop word list along with the standard ones. Otherwise, these words like \"introduction\",\"review\", \"considering\" etc. will come up in the term frequency matrix, if you have tried out analysing it. It can mislead the model by giving more weights to these domain specific keywords.\n",
    "\n",
    "<br>\n",
    "<br>\n",
    "Because of that we are going to add a few more words in that list."
   ]
  },
  {
   "cell_type": "code",
   "execution_count": 77,
   "id": "independent-cedar",
   "metadata": {},
   "outputs": [],
   "source": [
    "stopwords_voc += ['inside','also', 'considering', 'one', 'two', 'three', 'model', 'data', 'based', 'system']\n",
    "stopwords_voc += ['method','show', 'using', 'results', 'paper', 'time'] "
   ]
  },
  {
   "cell_type": "markdown",
   "id": "exterior-argument",
   "metadata": {},
   "source": [
    "Then we create an instance of ```CountVectorizer``` that will exclude the stopwords above from each abstract to create a vocabulary."
   ]
  },
  {
   "cell_type": "code",
   "execution_count": 78,
   "id": "bigger-stress",
   "metadata": {},
   "outputs": [],
   "source": [
    "count_vectorizer = CountVectorizer(max_df=0.9, min_df=0.001, max_features=10000, stop_words=stopwords_voc)"
   ]
  },
  {
   "cell_type": "markdown",
   "id": "first-conditioning",
   "metadata": {},
   "source": [
    "Now lets tokenize the text and create a bag of words document representation of our corpus to use in our model."
   ]
  },
  {
   "cell_type": "code",
   "execution_count": 79,
   "id": "veterinary-cosmetic",
   "metadata": {},
   "outputs": [],
   "source": [
    "training_articles = tm_articles\n",
    "\n",
    "tf = count_vectorizer.fit_transform(training_articles)\n",
    "vocabulary = count_vectorizer.vocabulary_"
   ]
  },
  {
   "cell_type": "code",
   "execution_count": 80,
   "id": "organic-consumer",
   "metadata": {},
   "outputs": [
    {
     "data": {
      "text/plain": [
       "{'1d': 0,\n",
       " '2d': 1,\n",
       " '3d': 2,\n",
       " '5g': 3,\n",
       " 'aa': 4,\n",
       " 'ab': 5,\n",
       " 'abelian': 6,\n",
       " 'ability': 7,\n",
       " 'able': 8,\n",
       " 'abnormal': 9,\n",
       " 'abrupt': 10,\n",
       " 'absence': 11,\n",
       " 'absent': 12,\n",
       " 'absolute': 13,\n",
       " 'absolutely': 14,\n",
       " 'absorb': 15,\n",
       " 'absorber': 16,\n",
       " 'absorption': 17,\n",
       " 'abstract': 18,\n",
       " 'abstraction': 19,\n",
       " 'abundance': 20,\n",
       " 'abundant': 21,\n",
       " 'ac': 22,\n",
       " 'academia': 23,\n",
       " 'academic': 24,\n",
       " 'accelerate': 25,\n",
       " 'accelerated': 26,\n",
       " 'acceleration': 27,\n",
       " 'accelerator': 28,\n",
       " 'accelerometer': 29,\n",
       " 'accept': 30,\n",
       " 'acceptable': 31,\n",
       " 'acceptance': 32,\n",
       " 'access': 33,\n",
       " 'accessibility': 34,\n",
       " 'accessible': 35,\n",
       " 'accident': 36,\n",
       " 'accommodate': 37,\n",
       " 'accompany': 38,\n",
       " 'accomplish': 39,\n",
       " 'accord': 40,\n",
       " 'accordance': 41,\n",
       " 'according': 42,\n",
       " 'accordingly': 43,\n",
       " 'account': 44,\n",
       " 'accounting': 45,\n",
       " 'accrete': 46,\n",
       " 'accretion': 47,\n",
       " 'accumulate': 48,\n",
       " 'accumulation': 49,\n",
       " 'accuracy': 50,\n",
       " 'accurate': 51,\n",
       " 'accurately': 52,\n",
       " 'achievable': 53,\n",
       " 'achieve': 54,\n",
       " 'achievement': 55,\n",
       " 'achieves': 56,\n",
       " 'acid': 57,\n",
       " 'acoustic': 58,\n",
       " 'acquire': 59,\n",
       " 'acquisition': 60,\n",
       " 'across': 61,\n",
       " 'act': 62,\n",
       " 'action': 63,\n",
       " 'activate': 64,\n",
       " 'activation': 65,\n",
       " 'active': 66,\n",
       " 'actively': 67,\n",
       " 'activity': 68,\n",
       " 'actor': 69,\n",
       " 'actual': 70,\n",
       " 'actually': 71,\n",
       " 'actuation': 72,\n",
       " 'actuator': 73,\n",
       " 'acyclic': 74,\n",
       " 'ad': 75,\n",
       " 'adapt': 76,\n",
       " 'adaptation': 77,\n",
       " 'adaptive': 78,\n",
       " 'adaptively': 79,\n",
       " 'add': 80,\n",
       " 'added': 81,\n",
       " 'addition': 82,\n",
       " 'additional': 83,\n",
       " 'additionally': 84,\n",
       " 'additive': 85,\n",
       " 'address': 86,\n",
       " 'adequate': 87,\n",
       " 'adequately': 88,\n",
       " 'adhoc': 89,\n",
       " 'adiabatic': 90,\n",
       " 'adic': 91,\n",
       " 'adjacency': 92,\n",
       " 'adjacent': 93,\n",
       " 'adjoint': 94,\n",
       " 'adjust': 95,\n",
       " 'adjustable': 96,\n",
       " 'adjustment': 97,\n",
       " 'admissible': 98,\n",
       " 'admit': 99,\n",
       " 'adopt': 100,\n",
       " 'adoption': 101,\n",
       " 'adsorption': 102,\n",
       " 'advance': 103,\n",
       " 'advanced': 104,\n",
       " 'advancement': 105,\n",
       " 'advances': 106,\n",
       " 'advantage': 107,\n",
       " 'advection': 108,\n",
       " 'advent': 109,\n",
       " 'adversarial': 110,\n",
       " 'adversary': 111,\n",
       " 'adverse': 112,\n",
       " 'advertising': 113,\n",
       " 'advocate': 114,\n",
       " 'aerial': 115,\n",
       " 'affect': 116,\n",
       " 'affected': 117,\n",
       " 'affine': 118,\n",
       " 'affinity': 119,\n",
       " 'afford': 120,\n",
       " 'affordable': 121,\n",
       " 'afm': 122,\n",
       " 'aforementioned': 123,\n",
       " 'afterwards': 124,\n",
       " 'age': 125,\n",
       " 'agency': 126,\n",
       " 'agent': 127,\n",
       " 'aggregate': 128,\n",
       " 'aggregation': 129,\n",
       " 'aggressive': 130,\n",
       " 'agile': 131,\n",
       " 'agn': 132,\n",
       " 'agnostic': 133,\n",
       " 'agns': 134,\n",
       " 'ago': 135,\n",
       " 'agree': 136,\n",
       " 'agreement': 137,\n",
       " 'ahead': 138,\n",
       " 'ai': 139,\n",
       " 'aid': 140,\n",
       " 'aim': 141,\n",
       " 'aims': 142,\n",
       " 'air': 143,\n",
       " 'aka': 144,\n",
       " 'akin': 145,\n",
       " 'al': 146,\n",
       " 'albedo': 147,\n",
       " 'albeit': 148,\n",
       " 'algebra': 149,\n",
       " 'algebraic': 150,\n",
       " 'algebraically': 151,\n",
       " 'algebras': 152,\n",
       " 'algorithm': 153,\n",
       " 'algorithmic': 154,\n",
       " 'algorithms': 155,\n",
       " 'align': 156,\n",
       " 'alignment': 157,\n",
       " 'alleviate': 158,\n",
       " 'allocate': 159,\n",
       " 'allocation': 160,\n",
       " 'allow': 161,\n",
       " 'allows': 162,\n",
       " 'alloy': 163,\n",
       " 'alma': 164,\n",
       " 'almost': 165,\n",
       " 'alone': 166,\n",
       " 'along': 167,\n",
       " 'alongside': 168,\n",
       " 'alpha': 169,\n",
       " 'alphabet': 170,\n",
       " 'already': 171,\n",
       " 'alter': 172,\n",
       " 'alteration': 173,\n",
       " 'alternate': 174,\n",
       " 'alternating': 175,\n",
       " 'alternative': 176,\n",
       " 'alternatively': 177,\n",
       " 'although': 178,\n",
       " 'altitude': 179,\n",
       " 'always': 180,\n",
       " 'alzheimer': 181,\n",
       " 'amazon': 182,\n",
       " 'ambient': 183,\n",
       " 'ambiguity': 184,\n",
       " 'ambiguous': 185,\n",
       " 'amenable': 186,\n",
       " 'american': 187,\n",
       " 'amino': 188,\n",
       " 'among': 189,\n",
       " 'amongst': 190,\n",
       " 'amorphous': 191,\n",
       " 'amount': 192,\n",
       " 'ample': 193,\n",
       " 'amplification': 194,\n",
       " 'amplifier': 195,\n",
       " 'amplify': 196,\n",
       " 'amplitude': 197,\n",
       " 'analog': 198,\n",
       " 'analogous': 199,\n",
       " 'analogue': 200,\n",
       " 'analogy': 201,\n",
       " 'analyse': 202,\n",
       " 'analysis': 203,\n",
       " 'analyst': 204,\n",
       " 'analytic': 205,\n",
       " 'analytical': 206,\n",
       " 'analytically': 207,\n",
       " 'analytics': 208,\n",
       " 'analyze': 209,\n",
       " 'analyzer': 210,\n",
       " 'analyzing': 211,\n",
       " 'anchor': 212,\n",
       " 'anderson': 213,\n",
       " 'andor': 214,\n",
       " 'andreev': 215,\n",
       " 'android': 216,\n",
       " 'angle': 217,\n",
       " 'angleresolved': 218,\n",
       " 'angular': 219,\n",
       " 'animal': 220,\n",
       " 'anion': 221,\n",
       " 'anisotropic': 222,\n",
       " 'anisotropy': 223,\n",
       " 'ann': 224,\n",
       " 'anneal': 225,\n",
       " 'annealing': 226,\n",
       " 'annihilation': 227,\n",
       " 'annotate': 228,\n",
       " 'annotated': 229,\n",
       " 'annotation': 230,\n",
       " 'annotator': 231,\n",
       " 'annual': 232,\n",
       " 'anomalous': 233,\n",
       " 'anomalously': 234,\n",
       " 'anomaly': 235,\n",
       " 'another': 236,\n",
       " 'ansatz': 237,\n",
       " 'answer': 238,\n",
       " 'answering': 239,\n",
       " 'antenna': 240,\n",
       " 'anticipate': 241,\n",
       " 'antiferromagnet': 242,\n",
       " 'antiferromagnetic': 243,\n",
       " 'apache': 244,\n",
       " 'apart': 245,\n",
       " 'aperture': 246,\n",
       " 'api': 247,\n",
       " 'apis': 248,\n",
       " 'app': 249,\n",
       " 'apparatus': 250,\n",
       " 'apparent': 251,\n",
       " 'apparently': 252,\n",
       " 'appeal': 253,\n",
       " 'appear': 254,\n",
       " 'appearance': 255,\n",
       " 'appendix': 256,\n",
       " 'appl': 257,\n",
       " 'applicability': 258,\n",
       " 'applicable': 259,\n",
       " 'application': 260,\n",
       " 'applications': 261,\n",
       " 'applied': 262,\n",
       " 'applies': 263,\n",
       " 'apply': 264,\n",
       " 'applying': 265,\n",
       " 'approach': 266,\n",
       " 'appropriate': 267,\n",
       " 'appropriately': 268,\n",
       " 'approximate': 269,\n",
       " 'approximately': 270,\n",
       " 'approximation': 271,\n",
       " 'apps': 272,\n",
       " 'aqueous': 273,\n",
       " 'ar': 274,\n",
       " 'arbitrarily': 275,\n",
       " 'arbitrary': 276,\n",
       " 'arc': 277,\n",
       " 'architectural': 278,\n",
       " 'architecture': 279,\n",
       " 'architectures': 280,\n",
       " 'archival': 281,\n",
       " 'archive': 282,\n",
       " 'area': 283,\n",
       " 'argue': 284,\n",
       " 'argument': 285,\n",
       " 'arise': 286,\n",
       " 'arises': 287,\n",
       " 'arithmetic': 288,\n",
       " 'arm': 289,\n",
       " 'around': 290,\n",
       " 'arpes': 291,\n",
       " 'arrange': 292,\n",
       " 'arrangement': 293,\n",
       " 'array': 294,\n",
       " 'arrival': 295,\n",
       " 'arrive': 296,\n",
       " 'art': 297,\n",
       " 'article': 298,\n",
       " 'artifact': 299,\n",
       " 'artificial': 300,\n",
       " 'artin': 301,\n",
       " 'arxiv': 302,\n",
       " 'ask': 303,\n",
       " 'aspect': 304,\n",
       " 'asr': 305,\n",
       " 'assemble': 306,\n",
       " 'assembly': 307,\n",
       " 'assert': 308,\n",
       " 'assertion': 309,\n",
       " 'assess': 310,\n",
       " 'assessment': 311,\n",
       " 'asset': 312,\n",
       " 'assign': 313,\n",
       " 'assignment': 314,\n",
       " 'assist': 315,\n",
       " 'assistance': 316,\n",
       " 'assistant': 317,\n",
       " 'associate': 318,\n",
       " 'associated': 319,\n",
       " 'association': 320,\n",
       " 'associative': 321,\n",
       " 'assume': 322,\n",
       " 'assuming': 323,\n",
       " 'assumption': 324,\n",
       " 'asteroid': 325,\n",
       " 'astronomical': 326,\n",
       " 'astronomy': 327,\n",
       " 'astrophysical': 328,\n",
       " 'astrophysics': 329,\n",
       " 'asymmetric': 330,\n",
       " 'asymmetry': 331,\n",
       " 'asymptotic': 332,\n",
       " 'asymptotically': 333,\n",
       " 'asymptotics': 334,\n",
       " 'asynchronous': 335,\n",
       " 'atacama': 336,\n",
       " 'atari': 337,\n",
       " 'atlas': 338,\n",
       " 'atmosphere': 339,\n",
       " 'atmospheric': 340,\n",
       " 'atom': 341,\n",
       " 'atomic': 342,\n",
       " 'atomistic': 343,\n",
       " 'attach': 344,\n",
       " 'attack': 345,\n",
       " 'attacker': 346,\n",
       " 'attain': 347,\n",
       " 'attempt': 348,\n",
       " 'attend': 349,\n",
       " 'attention': 350,\n",
       " 'attentionbased': 351,\n",
       " 'attenuation': 352,\n",
       " 'attitude': 353,\n",
       " 'attract': 354,\n",
       " 'attraction': 355,\n",
       " 'attractive': 356,\n",
       " 'attractor': 357,\n",
       " 'attribute': 358,\n",
       " 'au': 359,\n",
       " 'auc': 360,\n",
       " 'auction': 361,\n",
       " 'audience': 362,\n",
       " 'audio': 363,\n",
       " 'augment': 364,\n",
       " 'augmentation': 365,\n",
       " 'augmented': 366,\n",
       " 'australia': 367,\n",
       " 'authentication': 368,\n",
       " 'author': 369,\n",
       " 'authority': 370,\n",
       " 'autocorrelation': 371,\n",
       " 'autoencoder': 372,\n",
       " 'autoencoders': 373,\n",
       " 'automate': 374,\n",
       " 'automated': 375,\n",
       " 'automatic': 376,\n",
       " 'automatically': 377,\n",
       " 'automation': 378,\n",
       " 'automaton': 379,\n",
       " 'automorphism': 380,\n",
       " 'automorphisms': 381,\n",
       " 'autonomous': 382,\n",
       " 'autonomously': 383,\n",
       " 'autonomy': 384,\n",
       " 'autoregressive': 385,\n",
       " 'auxiliary': 386,\n",
       " 'availability': 387,\n",
       " 'available': 388,\n",
       " 'avalanche': 389,\n",
       " 'avenue': 390,\n",
       " 'average': 391,\n",
       " 'averaged': 392,\n",
       " 'averaging': 393,\n",
       " 'avoid': 394,\n",
       " 'avoidance': 395,\n",
       " 'aware': 396,\n",
       " 'awareness': 397,\n",
       " 'away': 398,\n",
       " 'ax': 399,\n",
       " 'axial': 400,\n",
       " 'axiom': 401,\n",
       " 'axion': 402,\n",
       " 'axis': 403,\n",
       " 'axisymmetric': 404,\n",
       " 'ba': 405,\n",
       " 'back': 406,\n",
       " 'backbone': 407,\n",
       " 'backend': 408,\n",
       " 'background': 409,\n",
       " 'backpropagation': 410,\n",
       " 'backward': 411,\n",
       " 'bacteria': 412,\n",
       " 'bacterial': 413,\n",
       " 'bad': 414,\n",
       " 'balance': 415,\n",
       " 'balanced': 416,\n",
       " 'balancing': 417,\n",
       " 'ball': 418,\n",
       " 'ballistic': 419,\n",
       " 'banach': 420,\n",
       " 'band': 421,\n",
       " 'bandgap': 422,\n",
       " 'bandit': 423,\n",
       " 'bandwidth': 424,\n",
       " 'bank': 425,\n",
       " 'bar': 426,\n",
       " 'bare': 427,\n",
       " 'barrier': 428,\n",
       " 'baryon': 429,\n",
       " 'baryonic': 430,\n",
       " 'base': 431,\n",
       " 'baseline': 432,\n",
       " 'basic': 433,\n",
       " 'basin': 434,\n",
       " 'basis': 435,\n",
       " 'batch': 436,\n",
       " 'bath': 437,\n",
       " 'battery': 438,\n",
       " 'bayes': 439,\n",
       " 'bayesian': 440,\n",
       " 'bcs': 441,\n",
       " 'beam': 442,\n",
       " 'beamforming': 443,\n",
       " 'bear': 444,\n",
       " 'beat': 445,\n",
       " 'bec': 446,\n",
       " 'become': 447,\n",
       " 'becomes': 448,\n",
       " 'begin': 449,\n",
       " 'beginning': 450,\n",
       " 'behave': 451,\n",
       " 'behavior': 452,\n",
       " 'behavioral': 453,\n",
       " 'behaviour': 454,\n",
       " 'behind': 455,\n",
       " 'belief': 456,\n",
       " 'believe': 457,\n",
       " 'bell': 458,\n",
       " 'belong': 459,\n",
       " 'belongs': 460,\n",
       " 'belt': 461,\n",
       " 'benchmark': 462,\n",
       " 'benchmarking': 463,\n",
       " 'bend': 464,\n",
       " 'bending': 465,\n",
       " 'beneficial': 466,\n",
       " 'benefit': 467,\n",
       " 'bernoulli': 468,\n",
       " 'besides': 469,\n",
       " 'bessel': 470,\n",
       " 'best': 471,\n",
       " 'beta': 472,\n",
       " 'better': 473,\n",
       " 'betti': 474,\n",
       " 'beyond': 475,\n",
       " 'bf': 476,\n",
       " 'bi': 477,\n",
       " 'bias': 478,\n",
       " 'biased': 479,\n",
       " 'bidirectional': 480,\n",
       " 'bifurcation': 481,\n",
       " 'big': 482,\n",
       " 'bijection': 483,\n",
       " 'bilayer': 484,\n",
       " 'bilayers': 485,\n",
       " 'bilinear': 486,\n",
       " 'billion': 487,\n",
       " 'bin': 488,\n",
       " 'binary': 489,\n",
       " 'bind': 490,\n",
       " 'binding': 491,\n",
       " 'binomial': 492,\n",
       " 'biochemical': 493,\n",
       " 'bioinformatics': 494,\n",
       " 'biological': 495,\n",
       " 'biologically': 496,\n",
       " 'biology': 497,\n",
       " 'biomedical': 498,\n",
       " 'biophysical': 499,\n",
       " 'bipartite': 500,\n",
       " 'birth': 501,\n",
       " 'bit': 502,\n",
       " 'bitcoin': 503,\n",
       " 'bivariate': 504,\n",
       " 'black': 505,\n",
       " 'blackbox': 506,\n",
       " 'blend': 507,\n",
       " 'blind': 508,\n",
       " 'bloch': 509,\n",
       " 'block': 510,\n",
       " 'blockchain': 511,\n",
       " 'blood': 512,\n",
       " 'blowup': 513,\n",
       " 'blue': 514,\n",
       " 'blur': 515,\n",
       " 'board': 516,\n",
       " 'body': 517,\n",
       " 'boltzmann': 518,\n",
       " 'bond': 519,\n",
       " 'bonding': 520,\n",
       " 'book': 521,\n",
       " 'boolean': 522,\n",
       " 'boost': 523,\n",
       " 'bootstrap': 524,\n",
       " 'bootstrapping': 525,\n",
       " 'border': 526,\n",
       " 'borel': 527,\n",
       " 'boron': 528,\n",
       " 'bose': 529,\n",
       " 'boseeinstein': 530,\n",
       " 'boson': 531,\n",
       " 'bosonic': 532,\n",
       " 'bot': 533,\n",
       " 'bottleneck': 534,\n",
       " 'bottom': 535,\n",
       " 'bottomup': 536,\n",
       " 'bound': 537,\n",
       " 'boundary': 538,\n",
       " 'bounded': 539,\n",
       " 'boundedness': 540,\n",
       " 'bounding': 541,\n",
       " 'box': 542,\n",
       " 'bp': 543,\n",
       " 'bracket': 544,\n",
       " 'bragg': 545,\n",
       " 'braid': 546,\n",
       " 'brain': 547,\n",
       " 'branch': 548,\n",
       " 'branching': 549,\n",
       " 'break': 550,\n",
       " 'breakdown': 551,\n",
       " 'breaking': 552,\n",
       " 'breakthrough': 553,\n",
       " 'bridge': 554,\n",
       " 'brief': 555,\n",
       " 'briefly': 556,\n",
       " 'bright': 557,\n",
       " 'brighter': 558,\n",
       " 'brightness': 559,\n",
       " 'brillouin': 560,\n",
       " 'bring': 561,\n",
       " 'broad': 562,\n",
       " 'broadband': 563,\n",
       " 'broadcast': 564,\n",
       " 'broaden': 565,\n",
       " 'broadening': 566,\n",
       " 'broadly': 567,\n",
       " 'broken': 568,\n",
       " 'brown': 569,\n",
       " 'brownian': 570,\n",
       " 'browser': 571,\n",
       " 'bs': 572,\n",
       " 'bubble': 573,\n",
       " 'budget': 574,\n",
       " 'buffer': 575,\n",
       " 'bug': 576,\n",
       " 'build': 577,\n",
       " 'building': 578,\n",
       " 'builtin': 579,\n",
       " 'bulge': 580,\n",
       " 'bulk': 581,\n",
       " 'bunch': 582,\n",
       " 'bundle': 583,\n",
       " 'burden': 584,\n",
       " 'burst': 585,\n",
       " 'bus': 586,\n",
       " 'business': 587,\n",
       " 'bypass': 588,\n",
       " 'byproduct': 589,\n",
       " 'ca': 590,\n",
       " 'cache': 591,\n",
       " 'caching': 592,\n",
       " 'cadence': 593,\n",
       " 'calabiyau': 594,\n",
       " 'calculate': 595,\n",
       " 'calculated': 596,\n",
       " 'calculation': 597,\n",
       " 'calculus': 598,\n",
       " 'calgebras': 599,\n",
       " 'calibrate': 600,\n",
       " 'calibration': 601,\n",
       " 'call': 602,\n",
       " 'calorimeter': 603,\n",
       " 'camera': 604,\n",
       " 'campaign': 605,\n",
       " 'cancellation': 606,\n",
       " 'cancer': 607,\n",
       " 'candidate': 608,\n",
       " 'canonical': 609,\n",
       " 'cap': 610,\n",
       " 'capability': 611,\n",
       " 'capable': 612,\n",
       " 'capacity': 613,\n",
       " 'capillary': 614,\n",
       " 'capital': 615,\n",
       " 'capture': 616,\n",
       " 'car': 617,\n",
       " 'carbon': 618,\n",
       " 'card': 619,\n",
       " 'cardiac': 620,\n",
       " 'cardinal': 621,\n",
       " 'cardinality': 622,\n",
       " 'care': 623,\n",
       " 'careful': 624,\n",
       " 'carefully': 625,\n",
       " 'carlo': 626,\n",
       " 'carrier': 627,\n",
       " 'carry': 628,\n",
       " 'cartan': 629,\n",
       " 'cartesian': 630,\n",
       " 'cascade': 631,\n",
       " 'case': 632,\n",
       " 'cast': 633,\n",
       " 'catalog': 634,\n",
       " 'catalogue': 635,\n",
       " 'catastrophic': 636,\n",
       " 'categorical': 637,\n",
       " 'categorization': 638,\n",
       " 'categorize': 639,\n",
       " 'category': 640,\n",
       " 'cation': 641,\n",
       " 'cauchy': 642,\n",
       " 'causal': 643,\n",
       " 'causality': 644,\n",
       " 'cause': 645,\n",
       " 'caution': 646,\n",
       " 'cavity': 647,\n",
       " 'cc': 648,\n",
       " 'cdm': 649,\n",
       " 'ce': 650,\n",
       " 'celebrated': 651,\n",
       " 'cell': 652,\n",
       " 'cellular': 653,\n",
       " 'census': 654,\n",
       " 'cent': 655,\n",
       " 'center': 656,\n",
       " 'central': 657,\n",
       " 'centrality': 658,\n",
       " 'centralize': 659,\n",
       " 'centralized': 660,\n",
       " 'centre': 661,\n",
       " 'centroid': 662,\n",
       " 'century': 663,\n",
       " 'certain': 664,\n",
       " 'certificate': 665,\n",
       " 'ch': 666,\n",
       " 'chain': 667,\n",
       " 'challenge': 668,\n",
       " 'challenging': 669,\n",
       " 'chamber': 670,\n",
       " 'chance': 671,\n",
       " 'chandra': 672,\n",
       " 'change': 673,\n",
       " 'channel': 674,\n",
       " 'chaos': 675,\n",
       " 'chaotic': 676,\n",
       " 'chapter': 677,\n",
       " 'character': 678,\n",
       " 'characterisation': 679,\n",
       " 'characterise': 680,\n",
       " 'characteristic': 681,\n",
       " 'characterization': 682,\n",
       " 'characterize': 683,\n",
       " 'charge': 684,\n",
       " 'cheap': 685,\n",
       " 'chebyshev': 686,\n",
       " 'check': 687,\n",
       " 'checking': 688,\n",
       " 'chemical': 689,\n",
       " 'chemistry': 690,\n",
       " 'cherenkov': 691,\n",
       " 'chern': 692,\n",
       " 'child': 693,\n",
       " 'china': 694,\n",
       " 'chinese': 695,\n",
       " 'chip': 696,\n",
       " 'chiral': 697,\n",
       " 'chirality': 698,\n",
       " 'choice': 699,\n",
       " 'choose': 700,\n",
       " 'chosen': 701,\n",
       " 'chromatic': 702,\n",
       " 'chromospheric': 703,\n",
       " 'ci': 704,\n",
       " 'cifar': 705,\n",
       " 'circle': 706,\n",
       " 'circuit': 707,\n",
       " 'circular': 708,\n",
       " 'circulation': 709,\n",
       " 'circumstance': 710,\n",
       " 'circumstellar': 711,\n",
       " 'circumvent': 712,\n",
       " 'citation': 713,\n",
       " 'cite': 714,\n",
       " 'citizen': 715,\n",
       " 'city': 716,\n",
       " 'cl': 717,\n",
       " 'claim': 718,\n",
       " 'clarify': 719,\n",
       " 'class': 720,\n",
       " 'classic': 721,\n",
       " 'classical': 722,\n",
       " 'classically': 723,\n",
       " 'classification': 724,\n",
       " 'classifier': 725,\n",
       " 'classify': 726,\n",
       " 'clause': 727,\n",
       " 'clean': 728,\n",
       " 'clear': 729,\n",
       " 'clearly': 730,\n",
       " 'click': 731,\n",
       " 'client': 732,\n",
       " 'climate': 733,\n",
       " 'clinical': 734,\n",
       " 'clip': 735,\n",
       " 'clique': 736,\n",
       " 'clock': 737,\n",
       " 'close': 738,\n",
       " 'closed': 739,\n",
       " 'closedform': 740,\n",
       " 'closedloop': 741,\n",
       " 'closely': 742,\n",
       " 'closer': 743,\n",
       " 'closure': 744,\n",
       " 'cloud': 745,\n",
       " 'clue': 746,\n",
       " 'clump': 747,\n",
       " 'cluster': 748,\n",
       " 'clustering': 749,\n",
       " 'clutter': 750,\n",
       " 'cm': 751,\n",
       " 'cmb': 752,\n",
       " 'cmos': 753,\n",
       " 'cms': 754,\n",
       " 'cnn': 755,\n",
       " 'cnns': 756,\n",
       " 'co': 757,\n",
       " 'co2': 758,\n",
       " 'coalescence': 759,\n",
       " 'coarse': 760,\n",
       " 'coarsegrained': 761,\n",
       " 'coat': 762,\n",
       " 'coating': 763,\n",
       " 'cod': 764,\n",
       " 'code': 765,\n",
       " 'codimension': 766,\n",
       " 'coding': 767,\n",
       " 'coefficient': 768,\n",
       " 'coexist': 769,\n",
       " 'coexistence': 770,\n",
       " 'cognition': 771,\n",
       " 'cognitive': 772,\n",
       " 'coherence': 773,\n",
       " 'coherent': 774,\n",
       " 'coherently': 775,\n",
       " 'cohomological': 776,\n",
       " 'cohomology': 777,\n",
       " 'cohort': 778,\n",
       " 'coil': 779,\n",
       " 'coin': 780,\n",
       " 'coincide': 781,\n",
       " 'coincidence': 782,\n",
       " 'coincident': 783,\n",
       " 'coincides': 784,\n",
       " 'cold': 785,\n",
       " 'collaborate': 786,\n",
       " 'collaboration': 787,\n",
       " 'collaborative': 788,\n",
       " 'collapse': 789,\n",
       " 'collect': 790,\n",
       " 'collection': 791,\n",
       " 'collective': 792,\n",
       " 'collectively': 793,\n",
       " 'collider': 794,\n",
       " 'collinear': 795,\n",
       " 'collision': 796,\n",
       " 'collisional': 797,\n",
       " 'collisionless': 798,\n",
       " 'colloidal': 799,\n",
       " 'color': 800,\n",
       " 'colored': 801,\n",
       " 'coloring': 802,\n",
       " 'colour': 803,\n",
       " 'column': 804,\n",
       " 'comb': 805,\n",
       " 'combat': 806,\n",
       " 'combination': 807,\n",
       " 'combinatorial': 808,\n",
       " 'combinatorics': 809,\n",
       " 'combine': 810,\n",
       " 'combined': 811,\n",
       " 'combining': 812,\n",
       " 'come': 813,\n",
       " 'comet': 814,\n",
       " 'cometary': 815,\n",
       " 'command': 816,\n",
       " 'comment': 817,\n",
       " 'commercial': 818,\n",
       " 'commercially': 819,\n",
       " 'commission': 820,\n",
       " 'commit': 821,\n",
       " 'commodity': 822,\n",
       " 'common': 823,\n",
       " 'commonly': 824,\n",
       " 'communicate': 825,\n",
       " 'communication': 826,\n",
       " 'community': 827,\n",
       " 'commutative': 828,\n",
       " 'commutator': 829,\n",
       " 'commute': 830,\n",
       " 'compact': 831,\n",
       " 'compactly': 832,\n",
       " 'compactness': 833,\n",
       " 'companion': 834,\n",
       " 'company': 835,\n",
       " 'comparable': 836,\n",
       " 'comparative': 837,\n",
       " 'comparatively': 838,\n",
       " 'compare': 839,\n",
       " 'compared': 840,\n",
       " 'comparing': 841,\n",
       " 'comparison': 842,\n",
       " 'comparisons': 843,\n",
       " 'compatibility': 844,\n",
       " 'compatible': 845,\n",
       " 'compelling': 846,\n",
       " 'compensate': 847,\n",
       " 'compensation': 848,\n",
       " 'compete': 849,\n",
       " 'competition': 850,\n",
       " 'competitive': 851,\n",
       " 'competitor': 852,\n",
       " 'compilation': 853,\n",
       " 'compile': 854,\n",
       " 'compiler': 855,\n",
       " 'complement': 856,\n",
       " 'complementary': 857,\n",
       " 'complete': 858,\n",
       " 'completely': 859,\n",
       " 'completeness': 860,\n",
       " 'completion': 861,\n",
       " 'complex': 862,\n",
       " 'complexity': 863,\n",
       " 'compliance': 864,\n",
       " 'complicate': 865,\n",
       " 'complicated': 866,\n",
       " 'complication': 867,\n",
       " 'component': 868,\n",
       " 'compose': 869,\n",
       " 'composite': 870,\n",
       " 'composition': 871,\n",
       " 'compositional': 872,\n",
       " 'compound': 873,\n",
       " 'comprehension': 874,\n",
       " 'comprehensive': 875,\n",
       " 'compress': 876,\n",
       " 'compressed': 877,\n",
       " 'compressible': 878,\n",
       " 'compression': 879,\n",
       " 'compressive': 880,\n",
       " 'comprise': 881,\n",
       " 'compromise': 882,\n",
       " 'compton': 883,\n",
       " 'computable': 884,\n",
       " 'computation': 885,\n",
       " 'computational': 886,\n",
       " 'computationally': 887,\n",
       " 'compute': 888,\n",
       " 'computed': 889,\n",
       " 'computer': 890,\n",
       " 'computing': 891,\n",
       " 'con': 892,\n",
       " 'concave': 893,\n",
       " 'conceive': 894,\n",
       " 'concentrate': 895,\n",
       " 'concentration': 896,\n",
       " 'concept': 897,\n",
       " 'conceptual': 898,\n",
       " 'conceptually': 899,\n",
       " 'concern': 900,\n",
       " 'concise': 901,\n",
       " 'conclude': 902,\n",
       " 'conclusion': 903,\n",
       " 'conclusions': 904,\n",
       " 'concrete': 905,\n",
       " 'concurrent': 906,\n",
       " 'concurrently': 907,\n",
       " 'condensate': 908,\n",
       " 'condensation': 909,\n",
       " 'condense': 910,\n",
       " 'condensed': 911,\n",
       " 'condition': 912,\n",
       " 'conditional': 913,\n",
       " 'conditionally': 914,\n",
       " 'conduct': 915,\n",
       " 'conductance': 916,\n",
       " 'conduction': 917,\n",
       " 'conductivity': 918,\n",
       " 'conductor': 919,\n",
       " 'cone': 920,\n",
       " 'conference': 921,\n",
       " 'confidence': 922,\n",
       " 'configuration': 923,\n",
       " 'configure': 924,\n",
       " 'confine': 925,\n",
       " 'confinement': 926,\n",
       " 'confirm': 927,\n",
       " 'confirmation': 928,\n",
       " 'conflict': 929,\n",
       " 'conform': 930,\n",
       " 'conformal': 931,\n",
       " 'conformation': 932,\n",
       " 'confront': 933,\n",
       " 'congestion': 934,\n",
       " 'congruence': 935,\n",
       " 'conic': 936,\n",
       " 'conical': 937,\n",
       " 'conjecture': 938,\n",
       " 'conjugacy': 939,\n",
       " 'conjugate': 940,\n",
       " 'conjunction': 941,\n",
       " 'connect': 942,\n",
       " 'connected': 943,\n",
       " 'connection': 944,\n",
       " 'connectivity': 945,\n",
       " 'consecutive': 946,\n",
       " 'consensus': 947,\n",
       " 'consequence': 948,\n",
       " 'consequently': 949,\n",
       " 'conservation': 950,\n",
       " 'conservative': 951,\n",
       " 'conserve': 952,\n",
       " 'consider': 953,\n",
       " 'considerable': 954,\n",
       " 'considerably': 955,\n",
       " 'consideration': 956,\n",
       " 'considers': 957,\n",
       " 'consist': 958,\n",
       " 'consistency': 959,\n",
       " 'consistent': 960,\n",
       " 'consistently': 961,\n",
       " 'consisting': 962,\n",
       " 'consists': 963,\n",
       " 'constant': 964,\n",
       " 'constantly': 965,\n",
       " 'constituent': 966,\n",
       " 'constitute': 967,\n",
       " 'constitutive': 968,\n",
       " 'constrain': 969,\n",
       " 'constrained': 970,\n",
       " 'constraint': 971,\n",
       " 'construct': 972,\n",
       " 'construction': 973,\n",
       " 'constructive': 974,\n",
       " 'consume': 975,\n",
       " 'consumer': 976,\n",
       " 'consumption': 977,\n",
       " 'contact': 978,\n",
       " 'contagion': 979,\n",
       " 'contain': 980,\n",
       " 'container': 981,\n",
       " 'contains': 982,\n",
       " 'contaminate': 983,\n",
       " 'contamination': 984,\n",
       " 'contemporary': 985,\n",
       " 'content': 986,\n",
       " 'context': 987,\n",
       " 'contextual': 988,\n",
       " 'continuation': 989,\n",
       " 'continue': 990,\n",
       " 'continuity': 991,\n",
       " 'continuous': 992,\n",
       " 'continuously': 993,\n",
       " 'continuoustime': 994,\n",
       " 'continuum': 995,\n",
       " 'contour': 996,\n",
       " 'contract': 997,\n",
       " 'contraction': 998,\n",
       " 'contradiction': 999,\n",
       " ...}"
      ]
     },
     "execution_count": 80,
     "metadata": {},
     "output_type": "execute_result"
    }
   ],
   "source": [
    "{k: v for k, v in sorted(vocabulary.items(), key=lambda item: item[1])}"
   ]
  },
  {
   "cell_type": "markdown",
   "id": "contrary-ontario",
   "metadata": {},
   "source": [
    "Lets see how our dataset has changed in the eyes of our model"
   ]
  },
  {
   "cell_type": "code",
   "execution_count": 81,
   "id": "fluid-contrary",
   "metadata": {},
   "outputs": [
    {
     "data": {
      "text/html": [
       "<div>\n",
       "<style scoped>\n",
       "    .dataframe tbody tr th:only-of-type {\n",
       "        vertical-align: middle;\n",
       "    }\n",
       "\n",
       "    .dataframe tbody tr th {\n",
       "        vertical-align: top;\n",
       "    }\n",
       "\n",
       "    .dataframe thead th {\n",
       "        text-align: right;\n",
       "    }\n",
       "</style>\n",
       "<table border=\"1\" class=\"dataframe\">\n",
       "  <thead>\n",
       "    <tr style=\"text-align: right;\">\n",
       "      <th></th>\n",
       "      <th>Before</th>\n",
       "      <th>After</th>\n",
       "    </tr>\n",
       "  </thead>\n",
       "  <tbody>\n",
       "    <tr>\n",
       "      <th>0</th>\n",
       "      <td>Rotation invariance and translation invariance have great value in image recognition task  In this paper  we bring a new architecture in convolutional neural network  CNN  name cyclic convolutional layer to achieve rotation invariance in D symbol recognition  We can also get the position and orientation of the D symbol by the network to achieve detection purpose for multiple nonoverlap target  Last but not least  this architecture can achieve oneshot learning in some case use those invariance</td>\n",
       "      <td>rotation invariance translation invariance great value image recognition task bring new architecture convolutional neural network cnn name cyclic convolutional layer achieve rotation invariance symbol recognition get position orientation symbol network achieve detection purpose multiple target last least architecture achieve oneshot learning case use invariance</td>\n",
       "    </tr>\n",
       "  </tbody>\n",
       "</table>\n",
       "</div>"
      ],
      "text/plain": [
       "                                                                                                                                                                                                                                                                                                                                                                                                                                                                                                               Before  \\\n",
       "0  Rotation invariance and translation invariance have great value in image recognition task  In this paper  we bring a new architecture in convolutional neural network  CNN  name cyclic convolutional layer to achieve rotation invariance in D symbol recognition  We can also get the position and orientation of the D symbol by the network to achieve detection purpose for multiple nonoverlap target  Last but not least  this architecture can achieve oneshot learning in some case use those invariance    \n",
       "\n",
       "                                                                                                                                                                                                                                                                                                                                                                         After  \n",
       "0  rotation invariance translation invariance great value image recognition task bring new architecture convolutional neural network cnn name cyclic convolutional layer achieve rotation invariance symbol recognition get position orientation symbol network achieve detection purpose multiple target last least architecture achieve oneshot learning case use invariance  "
      ]
     },
     "execution_count": 81,
     "metadata": {},
     "output_type": "execute_result"
    }
   ],
   "source": [
    "pd.set_option('display.max_colwidth', None)\n",
    "test_doc = training_articles[1]\n",
    "test_doc_nostops = \" \".join([w for w in test_doc.lower().split() if w in vocabulary.keys()])\n",
    "pd.DataFrame([[test_doc,test_doc_nostops]], columns=[\"Before\", \"After\"])"
   ]
  },
  {
   "cell_type": "markdown",
   "id": "usual-fraction",
   "metadata": {},
   "source": [
    "To reset the pandas display option, execute the next cell."
   ]
  },
  {
   "cell_type": "code",
   "execution_count": 82,
   "id": "superb-warrant",
   "metadata": {},
   "outputs": [],
   "source": [
    "pd.set_option('display.max_colwidth', 50)"
   ]
  },
  {
   "cell_type": "markdown",
   "id": "guided-keeping",
   "metadata": {},
   "source": [
    "Now lets get rid of the words and transform them into ids that are easier to work with."
   ]
  },
  {
   "cell_type": "code",
   "execution_count": 83,
   "id": "alternative-marketplace",
   "metadata": {
    "scrolled": false
   },
   "outputs": [],
   "source": [
    "docs = []\n",
    "for doc_word in tf.toarray():\n",
    "    present_words = np.where(doc_word != 0)[0].tolist()\n",
    "    present_words_with_count = []\n",
    "\n",
    "    for word in present_words:\n",
    "        for count in range(doc_word[word]):\n",
    "            present_words_with_count.append(word)\n",
    "    docs.append(present_words_with_count)\n"
   ]
  },
  {
   "cell_type": "markdown",
   "id": "atomic-madness",
   "metadata": {},
   "source": [
    "## 3.3 Implementation <a class=\"anchor\" id=\"Implementation_LDA\"></a>"
   ]
  },
  {
   "cell_type": "markdown",
   "id": "systematic-joint",
   "metadata": {},
   "source": [
    "There are 2 parts in LDA:\n",
    "1. The words that belong to a document, that we already know.\n",
    "2. The words that belong to a topic or the probability of words belonging into a topic, that we need to calculate."
   ]
  },
  {
   "cell_type": "markdown",
   "id": "harmful-closure",
   "metadata": {},
   "source": [
    "The algorithm to completing the second part, in pure english goes like:\n",
    "\n",
    "1. Go through each document and randomly assign each word in the document to one of K topics (T is chosen beforehand).\n",
    "2. For each document d, go through each word w and compute :\n",
    " * p(topic t | document d): the proportion of words in document d that are assigned to topic $ t $. Tries to capture how many words belong to the topic t for a given document d. Excluding the current word.\n",
    "<br>\n",
    "If a lot of words from d belongs to t, it is more probable that word w belongs to t.\n",
    "<br>\n",
    "( number of words in d with t + alpha/ #words in d with any topic+ k*alpha)\n",
    " * p(word w| topic t): the proportion of assignments to topic t over all documents that come from this word w. Tries to capture how many documents are in topic t because of word w.\n",
    "LDA represents documents as a mixture of topics. Similarly, a topic is a mixture of words. If a word has high probability of being in a topic, all the documents having w will be more strongly associated with t as well. Similarly, if w is not very probable to be in t, the documents which contain the w will be having very low probability of being in t, because rest of the words in d will belong to some other topic and hence d will have a higher probability for those topic. So even if w gets added to t, it won’t be bringing many such documents to t.\n",
    "Update the probability for the word w belonging to topic t with the probability of topic t belonging to document d times the probability of word w belonging to topic t"
   ]
  },
  {
   "cell_type": "markdown",
   "id": "responsible-newton",
   "metadata": {},
   "source": [
    "Several parameters will be used in the making, which I am going to write here and explain. In LDA the two parameters we are most interested in are \n",
    "\n",
    "* $ \\varphi $ - the word distribution for topic\n",
    "* $ \\theta $ - the distribution of topics over the documents\n",
    "\n",
    "Specifically $\\theta_{i}$ is the topic distribution for document __$i$__, a probability vector. Since each topic is characterized by a distribution over words, we also introduce __$ \\varphi_{k} $__ as the word distribution for topic __$k$__.\n",
    "Each of our topic distributions of a document is basically a probability vector, so we can view it as a multinomial distribution over the topics. Hence $\\theta$ is a distribution over multinomial distributions, which is exactly what a Dirichlet distribution is. The graph we used earlier to represent the mixture of topics in documents re-ensembles the probability density function of a dirichlet distribution with 3 categorical events. So we will model the distribution of topics over the documents $\\theta$ and the word distribution for topics $\\varphi$ by dirichlet distributions of order TT, respectively VV."
   ]
  },
  {
   "cell_type": "markdown",
   "id": "literary-stake",
   "metadata": {},
   "source": [
    "Other than that we have $\\alpha$, the parameter of the Dirichlet prior on the per-document topic distributions and $\\beta$, the parameter of the Dirichlet prior on the per-topic word distribution. Usually both parameters are sparse, meaning they are smaller than 1.\n",
    "<br>\n",
    "<br>\n",
    "Symmetrical priors are often the default setting for LDA tools such as Mallet and Gensim and assume a priori that each of the T topics has an equal probability of being assigned to a document while each word has an equal chance of being assigned to a topic. For the symmetrical prior $ \\alpha $, the hyperparameter is a vector with the value $1/T$, where T is the number of topics. The symmetrical prior $ \\beta $ has a scalar parameter with the value $1/V$ , where $V$ is the size of the vocabulary (full-text data). \n",
    "\n",
    "<br>\n",
    "For the asymmetrical priors, we should utilize an iterative learning process to approximate the hyperparameters from the data,\n",
    "estimation is required as no exact closed form solution exists. \n",
    "<br>\n",
    "<br>\n",
    "In both scenarios, estimating hyperparameters can be used to increase model quality, and their values can reveal specific properties of the corpus: $ \\alpha $ for the distinctiveness in underlying semantic structures and $ \\beta $ for the group size of commonly co-occurring words. \n",
    "<br>\n",
    "Several methods for hyperparameter estimation exist, such as gradient ascent, fixed point iteration, and <a href=\"https://brilliant.org/wiki/newton-raphson-method/#:~:text=The%20Newton%2DRaphson%20method%20(also,straight%20line%20tangent%20to%20it.\">Newton-Raphson method</a>.\n",
    "<br>\n",
    "<br>\n",
    "For this notebook we will stick with the default choice and use symmetric standart priors."
   ]
  },
  {
   "cell_type": "markdown",
   "id": "double-stylus",
   "metadata": {},
   "source": [
    "Our dataset and vocabulary are good to go and we are ready for the next step, which is to define the variables we will be working with.\n",
    "\n",
    "\n",
    "```topic_per_doc_word``` - a 2 dimensional list in which we will store the topic for each word in each document from the dataset\n",
    "\n",
    "Example: ```topic_per_doc_word[docNumber][wordNumer]```"
   ]
  },
  {
   "cell_type": "code",
   "execution_count": 84,
   "id": "massive-train",
   "metadata": {},
   "outputs": [],
   "source": [
    "n_samples = len(vocabulary)\n",
    "\n",
    "D = len(docs)        # number of documents\n",
    "V = len(vocabulary)  # size of the vocabulary \n",
    "T = 6              # number of topics\n",
    "\n",
    "alpha = 1 / T         # the parameter of the Dirichlet prior on the per-document topic distributions\n",
    "beta = 1 / V        # the parameter of the Dirichlet prior on the per-topic word distribution\n",
    "\n",
    "\n",
    "topic_per_doc_word = [[0 for _ in range(len(doc))] for doc in docs]\n",
    "theta = np.zeros((D, T))\n",
    "phi = np.zeros((T, V))\n",
    "\n",
    "n_d = np.zeros((D))\n",
    "n_z = np.zeros((T))"
   ]
  },
  {
   "cell_type": "markdown",
   "id": "operating-senegal",
   "metadata": {},
   "source": [
    "# 3.4 Gibbs Sampling <a class=\"anchor\" id=\"Gibbs_Sampling\"></a>"
   ]
  },
  {
   "cell_type": "markdown",
   "id": "graphic-territory",
   "metadata": {},
   "source": [
    "Gibbs sampling is an algorithm for successively sampling conditional distributions of variables, whose distribution over states converges to the true distribution in the long run. "
   ]
  },
  {
   "cell_type": "markdown",
   "id": "crucial-remedy",
   "metadata": {},
   "source": [
    "In its moset standard implementation, it cycles through all variables and model parameters and randomly samples each one from a conditional distribution where we’re conditioning on the previously sampled values of all the other model parameters and assignment variables, and we’re also conditioning on our observations. Because of the special structure of our LDA model, we can actually analytically marginalize over all of the uncertainty in our model parameters and just sample the word assignment variable ```topic_per_word```. This is called “collapsed gibbs sampling”."
   ]
  },
  {
   "cell_type": "markdown",
   "id": "rural-astronomy",
   "metadata": {},
   "source": [
    "We do the sampling of a new ```topic_per_word[i][j]``` for $j$th word in $i$th document by the following formula:"
   ]
  },
  {
   "cell_type": "markdown",
   "id": "voluntary-wedding",
   "metadata": {},
   "source": [
    "$$ P(z_{ij} \\mid word_{ij}, k \\neq i, l \\neq j,w) =  \\frac{\\theta_{ik}\\alpha}{N_{i} + \\alpha T} \\frac{\\varphi_{kw} + \\beta}{ \\sum_{w \\in V}{\\varphi_{kw}+\\beta V}} $$"
   ]
  },
  {
   "cell_type": "markdown",
   "id": "royal-custom",
   "metadata": {},
   "source": [
    "First, we initialize our parameters."
   ]
  },
  {
   "cell_type": "code",
   "execution_count": 85,
   "id": "ranging-extension",
   "metadata": {},
   "outputs": [],
   "source": [
    "for d, doc in enumerate(docs):\n",
    "    for n, w in enumerate(doc): # n: id of word inside document, w: id of the word globally\n",
    "        # select a random topic for words\n",
    "        topic_per_doc_word[d][n] = n % T\n",
    "        z = topic_per_doc_word[d][n]\n",
    "        \n",
    "        # keep track of our counts\n",
    "        theta[d][z] += 1\n",
    "        phi[z, w] += 1\n",
    "        n_z[z] += 1\n",
    "        n_d[d] += 1"
   ]
  },
  {
   "cell_type": "markdown",
   "id": "becoming-premises",
   "metadata": {},
   "source": [
    "Then we start training the model."
   ]
  },
  {
   "cell_type": "code",
   "execution_count": 86,
   "id": "directed-shame",
   "metadata": {},
   "outputs": [
    {
     "name": "stdout",
     "output_type": "stream",
     "text": [
      "Starting training LDA model\n"
     ]
    },
    {
     "data": {
      "application/vnd.jupyter.widget-view+json": {
       "model_id": "b61f70c606894f7681b333b4c2152552",
       "version_major": 2,
       "version_minor": 0
      },
      "text/plain": [
       "  0%|          | 0/20 [00:00<?, ?it/s]"
      ]
     },
     "metadata": {},
     "output_type": "display_data"
    }
   ],
   "source": [
    "iterations = 20\n",
    "\n",
    "print('Starting training LDA model')\n",
    "for iteration in tqdm(np.linspace(0, 100, iterations)):\n",
    "    for d, doc in enumerate(docs):\n",
    "        for n, w in enumerate(doc):\n",
    "            # get the topic for word n in document m\n",
    "            z = topic_per_doc_word[d][n]\n",
    "\n",
    "            # decrement counts for word w with associated topic z\n",
    "            theta[d][z] -= 1\n",
    "            phi[z, w] -= 1\n",
    "            n_z[z] -= 1\n",
    "\n",
    "            # sample new topic from a multinomial according to our formula above\n",
    "            p_d_t = (theta[d] + alpha) / (n_d[d] - 1 + T * alpha)\n",
    "            p_t_w = (phi[:, w] + beta) / (n_z + V * beta)\n",
    "            p_z = p_d_t * p_t_w\n",
    "            p_z /= np.sum(p_z)\n",
    "            new_z = np.random.multinomial(1, p_z).argmax()\n",
    "\n",
    "            # set z as the new topic and increment counts\n",
    "            topic_per_doc_word[d][n] = new_z\n",
    "            theta[d][new_z] += 1\n",
    "            phi[new_z, w] += 1\n",
    "            n_z[new_z] += 1"
   ]
  },
  {
   "cell_type": "markdown",
   "id": "silent-masters",
   "metadata": {},
   "source": [
    "Before we continue we can pack everything in a class to use later."
   ]
  },
  {
   "cell_type": "code",
   "execution_count": 87,
   "id": "spanish-photograph",
   "metadata": {},
   "outputs": [],
   "source": [
    "class LDA:\n",
    "    def __init__(self, corpus, stopwords_voc, topic_count):\n",
    "        \n",
    "        self.count_vectorizer = CountVectorizer(max_df=0.85, max_features=10000, stop_words=stopwords_voc)\n",
    "        self.tf = self.count_vectorizer.fit_transform(corpus)\n",
    "        \n",
    "        self.docs = []\n",
    "        for doc_word in self.tf.toarray():\n",
    "            present_words = np.where(doc_word != 0)[0].tolist()\n",
    "            present_words_with_count = []\n",
    "\n",
    "            for word in present_words:\n",
    "                for count in range(doc_word[word]):\n",
    "                    present_words_with_count.append(word)\n",
    "            self.docs.append(present_words_with_count)\n",
    "            \n",
    "        \n",
    "        self.n_samples = 10000\n",
    "        self.corpus = corpus\n",
    "        \n",
    "        self.vocabulary = self.count_vectorizer.vocabulary_\n",
    "         \n",
    "        self.D = len(self.docs)        # number of documents\n",
    "        self.V = len(self.vocabulary)  # size of the vocabulary \n",
    "        self.T = topic_count              # number of topics\n",
    "\n",
    "        self.alpha = 0.1 / self.T         # the parameter of the Dirichlet prior on the per-document topic distributions\n",
    "        self.beta = 0.1 / self.V        # the parameter of the Dirichlet prior on the per-topic word distribution\n",
    "\n",
    "\n",
    "        self.topic_per_doc_word = [[0 for _ in range(len(doc))] for doc in self.docs]\n",
    "        self.theta = np.zeros((self.D, self.T))\n",
    "        self.phi = np.zeros((self.T, self.V))\n",
    "\n",
    "        self.n_d = np.zeros((self.D))\n",
    "        self.n_z = np.zeros((self.T))\n",
    "        \n",
    "        \n",
    "    \n",
    "        for d, doc in enumerate(self.docs):\n",
    "            for n, w in enumerate(doc): # n: id of word inside document, w: id of the word globally\n",
    "                # select a random topic for words\n",
    "                self.topic_per_doc_word[d][n] = n % self.T\n",
    "                z = self.topic_per_doc_word[d][n]\n",
    "\n",
    "                # keep track of our counts\n",
    "                self.theta[d][z] += 1\n",
    "                self.phi[z, w] += 1\n",
    "                self.n_z[z] += 1\n",
    "                self.n_d[d] += 1\n",
    "        \n",
    "    def train(self, iterations):\n",
    "        print('Starting training LDA model')\n",
    "        for iteration in tqdm(np.linspace(0, 100, iterations)):\n",
    "            for d, doc in enumerate(self.docs):\n",
    "                for n, w in enumerate(doc):\n",
    "                    # get the topic for word n in document m\n",
    "                    z = self.topic_per_doc_word[d][n]\n",
    "\n",
    "                    # decrement counts for word w with associated topic z\n",
    "                    self.theta[d][z] -= 1\n",
    "                    self.phi[z, w] -= 1\n",
    "                    self.n_z[z] -= 1\n",
    "\n",
    "                    # sample new topic from a multinomial according to our formula above\n",
    "                    p_d_t = (self.theta[d] + self.alpha) / (self.n_d[d] - 1 + self.T * self.alpha)\n",
    "                    p_t_w = (self.phi[:, w] + self.beta) / (self.n_z + self.V * self.beta)\n",
    "                    p_z = p_d_t * p_t_w\n",
    "                    p_z /= np.sum(p_z)\n",
    "                    new_z = np.random.multinomial(1, p_z).argmax()\n",
    "\n",
    "                    # set z as the new topic and increment counts\n",
    "                    self.topic_per_doc_word[d][n] = new_z\n",
    "                    self.theta[d][new_z] += 1\n",
    "                    self.phi[new_z, w] += 1\n",
    "                    self.n_z[new_z] += 1\n",
    "                    \n",
    "    def get_doc_dist(self, doc_index):\n",
    "        return self.theta[doc_index]/ sum(self.theta[doc_index])\n",
    "    \n",
    "    def get_top_words(self, n_top_words):\n",
    "        inv_vocabulary = {v: k for k, v in self.vocabulary.items()}\n",
    "        output = dict()\n",
    "        for topic_idx, topic in enumerate(self.phi):\n",
    "            output[topic_idx] = [inv_vocabulary[i] for i in topic.argsort()[:-n_top_words - 1:-1]]\n",
    "        return output\n",
    "    \n",
    "    def infer(self, doc):\n",
    "        #TODO\n",
    "        return"
   ]
  },
  {
   "cell_type": "code",
   "execution_count": 88,
   "id": "operational-stuart",
   "metadata": {},
   "outputs": [],
   "source": [
    "doc_index = 14"
   ]
  },
  {
   "cell_type": "markdown",
   "id": "working-january",
   "metadata": {},
   "source": [
    "Now we will create a function that we will use later on to make predictions."
   ]
  },
  {
   "cell_type": "code",
   "execution_count": 89,
   "id": "proof-railway",
   "metadata": {},
   "outputs": [],
   "source": [
    "def get_doc_dist(doc_index):\n",
    "    return theta[doc_index]/ sum(theta[doc_index])"
   ]
  },
  {
   "cell_type": "code",
   "execution_count": 90,
   "id": "peripheral-upper",
   "metadata": {},
   "outputs": [
    {
     "name": "stdout",
     "output_type": "stream",
     "text": [
      "Topic #0: use network propose approach image learn performance learning task base\n",
      "Topic #1: graph group problem set give result algorithm structure network number\n",
      "Topic #2: function equation result space problem solution prove give matrix use\n",
      "Topic #3: use problem algorithm propose approach result study base provide distribution\n",
      "Topic #4: find mass use star galaxy high large observation result spectrum\n",
      "Topic #5: state phase field energy quantum magnetic interaction transition study temperature\n"
     ]
    },
    {
     "data": {
      "image/png": "[encoded data removed]",
      "text/plain": [
       "<Figure size 432x288 with 1 Axes>"
      ]
     },
     "metadata": {
      "needs_background": "light"
     },
     "output_type": "display_data"
    }
   ],
   "source": [
    "inv_vocabulary = {v: k for k, v in vocabulary.items()}\n",
    "n_top_words = 10\n",
    "for topic_idx, topic in enumerate(phi):\n",
    "    message = \"Topic #%d: \" % topic_idx\n",
    "    message += \" \".join([inv_vocabulary[i] for i in topic.argsort()[:-n_top_words - 1:-1]])\n",
    "    print(message)\n",
    "\n",
    "    \n",
    "lda_dist=get_doc_dist(doc_index)\n",
    "plot_topic_dist([lda_dist],[\"LDA\"],doc_index)"
   ]
  },
  {
   "cell_type": "markdown",
   "id": "prostate-magnet",
   "metadata": {},
   "source": [
    "# <div class=\"alert alert-block alert-info\">4. Pachinko Allocation Model </div> <a class=\"anchor\" id=\"PAM\"></a>"
   ]
  },
  {
   "cell_type": "markdown",
   "id": "placed-transsexual",
   "metadata": {},
   "source": [
    "As we said earlier, the Pachimnko Allocation Model uses Directed Acyclic Graph. \n",
    "<br>\n",
    "In it, the nodes represent the topics that are to be connected together. Therefore, each node represents a topic. Attributes of the topic represents the words that are related to the particular topic.\n",
    "<br>\n",
    "<br>\n",
    "\n",
    "<center>\n",
    "    <figure>\n",
    "        <img src = https://slideplayer.com/slide/15052932/91/images/23/Pachinko+Allocation+Model.jpg alt=\"Pachinko DAG\"></img>\n",
    "    <figcaption><strong>Pachinko DAG</strong></figcaption>\n",
    "    </figure>\n",
    "</center>\n",
    "<br>\n",
    "<br>\n",
    "\n",
    "In this model, each leaf node(node that doesn't have any connections) corresponds to the words present in the vocabulary and each non-leaf node represents the inner subtopics. In the picture above the closer a non-leaf node is to the root, the more _\"general\"_ topic representation it gives(called __super topics__). \n",
    "<br>\n",
    "<br>\n",
    "In an arbitrary DAG, a LDA model would not have the links between those non leaf interior nodes. Thats how the PAM model uses the links between them to have a tight complete coherence throughout the corpus.\n",
    "<br>\n",
    "<br>"
   ]
  },
  {
   "cell_type": "markdown",
   "id": "dominant-deficit",
   "metadata": {},
   "source": [
    "# 4.1 Assumptions <a class=\"anchor\" id=\"Assumptions_PAM\"></a>"
   ]
  },
  {
   "cell_type": "markdown",
   "id": "magnetic-preliminary",
   "metadata": {},
   "source": [
    "Because it is based on LDA, some of Pachinko's ancestor's assumptions are inherited in this model.\n",
    "\n",
    "Pachinko Allocation models assume that:\n",
    "\n",
    "1. Each document is just a collection of words or a “bag of words”. Thus, the order of the words and the grammatical role of the words (subject, object, verbs, etc.) are not considered in the model.\n",
    "<br>\n",
    "2. Words like am/is/are/of/a/the/but/ (called __stopwords__) don’t carry any information about the “topics” and therefore can be eliminated from the documents as a preprocessing step. Moreover, words that appear in 80%-90% can be completely eliminated without a loss of information.\n",
    "<br>\n",
    "3. The number of topics and number of subtopics is known beforehand."
   ]
  },
  {
   "cell_type": "markdown",
   "id": "compressed-welcome",
   "metadata": {},
   "source": [
    "# 4.2 Preparing our data <a class=\"anchor\" id=\"Preparing_our_data_PAM\"></a>"
   ]
  },
  {
   "cell_type": "markdown",
   "id": "instrumental-trinity",
   "metadata": {},
   "source": [
    "Our task of data preparation for this model is similar to the one we did for the LDA model, with the twist that we need the true list of documents with stop words removed rather than vocabulary."
   ]
  },
  {
   "cell_type": "markdown",
   "id": "radical-reproduction",
   "metadata": {},
   "source": [
    "The model takes each article as a list of words instead of a whole string so we need to make a conversion."
   ]
  },
  {
   "cell_type": "code",
   "execution_count": 91,
   "id": "increasing-senegal",
   "metadata": {},
   "outputs": [],
   "source": [
    "training_articles_pam = tm_articles"
   ]
  },
  {
   "cell_type": "code",
   "execution_count": 92,
   "id": "public-indian",
   "metadata": {},
   "outputs": [],
   "source": [
    "def split_words(docs, stopwords_voc):\n",
    "    \"\"\"\n",
    "    Converts each document from `docs` to an array of LOWERCASE words,\n",
    "    by also removing stopwords and punctuation. Returns list of lists.\n",
    "    \"\"\"\n",
    "    no_punctuation=list()\n",
    "    for i, article in enumerate(training_articles_pam):\n",
    "        no_punctuation.append(re.sub(r'[^\\w\\s]','',article.lower()))\n",
    "        \n",
    "    output = list()\n",
    "    for article in no_punctuation:\n",
    "        new_doc = [word for word in article.split() if (word not in stopwords_voc)]\n",
    "        output.append(new_doc)\n",
    "    return output"
   ]
  },
  {
   "cell_type": "code",
   "execution_count": 93,
   "id": "liberal-basement",
   "metadata": {},
   "outputs": [],
   "source": [
    "cleaned_articles = split_words(training_articles_pam, stopwords_voc)"
   ]
  },
  {
   "cell_type": "markdown",
   "id": "annual-hardwood",
   "metadata": {},
   "source": [
    "While we are on it let me take the opportunity to show how the effect of removing stopwords with a histogram:"
   ]
  },
  {
   "cell_type": "code",
   "execution_count": 94,
   "id": "supreme-romantic",
   "metadata": {},
   "outputs": [
    {
     "data": {
      "image/png": "[encoded data removed]",
      "text/plain": [
       "<Figure size 432x288 with 1 Axes>"
      ]
     },
     "metadata": {
      "needs_background": "light"
     },
     "output_type": "display_data"
    }
   ],
   "source": [
    "plot_hist([tm_articles, [\" \".join(doc) for doc in cleaned_articles]], [\"TM articles\",\" TM articles cleaned\"], [])"
   ]
  },
  {
   "cell_type": "markdown",
   "id": "bigger-mainstream",
   "metadata": {},
   "source": [
    "# 4.3 Example <a class=\"anchor\" id=\"Example_PAM\"></a>"
   ]
  },
  {
   "cell_type": "markdown",
   "id": "pointed-decision",
   "metadata": {},
   "source": [
    "Pachinko Allocation model is a model that isn't currently included in the famous libraries for AI in python. A library called Tomotopy has an implementation of the model among other topic models. (Documentation <a href=\"https://bab2min.github.io/tomotopy/v0.12.1/en/#tomotopy.PAModel\">here</a>)"
   ]
  },
  {
   "cell_type": "markdown",
   "id": "weekly-donna",
   "metadata": {},
   "source": [
    "The part of the documentation that will be relevant for us is:\n",
    "\n",
    "\n",
    "```python\n",
    "class PAModel(tw=TermWeight.ONE, min_cf=0, min_df=0, rm_top=0, \n",
    "              k1=1, k2=1, alpha=0.1, subalpha=0.1, eta=0.01, \n",
    "              seed=None, corpus=None, transform=None)\n",
    "```\n",
    "where\n",
    "\n",
    "* ```k1``` - the number of super topics between 1 ~ 32767\n",
    "* ```k2``` - the number of sub topics between 1 ~ 32767\n",
    "* ```min_cf``` - minimum collection frequency of words\n",
    "* ```rm_top``` - the number of top words to be removed for when you want to remove too common words from model\n",
    "* ```corpus``` - a list of documents to be added into the model\n",
    "\n",
    "the class methods that we are going to use are explained here:\n",
    "\n",
    "```python\n",
    "def add_doc(self, words) # Add a new document into the model instance and return an index of the inserted document.\n",
    "\n",
    "def get_topic_words(self, sub_topic_id, top_n=10) # Return the top_n words and its probability in the sub topic sub_topic_id.\n",
    "\n",
    "def get_sub_topics(self, super_topic_id, top_n=10) # Return the top_n sub topics and its probability in a super topic super_topic_id.\n",
    "\n",
    "def infer(self, doc, iter=100, tolerance=-1, workers=0, parallel=0, together=False) # Return the inferred topic distribution and sub-topic distribution from unseen docs.\n",
    "```"
   ]
  },
  {
   "cell_type": "code",
   "execution_count": 95,
   "id": "unable-parts",
   "metadata": {},
   "outputs": [
    {
     "name": "stdout",
     "output_type": "stream",
     "text": [
      "Starting training PAM model\n"
     ]
    },
    {
     "data": {
      "application/vnd.jupyter.widget-view+json": {
       "model_id": "491f06cbc9a64408a2c1fa2489bd9f6a",
       "version_major": 2,
       "version_minor": 0
      },
      "text/plain": [
       "  0%|          | 0/50 [00:00<?, ?it/s]"
      ]
     },
     "metadata": {},
     "output_type": "display_data"
    }
   ],
   "source": [
    "mdl = tp.PAModel(k1=6, k2=30, min_cf=100)\n",
    "for doc in cleaned_articles:\n",
    "    mdl.add_doc(doc)\n",
    "\n",
    "print('Starting training PAM model')\n",
    "iterations = 50\n",
    "for i in tqdm(np.linspace(0, 100, iterations)):\n",
    "    mdl.train(1)"
   ]
  },
  {
   "cell_type": "code",
   "execution_count": 96,
   "id": "thrown-canada",
   "metadata": {},
   "outputs": [
    {
     "name": "stdout",
     "output_type": "stream",
     "text": [
      "\n",
      "\n",
      "Subtopics of topic #0: 16 28 4 26 29 12 8 3 22 2\n",
      "    Top 10 words of subtopic topic 16: group space prove give algebra result finite manifold study theory\n",
      "    Top 10 words of subtopic topic 28: magnetic field phase spin state temperature transition order effect interaction\n",
      "    Top 10 words of subtopic topic 4: research study provide analysis work human new discuss community review\n",
      "    Top 10 words of subtopic topic 26: use performance design application software memory present provide implementation cost\n",
      "    Top 10 words of subtopic topic 29: algorithm problem propose optimization optimal approach solve use performance function\n",
      "    Top 10 words of subtopic topic 12: surface material structure layer pressure property film mode transport interface\n",
      "    Top 10 words of subtopic topic 8: equation solution condition problem operator function boundary result nonlinear differential\n",
      "    Top 10 words of subtopic topic 3: graph problem algorithm bound number set give tree result vertex\n",
      "    Top 10 words of subtopic topic 22: distribution use estimate propose parameter sample approach bayesian inference estimation\n",
      "    Top 10 words of subtopic topic 2: code program use language logic analysis present tool technique base\n",
      "\n",
      "\n",
      "Subtopics of topic #1: 16 29 28 4 3 1 12 26 8 20\n",
      "    Top 10 words of subtopic topic 16: group space prove give algebra result finite manifold study theory\n",
      "    Top 10 words of subtopic topic 29: algorithm problem propose optimization optimal approach solve use performance function\n",
      "    Top 10 words of subtopic topic 28: magnetic field phase spin state temperature transition order effect interaction\n",
      "    Top 10 words of subtopic topic 4: research study provide analysis work human new discuss community review\n",
      "    Top 10 words of subtopic topic 3: graph problem algorithm bound number set give tree result vertex\n",
      "    Top 10 words of subtopic topic 1: task learning use feature neural learn network training approach propose\n",
      "    Top 10 words of subtopic topic 12: surface material structure layer pressure property film mode transport interface\n",
      "    Top 10 words of subtopic topic 26: use performance design application software memory present provide implementation cost\n",
      "    Top 10 words of subtopic topic 8: equation solution condition problem operator function boundary result nonlinear differential\n",
      "    Top 10 words of subtopic topic 20: network propose node use application service information communication neural brain\n",
      "\n",
      "\n",
      "Subtopics of topic #2: 16 4 28 29 8 26 12 1 22 3\n",
      "    Top 10 words of subtopic topic 16: group space prove give algebra result finite manifold study theory\n",
      "    Top 10 words of subtopic topic 4: research study provide analysis work human new discuss community review\n",
      "    Top 10 words of subtopic topic 28: magnetic field phase spin state temperature transition order effect interaction\n",
      "    Top 10 words of subtopic topic 29: algorithm problem propose optimization optimal approach solve use performance function\n",
      "    Top 10 words of subtopic topic 8: equation solution condition problem operator function boundary result nonlinear differential\n",
      "    Top 10 words of subtopic topic 26: use performance design application software memory present provide implementation cost\n",
      "    Top 10 words of subtopic topic 12: surface material structure layer pressure property film mode transport interface\n",
      "    Top 10 words of subtopic topic 1: task learning use feature neural learn network training approach propose\n",
      "    Top 10 words of subtopic topic 22: distribution use estimate propose parameter sample approach bayesian inference estimation\n",
      "    Top 10 words of subtopic topic 3: graph problem algorithm bound number set give tree result vertex\n",
      "\n",
      "\n",
      "Subtopics of topic #3: 16 29 28 4 22 3 26 1 8 2\n",
      "    Top 10 words of subtopic topic 16: group space prove give algebra result finite manifold study theory\n",
      "    Top 10 words of subtopic topic 29: algorithm problem propose optimization optimal approach solve use performance function\n",
      "    Top 10 words of subtopic topic 28: magnetic field phase spin state temperature transition order effect interaction\n",
      "    Top 10 words of subtopic topic 4: research study provide analysis work human new discuss community review\n",
      "    Top 10 words of subtopic topic 22: distribution use estimate propose parameter sample approach bayesian inference estimation\n",
      "    Top 10 words of subtopic topic 3: graph problem algorithm bound number set give tree result vertex\n",
      "    Top 10 words of subtopic topic 26: use performance design application software memory present provide implementation cost\n",
      "    Top 10 words of subtopic topic 1: task learning use feature neural learn network training approach propose\n",
      "    Top 10 words of subtopic topic 8: equation solution condition problem operator function boundary result nonlinear differential\n",
      "    Top 10 words of subtopic topic 2: code program use language logic analysis present tool technique base\n",
      "\n",
      "\n",
      "Subtopics of topic #4: 16 4 29 28 26 22 3 8 12 17\n",
      "    Top 10 words of subtopic topic 16: group space prove give algebra result finite manifold study theory\n",
      "    Top 10 words of subtopic topic 4: research study provide analysis work human new discuss community review\n",
      "    Top 10 words of subtopic topic 29: algorithm problem propose optimization optimal approach solve use performance function\n",
      "    Top 10 words of subtopic topic 28: magnetic field phase spin state temperature transition order effect interaction\n",
      "    Top 10 words of subtopic topic 26: use performance design application software memory present provide implementation cost\n",
      "    Top 10 words of subtopic topic 22: distribution use estimate propose parameter sample approach bayesian inference estimation\n",
      "    Top 10 words of subtopic topic 3: graph problem algorithm bound number set give tree result vertex\n",
      "    Top 10 words of subtopic topic 8: equation solution condition problem operator function boundary result nonlinear differential\n",
      "    Top 10 words of subtopic topic 12: surface material structure layer pressure property film mode transport interface\n",
      "    Top 10 words of subtopic topic 17: quantum state theory phase symmetry topological point field lattice disorder\n",
      "\n",
      "\n",
      "Subtopics of topic #5: 16 29 4 28 3 12 8 22 1 26\n",
      "    Top 10 words of subtopic topic 16: group space prove give algebra result finite manifold study theory\n",
      "    Top 10 words of subtopic topic 29: algorithm problem propose optimization optimal approach solve use performance function\n",
      "    Top 10 words of subtopic topic 4: research study provide analysis work human new discuss community review\n",
      "    Top 10 words of subtopic topic 28: magnetic field phase spin state temperature transition order effect interaction\n",
      "    Top 10 words of subtopic topic 3: graph problem algorithm bound number set give tree result vertex\n",
      "    Top 10 words of subtopic topic 12: surface material structure layer pressure property film mode transport interface\n",
      "    Top 10 words of subtopic topic 8: equation solution condition problem operator function boundary result nonlinear differential\n",
      "    Top 10 words of subtopic topic 22: distribution use estimate propose parameter sample approach bayesian inference estimation\n",
      "    Top 10 words of subtopic topic 1: task learning use feature neural learn network training approach propose\n",
      "    Top 10 words of subtopic topic 26: use performance design application software memory present provide implementation cost\n"
     ]
    }
   ],
   "source": [
    "pam_supertopic_top_words = dict()\n",
    "for k in range(mdl.k1):\n",
    "    subtopics = mdl.get_sub_topics(k)\n",
    "    print('\\n\\nSubtopics of topic #%s: ' % k + \" \".join([str(i[0]) for i in subtopics]))\n",
    "    pam_supertopic_top_words[k] = list()\n",
    "    for subtopic, probability in subtopics:\n",
    "        subtopic_top_words = [str(i[0]) for i in mdl.get_topic_words(subtopic, top_n=10)]\n",
    "        print('    Top 10 words of subtopic topic {}: {}'.format(subtopic, \" \".join(subtopic_top_words)))\n",
    "        pam_supertopic_top_words[k] += subtopic_top_words"
   ]
  },
  {
   "cell_type": "code",
   "execution_count": 97,
   "id": "latest-static",
   "metadata": {},
   "outputs": [
    {
     "data": {
      "text/plain": [
       "[('use', 0.016917625442147255),\n",
       " ('performance', 0.01624763011932373),\n",
       " ('design', 0.01459656935185194),\n",
       " ('application', 0.013783003203570843),\n",
       " ('software', 0.010050171054899693),\n",
       " ('memory', 0.009140891954302788),\n",
       " ('present', 0.009069106541574001),\n",
       " ('provide', 0.008255540393292904),\n",
       " ('implementation', 0.008207683451473713),\n",
       " ('cost', 0.008159827440977097)]"
      ]
     },
     "execution_count": 97,
     "metadata": {},
     "output_type": "execute_result"
    }
   ],
   "source": [
    "mdl.get_topic_words(subtopic, top_n=10)"
   ]
  },
  {
   "cell_type": "code",
   "execution_count": 98,
   "id": "successful-massachusetts",
   "metadata": {},
   "outputs": [],
   "source": [
    "doc = mdl.make_doc(cleaned_articles[doc_index])\n",
    "pam_dist = mdl.infer(doc)[0][0]"
   ]
  },
  {
   "cell_type": "markdown",
   "id": "close-hunger",
   "metadata": {},
   "source": [
    "# <div class=\"alert alert-block alert-info\">5. Model Comparisson </div> <a class=\"anchor\" id=\"Model_Comparisson\"></a>"
   ]
  },
  {
   "cell_type": "markdown",
   "id": "protective-mortality",
   "metadata": {},
   "source": [
    "To start off clean in this section we are going to create a new instance of each model."
   ]
  },
  {
   "cell_type": "markdown",
   "id": "black-recovery",
   "metadata": {},
   "source": [
    "We have got 2 datasets with overlapping topics. The most logical thing to do for a proper training is to use the bigger one."
   ]
  },
  {
   "cell_type": "code",
   "execution_count": 99,
   "id": "driving-catalog",
   "metadata": {},
   "outputs": [
    {
     "data": {
      "text/plain": [
       "15928"
      ]
     },
     "execution_count": 99,
     "metadata": {},
     "output_type": "execute_result"
    }
   ],
   "source": [
    "len(tm_articles)"
   ]
  },
  {
   "cell_type": "code",
   "execution_count": 100,
   "id": "binding-transcript",
   "metadata": {},
   "outputs": [
    {
     "data": {
      "text/plain": [
       "5042"
      ]
     },
     "execution_count": 100,
     "metadata": {},
     "output_type": "execute_result"
    }
   ],
   "source": [
    "len(research_articles)"
   ]
  },
  {
   "cell_type": "markdown",
   "id": "quantitative-secret",
   "metadata": {},
   "source": [
    "We will train both models on 200 iterations and the Pachinko model on 18 000 because of its complex structure."
   ]
  },
  {
   "cell_type": "markdown",
   "id": "mysterious-beverage",
   "metadata": {},
   "source": [
    "## 5.1 Performance <a class=\"anchor\" id=\"Performance\"></a>"
   ]
  },
  {
   "cell_type": "markdown",
   "id": "finished-density",
   "metadata": {},
   "source": [
    "We first initialize and train an LDA model. To make things comparable we will use the dataset that we used for Pachinko."
   ]
  },
  {
   "cell_type": "code",
   "execution_count": 101,
   "id": "continued-english",
   "metadata": {},
   "outputs": [
    {
     "name": "stdout",
     "output_type": "stream",
     "text": [
      "Wall time: 5.81 s\n"
     ]
    }
   ],
   "source": [
    "%time tm_lda = LDA(tm_articles,stopwords_voc,6)"
   ]
  },
  {
   "cell_type": "code",
   "execution_count": 102,
   "id": "private-bradford",
   "metadata": {},
   "outputs": [
    {
     "name": "stdout",
     "output_type": "stream",
     "text": [
      "Starting training LDA model\n"
     ]
    },
    {
     "data": {
      "application/vnd.jupyter.widget-view+json": {
       "model_id": "3e0eb55d616a474486c1e03b89967da4",
       "version_major": 2,
       "version_minor": 0
      },
      "text/plain": [
       "  0%|          | 0/200 [00:00<?, ?it/s]"
      ]
     },
     "metadata": {},
     "output_type": "display_data"
    },
    {
     "name": "stdout",
     "output_type": "stream",
     "text": [
      "Wall time: 2h 34min 51s\n"
     ]
    }
   ],
   "source": [
    "%time tm_lda.train(200)"
   ]
  },
  {
   "cell_type": "markdown",
   "id": "behind-calgary",
   "metadata": {},
   "source": [
    "Now we will initialize and train a new pachinko model."
   ]
  },
  {
   "cell_type": "code",
   "execution_count": 103,
   "id": "hungry-circular",
   "metadata": {},
   "outputs": [
    {
     "name": "stdout",
     "output_type": "stream",
     "text": [
      "Wall time: 512 ms\n"
     ]
    }
   ],
   "source": [
    "%%time \n",
    "tm_pam = tp.PAModel(k1=6, k2=10, min_cf=100)\n",
    "for doc in cleaned_articles:\n",
    "    tm_pam.add_doc(doc)"
   ]
  },
  {
   "cell_type": "code",
   "execution_count": 104,
   "id": "powered-reggae",
   "metadata": {},
   "outputs": [
    {
     "data": {
      "application/vnd.jupyter.widget-view+json": {
       "model_id": "aef7a619af7141d29290a667c4207fa9",
       "version_major": 2,
       "version_minor": 0
      },
      "text/plain": [
       "  0%|          | 0/18000 [00:00<?, ?it/s]"
      ]
     },
     "metadata": {},
     "output_type": "display_data"
    },
    {
     "name": "stdout",
     "output_type": "stream",
     "text": [
      "Wall time: 39min 41s\n"
     ]
    }
   ],
   "source": [
    "%%time\n",
    "for i in tqdm(np.linspace(0, 100, 18000)):\n",
    "    tm_pam.train(1)"
   ]
  },
  {
   "cell_type": "markdown",
   "id": "southeast-projection",
   "metadata": {},
   "source": [
    "The difference in training time is startling and could be caused mainly by required optimization and data processing. Using numpy arrays instead of pythonic ones can shorten the time for training the LDA model."
   ]
  },
  {
   "cell_type": "markdown",
   "id": "taken-religious",
   "metadata": {},
   "source": [
    "## 5.1 Accuracy <a class=\"anchor\" id=\"Accuracy\"></a>"
   ]
  },
  {
   "cell_type": "markdown",
   "id": "written-thinking",
   "metadata": {},
   "source": [
    "Now that we have two(eventually working) models, lets compare how they distribute topics for the first 100 documents from the dataset and compare it to the actual distribution. Because both models only take a fixed number of topics and at the start words are distributed randomly, the indexes of topics are also random.\n",
    "<br>\n",
    "<br>\n",
    "I will reorder both model's distributions in advance based on the real distribution down below."
   ]
  },
  {
   "cell_type": "markdown",
   "id": "polish-quantum",
   "metadata": {},
   "source": [
    "We will get the topic distribution for the first 100 documents for the 2 models from the dataset and normalize."
   ]
  },
  {
   "cell_type": "code",
   "execution_count": 107,
   "id": "infinite-affiliation",
   "metadata": {},
   "outputs": [],
   "source": [
    "lda_100_docs_dist = tm_train_topics_count*[0]\n",
    "for i in range(100):\n",
    "    new_doc_dist = tm_lda.get_doc_dist(i)\n",
    "    lda_100_docs_dist = list(map(add, lda_100_docs_dist, new_doc_dist))"
   ]
  },
  {
   "cell_type": "code",
   "execution_count": 108,
   "id": "hazardous-development",
   "metadata": {},
   "outputs": [
    {
     "data": {
      "application/vnd.jupyter.widget-view+json": {
       "model_id": "a99f9878697444a39bdcbded110f1e94",
       "version_major": 2,
       "version_minor": 0
      },
      "text/plain": [
       "  0%|          | 0/100 [00:00<?, ?it/s]"
      ]
     },
     "metadata": {},
     "output_type": "display_data"
    }
   ],
   "source": [
    "pam_100_docs_dist = tm_train_topics_count*[0]\n",
    "for i in tqdm(range(100)):\n",
    "    doc = mdl.make_doc(cleaned_articles[i])\n",
    "    new_doc_dist = mdl.infer(doc)[0][0]\n",
    "    pam_100_docs_dist = list(map(add, pam_100_docs_dist, new_doc_dist))"
   ]
  },
  {
   "cell_type": "code",
   "execution_count": 109,
   "id": "convinced-enzyme",
   "metadata": {},
   "outputs": [],
   "source": [
    "lda_100_docs_dist_normalized = np.array(lda_100_docs_dist)/100"
   ]
  },
  {
   "cell_type": "code",
   "execution_count": 110,
   "id": "alternative-majority",
   "metadata": {},
   "outputs": [],
   "source": [
    "pam_100_docs_dist_normalized = np.array(pam_100_docs_dist)/100"
   ]
  },
  {
   "cell_type": "code",
   "execution_count": 111,
   "id": "solar-wages",
   "metadata": {},
   "outputs": [],
   "source": [
    "lda_topic_id_converter = [0,5,2,3,4,1]"
   ]
  },
  {
   "cell_type": "code",
   "execution_count": 112,
   "id": "threatened-choir",
   "metadata": {},
   "outputs": [],
   "source": [
    "pam_topic_id_converter = [2,0,4,5,1,3]"
   ]
  },
  {
   "cell_type": "code",
   "execution_count": 113,
   "id": "collaborative-prevention",
   "metadata": {},
   "outputs": [
    {
     "data": {
      "image/png": "[encoded data removed]",
      "text/plain": [
       "<Figure size 432x288 with 1 Axes>"
      ]
     },
     "metadata": {
      "needs_background": "light"
     },
     "output_type": "display_data"
    }
   ],
   "source": [
    "plot_topic_dist([[pam_100_docs_dist_normalized[i] for i in pam_topic_id_converter]], [\"PAM\"],\"1-100\") #150 its"
   ]
  },
  {
   "cell_type": "markdown",
   "id": "latest-discovery",
   "metadata": {},
   "source": [
    "Just to get a raw idea of what the perfect distribution would look like we can get the frequency of each topic from the dataset and normalize by the dataset length."
   ]
  },
  {
   "cell_type": "code",
   "execution_count": 114,
   "id": "difficult-parameter",
   "metadata": {
    "scrolled": true
   },
   "outputs": [
    {
     "data": {
      "image/png": "[encoded data removed]",
      "text/plain": [
       "<Figure size 432x288 with 1 Axes>"
      ]
     },
     "metadata": {
      "needs_background": "light"
     },
     "output_type": "display_data"
    }
   ],
   "source": [
    "real_dist = np.array(tm_train[\"Topic ID\"][:100].value_counts().sort_index().tolist())/100\n",
    "plot_topic_dist([real_dist], [\"Real\"],\"1-100\", topic_names = tm_train_topics)"
   ]
  },
  {
   "cell_type": "markdown",
   "id": "young-blanket",
   "metadata": {},
   "source": [
    "Since both models are trained on the same dataset and with equal number of topics (super topics for PAM), we can suppose that the top words for each topic would be similar."
   ]
  },
  {
   "cell_type": "markdown",
   "id": "committed-fundamental",
   "metadata": {},
   "source": [
    "\n",
    "<div class=\"alert alert-block alert-danger\"> This approach didn't work but I will leave it here for reference.\n",
    "</div>"
   ]
  },
  {
   "cell_type": "code",
   "execution_count": 115,
   "id": "representative-removal",
   "metadata": {},
   "outputs": [],
   "source": [
    "pam_supertopic_top_words = dict()\n",
    "for k in range(tm_pam.k1):\n",
    "    subtopics = tm_pam.get_sub_topics(k)\n",
    "    pam_supertopic_top_words[k] = list()\n",
    "    for subtopic, probability in subtopics:\n",
    "        subtopic_top_words = [str(i[0]) for i in tm_pam.get_topic_words(subtopic, top_n=10)]\n",
    "        pam_supertopic_top_words[k] += subtopic_top_words"
   ]
  },
  {
   "cell_type": "code",
   "execution_count": 116,
   "id": "rental-month",
   "metadata": {},
   "outputs": [
    {
     "name": "stdout",
     "output_type": "stream",
     "text": [
      "LDA topic 0 to PAM 0 - 55\n",
      "LDA topic 1 to PAM 0 - 45\n",
      "LDA topic 2 to PAM 0 - 34\n",
      "LDA topic 3 to PAM 0 - 44\n",
      "LDA topic 4 to PAM 0 - 45\n",
      "LDA topic 5 to PAM 0 - 38\n",
      "====\n",
      "LDA topic 0 to PAM 1 - 55\n",
      "LDA topic 1 to PAM 1 - 45\n",
      "LDA topic 2 to PAM 1 - 34\n",
      "LDA topic 3 to PAM 1 - 44\n",
      "LDA topic 4 to PAM 1 - 45\n",
      "LDA topic 5 to PAM 1 - 38\n",
      "====\n",
      "LDA topic 0 to PAM 2 - 55\n",
      "LDA topic 1 to PAM 2 - 45\n",
      "LDA topic 2 to PAM 2 - 34\n",
      "LDA topic 3 to PAM 2 - 44\n",
      "LDA topic 4 to PAM 2 - 45\n",
      "LDA topic 5 to PAM 2 - 38\n",
      "====\n",
      "LDA topic 0 to PAM 3 - 55\n",
      "LDA topic 1 to PAM 3 - 45\n",
      "LDA topic 2 to PAM 3 - 34\n",
      "LDA topic 3 to PAM 3 - 44\n",
      "LDA topic 4 to PAM 3 - 45\n",
      "LDA topic 5 to PAM 3 - 38\n",
      "====\n",
      "LDA topic 0 to PAM 4 - 55\n",
      "LDA topic 1 to PAM 4 - 45\n",
      "LDA topic 2 to PAM 4 - 34\n",
      "LDA topic 3 to PAM 4 - 44\n",
      "LDA topic 4 to PAM 4 - 45\n",
      "LDA topic 5 to PAM 4 - 38\n",
      "====\n",
      "LDA topic 0 to PAM 5 - 55\n",
      "LDA topic 1 to PAM 5 - 45\n",
      "LDA topic 2 to PAM 5 - 34\n",
      "LDA topic 3 to PAM 5 - 44\n",
      "LDA topic 4 to PAM 5 - 45\n",
      "LDA topic 5 to PAM 5 - 38\n",
      "====\n"
     ]
    }
   ],
   "source": [
    "def show_match_count():\n",
    "    for t in range(tm_pam.k1):\n",
    "        inv_vocabulary = {v: k for k, v in tm_lda.vocabulary.items()}\n",
    "        n_top_words = 1000\n",
    "        \n",
    "        for topic_idx, topic in enumerate(tm_lda.phi):\n",
    "            lda_top_words = [inv_vocabulary[i] for i in topic.argsort()[:-n_top_words - 1:-1]]\n",
    "            \n",
    "            matching_words = set(pam_supertopic_top_words[t]).intersection(set(lda_top_words))\n",
    "            print(\"LDA topic {} to PAM {} - {}\".format(topic_idx, t, len(matching_words)))\n",
    "        print(\"====\")\n",
    "show_match_count()"
   ]
  },
  {
   "cell_type": "markdown",
   "id": "contemporary-delta",
   "metadata": {},
   "source": [
    "Lets write a function that will give us a score of correctly guessed documents."
   ]
  },
  {
   "cell_type": "code",
   "execution_count": 117,
   "id": "strange-consciousness",
   "metadata": {},
   "outputs": [],
   "source": [
    "def get_model_score(dataframe, n, order_converter, model, model_type=\"LDA\"):\n",
    "    \"\"\"\n",
    "    Returns percentage of correctly guessed topic distributions divided by the `n` number of `dataframe` docs examined\n",
    "    for a `model_type` - [\"LDA\", \"PAM\"]\n",
    "    \"\"\"\n",
    "    score = 0\n",
    "    results = list()\n",
    "    corrects = list()\n",
    "    for i in range(n):\n",
    "        doc_index=i\n",
    "        sample = dataframe.iloc[doc_index]\n",
    "        \n",
    "        if model_type == \"LDA\":\n",
    "            model_dist = model.get_doc_dist(doc_index)\n",
    "        else:\n",
    "            doc = tm_pam.make_doc(split_words(dataframe[\"ABSTRACT\"], [])[i])\n",
    "            model_dist = model.infer(doc)[0][0]\n",
    "    \n",
    "        converted_dist = [model_dist[i] for i in order_converter]\n",
    "        correct = dataframe.iloc[doc_index][\"Topic ID\"]\n",
    "        \n",
    "        if converted_dist[correct] == max(converted_dist):\n",
    "            score+=1\n",
    "    \n",
    "        results.append(converted_dist)\n",
    "        corrects.append(correct)\n",
    "    return score/n, results, corrects\n",
    "    "
   ]
  },
  {
   "cell_type": "code",
   "execution_count": 118,
   "id": "fantastic-engineering",
   "metadata": {},
   "outputs": [
    {
     "data": {
      "text/plain": [
       "0.38"
      ]
     },
     "execution_count": 118,
     "metadata": {},
     "output_type": "execute_result"
    }
   ],
   "source": [
    "score_lda, doc_dists_lda, corrects = get_model_score(tm_train, 100, lda_topic_id_converter, tm_lda)\n",
    "score_lda"
   ]
  },
  {
   "cell_type": "code",
   "execution_count": 119,
   "id": "laughing-acrylic",
   "metadata": {},
   "outputs": [
    {
     "data": {
      "text/plain": [
       "0.22"
      ]
     },
     "execution_count": 119,
     "metadata": {},
     "output_type": "execute_result"
    }
   ],
   "source": [
    "score_pam, doc_dists_pam, corrects = get_model_score(tm_train, 100, pam_topic_id_converter, tm_pam, \"PAM\")\n",
    "score_pam"
   ]
  },
  {
   "cell_type": "markdown",
   "id": "mental-covering",
   "metadata": {},
   "source": [
    "Seems like ordering the topics by looking just at the distribution won't give us the best results."
   ]
  },
  {
   "cell_type": "markdown",
   "id": "proper-penalty",
   "metadata": {},
   "source": [
    "We will take a cheeky way around and try to bruteforce the correct ordering. Since we have a small number of topics we can use their permutations to find the optimal one."
   ]
  },
  {
   "cell_type": "code",
   "execution_count": 120,
   "id": "formal-morrison",
   "metadata": {},
   "outputs": [],
   "source": [
    "permutations = np.array([[0,1,2,3,4,5],[1,0,2,3,4,5],[2,0,1,3,4,5],[0,2,1,3,4,5],[1,2,0,3,4,5],[2,1,0,3,4,5],[2,1,3,0,4,5],[1,2,3,0,4,5],[3,2,1,0,4,5],[2,3,1,0,4,5],[1,3,2,0,4,5],[3,1,2,0,4,5],[3,0,2,1,4,5],[0,3,2,1,4,5],[2,3,0,1,4,5],[3,2,0,1,4,5],[0,2,3,1,4,5],[2,0,3,1,4,5],[1,0,3,2,4,5],[0,1,3,2,4,5],[3,1,0,2,4,5],[1,3,0,2,4,5],[0,3,1,2,4,5],[3,0,1,2,4,5],[4,0,1,2,3,5],[0,4,1,2,3,5],[1,4,0,2,3,5],[4,1,0,2,3,5],[0,1,4,2,3,5],[1,0,4,2,3,5],[1,0,2,4,3,5],[0,1,2,4,3,5],[2,1,0,4,3,5],[1,2,0,4,3,5],[0,2,1,4,3,5],[2,0,1,4,3,5],[2,4,1,0,3,5],[4,2,1,0,3,5],[1,2,4,0,3,5],[2,1,4,0,3,5],[4,1,2,0,3,5],[1,4,2,0,3,5],[0,4,2,1,3,5],[4,0,2,1,3,5],[2,0,4,1,3,5],[0,2,4,1,3,5],[4,2,0,1,3,5],[2,4,0,1,3,5],[3,4,0,1,2,5],[4,3,0,1,2,5],[0,3,4,1,2,5],[3,0,4,1,2,5],[4,0,3,1,2,5],[0,4,3,1,2,5],[0,4,1,3,2,5],[4,0,1,3,2,5],[1,0,4,3,2,5],[0,1,4,3,2,5],[4,1,0,3,2,5],[1,4,0,3,2,5],[1,3,0,4,2,5],[3,1,0,4,2,5],[0,1,3,4,2,5],[1,0,3,4,2,5],[3,0,1,4,2,5],[0,3,1,4,2,5],[4,3,1,0,2,5],[3,4,1,0,2,5],[1,4,3,0,2,5],[4,1,3,0,2,5],[3,1,4,0,2,5],[1,3,4,0,2,5],[2,3,4,0,1,5],[3,2,4,0,1,5],[4,2,3,0,1,5],[2,4,3,0,1,5],[3,4,2,0,1,5],[4,3,2,0,1,5],[4,3,0,2,1,5],[3,4,0,2,1,5],[0,4,3,2,1,5],[4,0,3,2,1,5],[3,0,4,2,1,5],[0,3,4,2,1,5],[0,2,4,3,1,5],[2,0,4,3,1,5],[4,0,2,3,1,5],[0,4,2,3,1,5],[2,4,0,3,1,5],[4,2,0,3,1,5],[3,2,0,4,1,5],[2,3,0,4,1,5],[0,3,2,4,1,5],[3,0,2,4,1,5],[2,0,3,4,1,5],[0,2,3,4,1,5],[1,2,3,4,0,5],[2,1,3,4,0,5],[3,1,2,4,0,5],[1,3,2,4,0,5],[2,3,1,4,0,5],[3,2,1,4,0,5],[3,2,4,1,0,5],[2,3,4,1,0,5],[4,3,2,1,0,5],[3,4,2,1,0,5],[2,4,3,1,0,5],[4,2,3,1,0,5],[4,1,3,2,0,5],[1,4,3,2,0,5],[3,4,1,2,0,5],[4,3,1,2,0,5],[1,3,4,2,0,5],[3,1,4,2,0,5],[2,1,4,3,0,5],[1,2,4,3,0,5],[4,2,1,3,0,5],[2,4,1,3,0,5],[1,4,2,3,0,5],[4,1,2,3,0,5],[4,1,2,3,5,0],[1,4,2,3,5,0],[2,4,1,3,5,0],[4,2,1,3,5,0],[1,2,4,3,5,0],[2,1,4,3,5,0],[2,1,3,4,5,0],[1,2,3,4,5,0],[3,2,1,4,5,0],[2,3,1,4,5,0],[1,3,2,4,5,0],[3,1,2,4,5,0],[3,4,2,1,5,0],[4,3,2,1,5,0],[2,3,4,1,5,0],[3,2,4,1,5,0],[4,2,3,1,5,0],[2,4,3,1,5,0],[1,4,3,2,5,0],[4,1,3,2,5,0],[3,1,4,2,5,0],[1,3,4,2,5,0],[4,3,1,2,5,0],[3,4,1,2,5,0],[5,4,1,2,3,0],[4,5,1,2,3,0],[1,5,4,2,3,0],[5,1,4,2,3,0],[4,1,5,2,3,0],[1,4,5,2,3,0],[1,4,2,5,3,0],[4,1,2,5,3,0],[2,1,4,5,3,0],[1,2,4,5,3,0],[4,2,1,5,3,0],[2,4,1,5,3,0],[2,5,1,4,3,0],[5,2,1,4,3,0],[1,2,5,4,3,0],[2,1,5,4,3,0],[5,1,2,4,3,0],[1,5,2,4,3,0],[4,5,2,1,3,0],[5,4,2,1,3,0],[2,4,5,1,3,0],[4,2,5,1,3,0],[5,2,4,1,3,0],[2,5,4,1,3,0],[3,5,4,1,2,0],[5,3,4,1,2,0],[4,3,5,1,2,0],[3,4,5,1,2,0],[5,4,3,1,2,0],[4,5,3,1,2,0],[4,5,1,3,2,0],[5,4,1,3,2,0],[1,4,5,3,2,0],[4,1,5,3,2,0],[5,1,4,3,2,0],[1,5,4,3,2,0],[1,3,4,5,2,0],[3,1,4,5,2,0],[4,1,3,5,2,0],[1,4,3,5,2,0],[3,4,1,5,2,0],[4,3,1,5,2,0],[5,3,1,4,2,0],[3,5,1,4,2,0],[1,5,3,4,2,0],[5,1,3,4,2,0],[3,1,5,4,2,0],[1,3,5,4,2,0],[2,3,5,4,1,0],[3,2,5,4,1,0],[5,2,3,4,1,0],[2,5,3,4,1,0],[3,5,2,4,1,0],[5,3,2,4,1,0],[5,3,4,2,1,0],[3,5,4,2,1,0],[4,5,3,2,1,0],[5,4,3,2,1,0],[3,4,5,2,1,0],[4,3,5,2,1,0],[4,2,5,3,1,0],[2,4,5,3,1,0],[5,4,2,3,1,0],[4,5,2,3,1,0],[2,5,4,3,1,0],[5,2,4,3,1,0],[3,2,4,5,1,0],[2,3,4,5,1,0],[4,3,2,5,1,0],[3,4,2,5,1,0],[2,4,3,5,1,0],[4,2,3,5,1,0],[1,2,3,5,4,0],[2,1,3,5,4,0],[3,1,2,5,4,0],[1,3,2,5,4,0],[2,3,1,5,4,0],[3,2,1,5,4,0],[3,2,5,1,4,0],[2,3,5,1,4,0],[5,3,2,1,4,0],[3,5,2,1,4,0],[2,5,3,1,4,0],[5,2,3,1,4,0],[5,1,3,2,4,0],[1,5,3,2,4,0],[3,5,1,2,4,0],[5,3,1,2,4,0],[1,3,5,2,4,0],[3,1,5,2,4,0],[2,1,5,3,4,0],[1,2,5,3,4,0],[5,2,1,3,4,0],[2,5,1,3,4,0],[1,5,2,3,4,0],[5,1,2,3,4,0],[5,1,2,0,4,3],[1,5,2,0,4,3],[2,5,1,0,4,3],[5,2,1,0,4,3],[1,2,5,0,4,3],[2,1,5,0,4,3],[2,1,0,5,4,3],[1,2,0,5,4,3],[0,2,1,5,4,3],[2,0,1,5,4,3],[1,0,2,5,4,3],[0,1,2,5,4,3],[0,5,2,1,4,3],[5,0,2,1,4,3],[2,0,5,1,4,3],[0,2,5,1,4,3],[5,2,0,1,4,3],[2,5,0,1,4,3],[1,5,0,2,4,3],[5,1,0,2,4,3],[0,1,5,2,4,3],[1,0,5,2,4,3],[5,0,1,2,4,3],[0,5,1,2,4,3],[4,5,1,2,0,3],[5,4,1,2,0,3],[1,4,5,2,0,3],[4,1,5,2,0,3],[5,1,4,2,0,3],[1,5,4,2,0,3],[1,5,2,4,0,3],[5,1,2,4,0,3],[2,1,5,4,0,3],[1,2,5,4,0,3],[5,2,1,4,0,3],[2,5,1,4,0,3],[2,4,1,5,0,3],[4,2,1,5,0,3],[1,2,4,5,0,3],[2,1,4,5,0,3],[4,1,2,5,0,3],[1,4,2,5,0,3],[5,4,2,1,0,3],[4,5,2,1,0,3],[2,5,4,1,0,3],[5,2,4,1,0,3],[4,2,5,1,0,3],[2,4,5,1,0,3],[0,4,5,1,2,3],[4,0,5,1,2,3],[5,0,4,1,2,3],[0,5,4,1,2,3],[4,5,0,1,2,3],[5,4,0,1,2,3],[5,4,1,0,2,3],[4,5,1,0,2,3],[1,5,4,0,2,3],[5,1,4,0,2,3],[4,1,5,0,2,3],[1,4,5,0,2,3],[1,0,5,4,2,3],[0,1,5,4,2,3],[5,1,0,4,2,3],[1,5,0,4,2,3],[0,5,1,4,2,3],[5,0,1,4,2,3],[4,0,1,5,2,3],[0,4,1,5,2,3],[1,4,0,5,2,3],[4,1,0,5,2,3],[0,1,4,5,2,3],[1,0,4,5,2,3],[2,0,4,5,1,3],[0,2,4,5,1,3],[4,2,0,5,1,3],[2,4,0,5,1,3],[0,4,2,5,1,3],[4,0,2,5,1,3],[4,0,5,2,1,3],[0,4,5,2,1,3],[5,4,0,2,1,3],[4,5,0,2,1,3],[0,5,4,2,1,3],[5,0,4,2,1,3],[5,2,4,0,1,3],[2,5,4,0,1,3],[4,5,2,0,1,3],[5,4,2,0,1,3],[2,4,5,0,1,3],[4,2,5,0,1,3],[0,2,5,4,1,3],[2,0,5,4,1,3],[5,0,2,4,1,3],[0,5,2,4,1,3],[2,5,0,4,1,3],[5,2,0,4,1,3],[1,2,0,4,5,3],[2,1,0,4,5,3],[0,1,2,4,5,3],[1,0,2,4,5,3],[2,0,1,4,5,3],[0,2,1,4,5,3],[0,2,4,1,5,3],[2,0,4,1,5,3],[4,0,2,1,5,3],[0,4,2,1,5,3],[2,4,0,1,5,3],[4,2,0,1,5,3],[4,1,0,2,5,3],[1,4,0,2,5,3],[0,4,1,2,5,3],[4,0,1,2,5,3],[1,0,4,2,5,3],[0,1,4,2,5,3],[2,1,4,0,5,3],[1,2,4,0,5,3],[4,2,1,0,5,3],[2,4,1,0,5,3],[1,4,2,0,5,3],[4,1,2,0,5,3],[4,1,3,0,5,2],[1,4,3,0,5,2],[3,4,1,0,5,2],[4,3,1,0,5,2],[1,3,4,0,5,2],[3,1,4,0,5,2],[3,1,0,4,5,2],[1,3,0,4,5,2],[0,3,1,4,5,2],[3,0,1,4,5,2],[1,0,3,4,5,2],[0,1,3,4,5,2],[0,4,3,1,5,2],[4,0,3,1,5,2],[3,0,4,1,5,2],[0,3,4,1,5,2],[4,3,0,1,5,2],[3,4,0,1,5,2],[1,4,0,3,5,2],[4,1,0,3,5,2],[0,1,4,3,5,2],[1,0,4,3,5,2],[4,0,1,3,5,2],[0,4,1,3,5,2],[5,4,1,3,0,2],[4,5,1,3,0,2],[1,5,4,3,0,2],[5,1,4,3,0,2],[4,1,5,3,0,2],[1,4,5,3,0,2],[1,4,3,5,0,2],[4,1,3,5,0,2],[3,1,4,5,0,2],[1,3,4,5,0,2],[4,3,1,5,0,2],[3,4,1,5,0,2],[3,5,1,4,0,2],[5,3,1,4,0,2],[1,3,5,4,0,2],[3,1,5,4,0,2],[5,1,3,4,0,2],[1,5,3,4,0,2],[4,5,3,1,0,2],[5,4,3,1,0,2],[3,4,5,1,0,2],[4,3,5,1,0,2],[5,3,4,1,0,2],[3,5,4,1,0,2],[0,5,4,1,3,2],[5,0,4,1,3,2],[4,0,5,1,3,2],[0,4,5,1,3,2],[5,4,0,1,3,2],[4,5,0,1,3,2],[4,5,1,0,3,2],[5,4,1,0,3,2],[1,4,5,0,3,2],[4,1,5,0,3,2],[5,1,4,0,3,2],[1,5,4,0,3,2],[1,0,4,5,3,2],[0,1,4,5,3,2],[4,1,0,5,3,2],[1,4,0,5,3,2],[0,4,1,5,3,2],[4,0,1,5,3,2],[5,0,1,4,3,2],[0,5,1,4,3,2],[1,5,0,4,3,2],[5,1,0,4,3,2],[0,1,5,4,3,2],[1,0,5,4,3,2],[3,0,5,4,1,2],[0,3,5,4,1,2],[5,3,0,4,1,2],[3,5,0,4,1,2],[0,5,3,4,1,2],[5,0,3,4,1,2],[5,0,4,3,1,2],[0,5,4,3,1,2],[4,5,0,3,1,2],[5,4,0,3,1,2],[0,4,5,3,1,2],[4,0,5,3,1,2],[4,3,5,0,1,2],[3,4,5,0,1,2],[5,4,3,0,1,2],[4,5,3,0,1,2],[3,5,4,0,1,2],[5,3,4,0,1,2],[0,3,4,5,1,2],[3,0,4,5,1,2],[4,0,3,5,1,2],[0,4,3,5,1,2],[3,4,0,5,1,2],[4,3,0,5,1,2],[1,3,0,5,4,2],[3,1,0,5,4,2],[0,1,3,5,4,2],[1,0,3,5,4,2],[3,0,1,5,4,2],[0,3,1,5,4,2],[0,3,5,1,4,2],[3,0,5,1,4,2],[5,0,3,1,4,2],[0,5,3,1,4,2],[3,5,0,1,4,2],[5,3,0,1,4,2],[5,1,0,3,4,2],[1,5,0,3,4,2],[0,5,1,3,4,2],[5,0,1,3,4,2],[1,0,5,3,4,2],[0,1,5,3,4,2],[3,1,5,0,4,2],[1,3,5,0,4,2],[5,3,1,0,4,2],[3,5,1,0,4,2],[1,5,3,0,4,2],[5,1,3,0,4,2],[5,2,3,0,4,1],[2,5,3,0,4,1],[3,5,2,0,4,1],[5,3,2,0,4,1],[2,3,5,0,4,1],[3,2,5,0,4,1],[3,2,0,5,4,1],[2,3,0,5,4,1],[0,3,2,5,4,1],[3,0,2,5,4,1],[2,0,3,5,4,1],[0,2,3,5,4,1],[0,5,3,2,4,1],[5,0,3,2,4,1],[3,0,5,2,4,1],[0,3,5,2,4,1],[5,3,0,2,4,1],[3,5,0,2,4,1],[2,5,0,3,4,1],[5,2,0,3,4,1],[0,2,5,3,4,1],[2,0,5,3,4,1],[5,0,2,3,4,1],[0,5,2,3,4,1],[4,5,2,3,0,1],[5,4,2,3,0,1],[2,4,5,3,0,1],[4,2,5,3,0,1],[5,2,4,3,0,1],[2,5,4,3,0,1],[2,5,3,4,0,1],[5,2,3,4,0,1],[3,2,5,4,0,1],[2,3,5,4,0,1],[5,3,2,4,0,1],[3,5,2,4,0,1],[3,4,2,5,0,1],[4,3,2,5,0,1],[2,3,4,5,0,1],[3,2,4,5,0,1],[4,2,3,5,0,1],[2,4,3,5,0,1],[5,4,3,2,0,1],[4,5,3,2,0,1],[3,5,4,2,0,1],[5,3,4,2,0,1],[4,3,5,2,0,1],[3,4,5,2,0,1],[0,4,5,2,3,1],[4,0,5,2,3,1],[5,0,4,2,3,1],[0,5,4,2,3,1],[4,5,0,2,3,1],[5,4,0,2,3,1],[5,4,2,0,3,1],[4,5,2,0,3,1],[2,5,4,0,3,1],[5,2,4,0,3,1],[4,2,5,0,3,1],[2,4,5,0,3,1],[2,0,5,4,3,1],[0,2,5,4,3,1],[5,2,0,4,3,1],[2,5,0,4,3,1],[0,5,2,4,3,1],[5,0,2,4,3,1],[4,0,2,5,3,1],[0,4,2,5,3,1],[2,4,0,5,3,1],[4,2,0,5,3,1],[0,2,4,5,3,1],[2,0,4,5,3,1],[3,0,4,5,2,1],[0,3,4,5,2,1],[4,3,0,5,2,1],[3,4,0,5,2,1],[0,4,3,5,2,1],[4,0,3,5,2,1],[4,0,5,3,2,1],[0,4,5,3,2,1],[5,4,0,3,2,1],[4,5,0,3,2,1],[0,5,4,3,2,1],[5,0,4,3,2,1],[5,3,4,0,2,1],[3,5,4,0,2,1],[4,5,3,0,2,1],[5,4,3,0,2,1],[3,4,5,0,2,1],[4,3,5,0,2,1],[0,3,5,4,2,1],[3,0,5,4,2,1],[5,0,3,4,2,1],[0,5,3,4,2,1],[3,5,0,4,2,1],[5,3,0,4,2,1],[2,3,0,4,5,1],[3,2,0,4,5,1],[0,2,3,4,5,1],[2,0,3,4,5,1],[3,0,2,4,5,1],[0,3,2,4,5,1],[0,3,4,2,5,1],[3,0,4,2,5,1],[4,0,3,2,5,1],[0,4,3,2,5,1],[3,4,0,2,5,1],[4,3,0,2,5,1],[4,2,0,3,5,1],[2,4,0,3,5,1],[0,4,2,3,5,1],[4,0,2,3,5,1],[2,0,4,3,5,1],[0,2,4,3,5,1],[3,2,4,0,5,1],[2,3,4,0,5,1],[4,3,2,0,5,1],[3,4,2,0,5,1],[2,4,3,0,5,1],[4,2,3,0,5,1],[1,2,3,0,5,4],[2,1,3,0,5,4],[3,1,2,0,5,4],[1,3,2,0,5,4],[2,3,1,0,5,4],[3,2,1,0,5,4],[3,2,0,1,5,4],[2,3,0,1,5,4],[0,3,2,1,5,4],[3,0,2,1,5,4],[2,0,3,1,5,4],[0,2,3,1,5,4],[0,1,3,2,5,4],[1,0,3,2,5,4],[3,0,1,2,5,4],[0,3,1,2,5,4],[1,3,0,2,5,4],[3,1,0,2,5,4],[2,1,0,3,5,4],[1,2,0,3,5,4],[0,2,1,3,5,4],[2,0,1,3,5,4],[1,0,2,3,5,4],[0,1,2,3,5,4],[5,1,2,3,0,4],[1,5,2,3,0,4],[2,5,1,3,0,4],[5,2,1,3,0,4],[1,2,5,3,0,4],[2,1,5,3,0,4],[2,1,3,5,0,4],[1,2,3,5,0,4],[3,2,1,5,0,4],[2,3,1,5,0,4],[1,3,2,5,0,4],[3,1,2,5,0,4],[3,5,2,1,0,4],[5,3,2,1,0,4],[2,3,5,1,0,4],[3,2,5,1,0,4],[5,2,3,1,0,4],[2,5,3,1,0,4],[1,5,3,2,0,4],[5,1,3,2,0,4],[3,1,5,2,0,4],[1,3,5,2,0,4],[5,3,1,2,0,4],[3,5,1,2,0,4],[0,5,1,2,3,4],[5,0,1,2,3,4],[1,0,5,2,3,4],[0,1,5,2,3,4],[5,1,0,2,3,4],[1,5,0,2,3,4],[1,5,2,0,3,4],[5,1,2,0,3,4],[2,1,5,0,3,4],[1,2,5,0,3,4],[5,2,1,0,3,4],[2,5,1,0,3,4],[2,0,1,5,3,4],[0,2,1,5,3,4],[1,2,0,5,3,4],[2,1,0,5,3,4],[0,1,2,5,3,4],[1,0,2,5,3,4],[5,0,2,1,3,4],[0,5,2,1,3,4],[2,5,0,1,3,4],[5,2,0,1,3,4],[0,2,5,1,3,4],[2,0,5,1,3,4],[3,0,5,1,2,4],[0,3,5,1,2,4],[5,3,0,1,2,4],[3,5,0,1,2,4],[0,5,3,1,2,4],[5,0,3,1,2,4],[5,0,1,3,2,4],[0,5,1,3,2,4],[1,5,0,3,2,4],[5,1,0,3,2,4],[0,1,5,3,2,4],[1,0,5,3,2,4],[1,3,5,0,2,4],[3,1,5,0,2,4],[5,1,3,0,2,4],[1,5,3,0,2,4],[3,5,1,0,2,4],[5,3,1,0,2,4],[0,3,1,5,2,4],[3,0,1,5,2,4],[1,0,3,5,2,4],[0,1,3,5,2,4],[3,1,0,5,2,4],[1,3,0,5,2,4],[2,3,0,5,1,4],[3,2,0,5,1,4],[0,2,3,5,1,4],[2,0,3,5,1,4],[3,0,2,5,1,4],[0,3,2,5,1,4],[0,3,5,2,1,4],[3,0,5,2,1,4],[5,0,3,2,1,4],[0,5,3,2,1,4],[3,5,0,2,1,4],[5,3,0,2,1,4],[5,2,0,3,1,4],[2,5,0,3,1,4],[0,5,2,3,1,4],[5,0,2,3,1,4],[2,0,5,3,1,4],[0,2,5,3,1,4],[3,2,5,0,1,4],[2,3,5,0,1,4],[5,3,2,0,1,4],[3,5,2,0,1,4],[2,5,3,0,1,4],[5,2,3,0,1,4]])"
   ]
  },
  {
   "cell_type": "code",
   "execution_count": 121,
   "id": "impressive-collar",
   "metadata": {},
   "outputs": [],
   "source": [
    "results_lda = np.array([get_model_score(tm_train, 100, permutation, tm_lda)[0] for permutation in permutations])"
   ]
  },
  {
   "cell_type": "code",
   "execution_count": 122,
   "id": "possible-april",
   "metadata": {},
   "outputs": [
    {
     "data": {
      "text/plain": [
       "0.62"
      ]
     },
     "execution_count": 122,
     "metadata": {},
     "output_type": "execute_result"
    }
   ],
   "source": [
    "max(results_lda)"
   ]
  },
  {
   "cell_type": "markdown",
   "id": "timely-cleaners",
   "metadata": {},
   "source": [
    "Seems a lot better. That is our optimal topic order for the LDA model."
   ]
  },
  {
   "cell_type": "code",
   "execution_count": 123,
   "id": "considerable-adobe",
   "metadata": {},
   "outputs": [],
   "source": [
    "lda_topic_id_converter = permutations[np.argmax(results_lda)]"
   ]
  },
  {
   "cell_type": "markdown",
   "id": "personalized-outside",
   "metadata": {},
   "source": [
    "Lets do the same for the pachinko model."
   ]
  },
  {
   "cell_type": "markdown",
   "id": "animal-episode",
   "metadata": {},
   "source": [
    "For this one I had to get creative because it was taking the whole night to complete. Instead of running tests on every permutation we are going to get the topic distributions for the 100 docs, shuffle them via the permutations and compare them to the respective document correct value."
   ]
  },
  {
   "cell_type": "markdown",
   "id": "legal-handle",
   "metadata": {},
   "source": [
    "First we get an array of unsuffled topic distributions."
   ]
  },
  {
   "cell_type": "code",
   "execution_count": 124,
   "id": "desperate-custom",
   "metadata": {},
   "outputs": [
    {
     "data": {
      "text/plain": [
       "[0.00079617836,\n",
       " 0.5740446,\n",
       " 0.34315285,\n",
       " 0.00079617836,\n",
       " 0.00079617836,\n",
       " 0.08041402]"
      ]
     },
     "execution_count": 124,
     "metadata": {},
     "output_type": "execute_result"
    }
   ],
   "source": [
    "score_pam, results_pam, corrects = get_model_score(tm_train, 100, [0,1,2,3,4,5], tm_pam, \"PAM\")\n",
    "results_pam[0]"
   ]
  },
  {
   "cell_type": "markdown",
   "id": "civilian-december",
   "metadata": {},
   "source": [
    "Then, for each permutation, we are going to iterate over the topic distribution for each doc and use the permutation to reorder the topic IDs."
   ]
  },
  {
   "cell_type": "code",
   "execution_count": 125,
   "id": "female-cigarette",
   "metadata": {},
   "outputs": [],
   "source": [
    "permutation_scores = list()\n",
    "for p, permutation in enumerate(permutations): #720\n",
    "    permutation_score = 0\n",
    "    for m, model_dist in enumerate(results_pam): #100\n",
    "        converted_dist = [model_dist[i] for i in permutation]\n",
    "        correct = corrects[m]\n",
    "        if converted_dist[correct-1] == max(converted_dist):\n",
    "            permutation_score += 1\n",
    "    permutation_scores.append(permutation_score/len(results_pam))"
   ]
  },
  {
   "cell_type": "code",
   "execution_count": 126,
   "id": "bottom-liberal",
   "metadata": {},
   "outputs": [
    {
     "data": {
      "text/plain": [
       "0.43"
      ]
     },
     "execution_count": 126,
     "metadata": {},
     "output_type": "execute_result"
    }
   ],
   "source": [
    "max(permutation_scores)"
   ]
  },
  {
   "cell_type": "markdown",
   "id": "expired-louis",
   "metadata": {},
   "source": [
    "Not as great as the LDA model but we will go with it."
   ]
  },
  {
   "cell_type": "code",
   "execution_count": 127,
   "id": "paperback-packet",
   "metadata": {},
   "outputs": [],
   "source": [
    "pam_topic_id_converter = permutations[permutation_scores.index(max(permutation_scores))]"
   ]
  },
  {
   "cell_type": "markdown",
   "id": "handy-filing",
   "metadata": {},
   "source": [
    "Now that we have the topics optimally ordered lets see how they perfrom one document at a time."
   ]
  },
  {
   "cell_type": "markdown",
   "id": "chinese-concrete",
   "metadata": {},
   "source": [
    "We will write a function that will help us plot each document's topic distribution and correct label."
   ]
  },
  {
   "cell_type": "code",
   "execution_count": 128,
   "id": "tight-headquarters",
   "metadata": {},
   "outputs": [],
   "source": [
    "def plot_model_doc_dists(dataframe, n, models, order_converters, model_types):\n",
    "    \"\"\"\n",
    "    Plots topic distributions of 1 or more `models` on `n` docs. Topic order is converted using `order_converters`\n",
    "    for each model, `models_types` must contain an element for each `model` - \"LDA\" or \"PAM\"\n",
    "    \"\"\"\n",
    "    score = 0\n",
    "    \n",
    "    for i in range(n):\n",
    "        doc_index=i\n",
    "        sample = dataframe.iloc[doc_index]\n",
    "        \n",
    "        converted_dists = list()\n",
    "        correct = 0\n",
    "        for m, model in enumerate(models):\n",
    "            model_dist = list()\n",
    "            if model_types[m] == \"LDA\":\n",
    "                model_dist = model.get_doc_dist(doc_index)\n",
    "            else:\n",
    "                doc = tm_pam.make_doc(split_words(dataframe[\"ABSTRACT\"], [])[i])\n",
    "                model_dist = model.infer(doc)[0][0]\n",
    "\n",
    "            converted_dists.append([model_dist[i] for i in order_converters[m]])\n",
    "\n",
    "            correct = dataframe.iloc[doc_index][\"Topic ID\"]\n",
    "                \n",
    "        plot_topic_dist(converted_dists, model_types, doc_index, correct=correct)"
   ]
  },
  {
   "cell_type": "code",
   "execution_count": 129,
   "id": "silent-tiger",
   "metadata": {},
   "outputs": [
    {
     "data": {
      "image/png": "[encoded data removed]",
      "text/plain": [
       "<Figure size 432x288 with 1 Axes>"
      ]
     },
     "metadata": {
      "needs_background": "light"
     },
     "output_type": "display_data"
    },
    {
     "data": {
      "image/png": "[encoded data removed]",
      "text/plain": [
       "<Figure size 432x288 with 1 Axes>"
      ]
     },
     "metadata": {
      "needs_background": "light"
     },
     "output_type": "display_data"
    },
    {
     "data": {
      "image/png": "[encoded data removed]",
      "text/plain": [
       "<Figure size 432x288 with 1 Axes>"
      ]
     },
     "metadata": {
      "needs_background": "light"
     },
     "output_type": "display_data"
    },
    {
     "data": {
      "image/png": "[encoded data removed]",
      "text/plain": [
       "<Figure size 432x288 with 1 Axes>"
      ]
     },
     "metadata": {
      "needs_background": "light"
     },
     "output_type": "display_data"
    },
    {
     "data": {
      "image/png": "[encoded data removed]",
      "text/plain": [
       "<Figure size 432x288 with 1 Axes>"
      ]
     },
     "metadata": {
      "needs_background": "light"
     },
     "output_type": "display_data"
    },
    {
     "data": {
      "image/png": "[encoded data removed]",
      "text/plain": [
       "<Figure size 432x288 with 1 Axes>"
      ]
     },
     "metadata": {
      "needs_background": "light"
     },
     "output_type": "display_data"
    },
    {
     "data": {
      "image/png": "[encoded data removed]",
      "text/plain": [
       "<Figure size 432x288 with 1 Axes>"
      ]
     },
     "metadata": {
      "needs_background": "light"
     },
     "output_type": "display_data"
    },
    {
     "data": {
      "image/png": "[encoded data removed]",
      "text/plain": [
       "<Figure size 432x288 with 1 Axes>"
      ]
     },
     "metadata": {
      "needs_background": "light"
     },
     "output_type": "display_data"
    },
    {
     "data": {
      "image/png": "[encoded data removed]",
      "text/plain": [
       "<Figure size 432x288 with 1 Axes>"
      ]
     },
     "metadata": {
      "needs_background": "light"
     },
     "output_type": "display_data"
    },
    {
     "data": {
      "image/png": "[encoded data removed]",
      "text/plain": [
       "<Figure size 432x288 with 1 Axes>"
      ]
     },
     "metadata": {
      "needs_background": "light"
     },
     "output_type": "display_data"
    },
    {
     "data": {
      "image/png": "[encoded data removed]",
      "text/plain": [
       "<Figure size 432x288 with 1 Axes>"
      ]
     },
     "metadata": {
      "needs_background": "light"
     },
     "output_type": "display_data"
    },
    {
     "data": {
      "image/png": "[encoded data removed]",
      "text/plain": [
       "<Figure size 432x288 with 1 Axes>"
      ]
     },
     "metadata": {
      "needs_background": "light"
     },
     "output_type": "display_data"
    },
    {
     "data": {
      "image/png": "[encoded data removed]",
      "text/plain": [
       "<Figure size 432x288 with 1 Axes>"
      ]
     },
     "metadata": {
      "needs_background": "light"
     },
     "output_type": "display_data"
    },
    {
     "data": {
      "image/png": "[encoded data removed]",
      "text/plain": [
       "<Figure size 432x288 with 1 Axes>"
      ]
     },
     "metadata": {
      "needs_background": "light"
     },
     "output_type": "display_data"
    },
    {
     "data": {
      "image/png": "[encoded data removed]",
      "text/plain": [
       "<Figure size 432x288 with 1 Axes>"
      ]
     },
     "metadata": {
      "needs_background": "light"
     },
     "output_type": "display_data"
    }
   ],
   "source": [
    "plot_model_doc_dists(tm_train, 15, [tm_lda, tm_pam],[lda_topic_id_converter,pam_topic_id_converter], [\"LDA\",\"PAM\"])"
   ]
  },
  {
   "cell_type": "markdown",
   "id": "typical-jesus",
   "metadata": {},
   "source": [
    "# <div class=\"alert alert-block alert-info\">6. Conclusion </div> <a class=\"anchor\" id=\"Conclusion\"></a>"
   ]
  },
  {
   "cell_type": "markdown",
   "id": "animated-piece",
   "metadata": {},
   "source": [
    "In this notebook we went over the theory of 2 topic modeling techniques, the LDA and PAM. We had to observe, clean, transform and lemmatize the text inside the datasets to make use of them in our models. \n",
    "<br>\n",
    "We saw and learned part of the theory behind LDA, a subject of many research papers that  and Pachinko allocation, a mixture model that uses a DAG structure to capture arbitrary topic correlations. Each leaf in the DAG is associated with a word in the vocabulary, and each interior node corresponds to a topic that models the correlation among its children, where topics can be not only parents of words, but also other topics.\n",
    "<br>\n",
    "Given the same dataset and respectable amount of iterations, LDA model showed better results when tested on the training dataset."
   ]
  },
  {
   "cell_type": "markdown",
   "id": "essential-switch",
   "metadata": {},
   "source": [
    "## Future work"
   ]
  },
  {
   "cell_type": "markdown",
   "id": "alive-aspect",
   "metadata": {},
   "source": [
    "Future plans for this notebook include `infer(doc)` method for the LDA model that will allow us to make a new distribution for a never before seen document. I will continue comparing the 2 models and believe that the Pachinko model is capable of more than what was shown in this comparison and test the models on different datasets."
   ]
  },
  {
   "cell_type": "markdown",
   "id": "sharp-simulation",
   "metadata": {},
   "source": [
    "# Sources"
   ]
  },
  {
   "cell_type": "markdown",
   "id": "given-neighbor",
   "metadata": {},
   "source": [
    "https://towardsdatascience.com/end-to-end-topic-modeling-in-python-latent-dirichlet-allocation-lda-35ce4ed6b3e0\n",
    "\n",
    "https://en.wikipedia.org/wiki/Topic_model\n",
    "\n",
    "\n",
    "https://www.jmlr.org/papers/volume3/blei03a/blei03a.pdf\n",
    "\n",
    "\n",
    "https://towardsdatascience.com/latent-dirichlet-allocation-lda-9d1cd064ffa2\n",
    "\n",
    "\n",
    "https://www.depends-on-the-definition.com/lda-from-scratch/\n",
    "\n",
    "\n",
    "https://www.studytonight.com/advanced-data-structures/introduction-to-graphs\n",
    "\n",
    "\n",
    "http://www.saf21.eu/wp-content/uploads/2018/02/Selecting-Priors-for-Latent-Dirichlet-Allocation.pdf\n",
    "\n",
    "\n",
    "https://github.com/bab2min/tomotopy/blob/main/examples/lda_basic.py\n",
    "\n",
    "\n",
    "https://bab2min.github.io/tomotopy/v0.12.1/en/\n",
    "\n",
    "https://people.cs.umass.edu/~mccallum/papers/pam-icml06.pdf\n",
    "\n",
    "https://blog.bitext.com/lemmatization-to-enhance-topic-modeling-results\n",
    "\n",
    "https://www.datacamp.com/community/tutorials/stemming-lemmatization-python"
   ]
  },
  {
   "cell_type": "code",
   "execution_count": null,
   "id": "moderate-pixel",
   "metadata": {},
   "outputs": [],
   "source": []
  }
 ],
 "metadata": {
  "kernelspec": {
   "display_name": "Python 3 (ipykernel)",
   "language": "python",
   "name": "python3"
  },
  "language_info": {
   "codemirror_mode": {
    "name": "ipython",
    "version": 3
   },
   "file_extension": ".py",
   "mimetype": "text/x-python",
   "name": "python",
   "nbconvert_exporter": "python",
   "pygments_lexer": "ipython3",
   "version": "3.9.5"
  }
 },
 "nbformat": 4,
 "nbformat_minor": 5
}
